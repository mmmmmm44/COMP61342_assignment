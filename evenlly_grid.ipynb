{
 "cells": [
  {
   "cell_type": "code",
   "execution_count": null,
   "metadata": {},
   "outputs": [],
   "source": [
    "from pycocotools.coco import COCO\n",
    "import numpy as np\n",
    "import matplotlib.pyplot as plt\n",
    "from pathlib import Path"
   ]
  },
  {
   "cell_type": "code",
   "execution_count": null,
   "metadata": {},
   "outputs": [
    {
     "name": "stdout",
     "output_type": "stream",
     "text": []
    }
   ],
   "source": [
    "data_type = 'val2017'\n",
    "ann_file = 'dataset/coco/annotations/instances_{}.json'.format(data_type)\n",
    "\n",
    "coco = COCO(ann_file)"
   ]
  },
  {
   "cell_type": "code",
   "execution_count": null,
   "metadata": {},
   "outputs": [],
   "source": [
    "img_id = coco.getImgIds(imgIds=[324158])\n",
    "img = coco.loadImgs(img_id)[0]"
   ]
  },
  {
   "cell_type": "code",
   "execution_count": null,
   "metadata": {},
   "outputs": [
    {
     "name": "stdout",
     "output_type": "stream",
     "text": []
    }
   ],
   "source": [
    "import skimage.io as io\n",
    "\n",
    "img = io.imread(img['coco_url'])\n",
    "plt.axis('off')\n",
    "plt.imshow(img)\n",
    "plt.show()"
   ]
  },
  {
   "cell_type": "code",
   "execution_count": null,
   "metadata": {},
   "outputs": [
    {
     "name": "stdout",
     "output_type": "stream",
     "text": []
    }
   ],
   "source": [
    "img.shape"
   ]
  },
  {
   "cell_type": "code",
   "execution_count": null,
   "metadata": {},
   "outputs": [
    {
     "name": "stdout",
     "output_type": "stream",
     "text": []
    }
   ],
   "source": [
    "# attempt to use SIFT\n",
    "\n",
    "import cv2\n",
    "\n",
    "sift = cv2.SIFT_create()\n",
    "img_gray = cv2.cvtColor(img, cv2.COLOR_RGB2GRAY)\n",
    "kp, des = sift.detectAndCompute(img_gray, None)\n",
    "img_kp = cv2.drawKeypoints(img, kp, None, flags=cv2.DRAW_MATCHES_FLAGS_DRAW_RICH_KEYPOINTS)\n",
    "plt.axis('off')\n",
    "plt.imshow(img_kp)\n",
    "plt.show()"
   ]
  },
  {
   "cell_type": "markdown",
   "metadata": {},
   "source": [
    "---"
   ]
  },
  {
   "cell_type": "markdown",
   "metadata": {},
   "source": [
    "even grid implementation"
   ]
  },
  {
   "cell_type": "code",
   "execution_count": 7,
   "metadata": {},
   "outputs": [],
   "source": [
    "import numpy as np\n",
    "\n",
    "def find_grid(hgt, wid, grid_spacing, patch_size):\n",
    "    \"\"\"\n",
    "    Create a grid of upper-left patch corners.\n",
    "    \n",
    "    Parameters:\n",
    "        hgt (int): Height of the image/grid.\n",
    "        wid (int): Width of the image/grid.\n",
    "        grid_spacing (int): Spacing between patches.\n",
    "        patch_size (int): Size of the patch.\n",
    "    \n",
    "    Returns:\n",
    "        grid_x (numpy.ndarray): X-coordinates of the grid.\n",
    "        grid_y (numpy.ndarray): Y-coordinates of the grid.\n",
    "    \"\"\"\n",
    "    rem_x = (wid - patch_size) % grid_spacing\n",
    "    offset_x = (rem_x // 2) + 1\n",
    "    rem_y = (hgt - patch_size) % grid_spacing\n",
    "    offset_y = (rem_y // 2) + 1\n",
    "    \n",
    "    grid_x, grid_y = np.meshgrid(\n",
    "        np.arange(offset_x, wid - patch_size + 1, grid_spacing),\n",
    "        np.arange(offset_y, hgt - patch_size + 1, grid_spacing)\n",
    "    )\n",
    "    \n",
    "    return grid_x, grid_y"
   ]
  },
  {
   "cell_type": "code",
   "execution_count": 8,
   "metadata": {},
   "outputs": [
    {
     "name": "stdout",
     "output_type": "stream",
     "text": []
    }
   ],
   "source": [
    "patch_size = 64\n",
    "grid_spacing = 32\n",
    "\n",
    "grid_x, grid_y = find_grid(img.shape[0], img.shape[1], grid_spacing, patch_size)\n",
    "grid_x, grid_y"
   ]
  },
  {
   "cell_type": "code",
   "execution_count": 9,
   "metadata": {},
   "outputs": [
    {
     "name": "stdout",
     "output_type": "stream",
     "text": []
    },
    {
     "name": "stdout",
     "output_type": "stream",
     "text": []
    }
   ],
   "source": [
    "# define the keypoints from the grids\n",
    "# we take the center of each grid as the keypoint coordinate\n",
    "\n",
    "def generate_keypoints_from_grid(grid_x, grid_y):\n",
    "    keypoints = []\n",
    "    for i in range(grid_x.shape[0]):\n",
    "        for j in range(grid_x.shape[1]):\n",
    "            keypoints.append(np.array([grid_x[i, j] + patch_size / 2.0, grid_y[i, j] + patch_size // 2.0]))\n",
    "    return np.array(keypoints, dtype=np.float32)\n",
    "\n",
    "keypoints = generate_keypoints_from_grid(grid_x, grid_y)\n",
    "custom_keypoints = cv2.KeyPoint_convert(keypoints, size=patch_size, octave=0, class_id=-1)\n",
    "plt.imshow(\n",
    "    cv2.drawKeypoints(img, custom_keypoints, None, flags=cv2.DRAW_MATCHES_FLAGS_DRAW_RICH_KEYPOINTS)\n",
    ")\n"
   ]
  },
  {
   "cell_type": "code",
   "execution_count": 10,
   "metadata": {},
   "outputs": [],
   "source": [
    "def unpack_octave(octave):\n",
    "    _octave = octave & 255\n",
    "    layer = (octave >> 8) & 255\n",
    "    _octave = _octave if _octave < 128 else (-128 | _octave)\n",
    "    scale = 1.0 / (1 << _octave) if _octave >= 0 else float(1 << -_octave)\n",
    "    \n",
    "    return _octave, layer, scale"
   ]
  },
  {
   "cell_type": "code",
   "execution_count": 11,
   "metadata": {},
   "outputs": [
    {
     "name": "stdout",
     "output_type": "stream",
     "text": []
    }
   ],
   "source": [
    "custom_keypoints[0].pt, custom_keypoints[0].size, custom_keypoints[0].angle, custom_keypoints[0].octave, custom_keypoints[0].response"
   ]
  },
  {
   "cell_type": "code",
   "execution_count": 12,
   "metadata": {},
   "outputs": [
    {
     "name": "stdout",
     "output_type": "stream",
     "text": []
    }
   ],
   "source": [
    "unpack_octave(custom_keypoints[0].octave)"
   ]
  },
  {
   "cell_type": "code",
   "execution_count": 13,
   "metadata": {},
   "outputs": [
    {
     "name": "stdout",
     "output_type": "stream",
     "text": []
    }
   ],
   "source": [
    "custom_keypoints_after, des_after = sift.compute(img, custom_keypoints)\n",
    "plt.imshow(\n",
    "    cv2.drawKeypoints(img, custom_keypoints_after, None, flags=cv2.DRAW_MATCHES_FLAGS_DRAW_RICH_KEYPOINTS)\n",
    ")\n",
    "plt.show()"
   ]
  },
  {
   "cell_type": "code",
   "execution_count": 14,
   "metadata": {},
   "outputs": [
    {
     "name": "stdout",
     "output_type": "stream",
     "text": []
    }
   ],
   "source": [
    "custom_keypoints_after[0].pt, custom_keypoints_after[0].size, custom_keypoints_after[0].angle, custom_keypoints_after[0].octave, custom_keypoints_after[0].response"
   ]
  },
  {
   "cell_type": "markdown",
   "metadata": {},
   "source": [
    "---"
   ]
  },
  {
   "cell_type": "markdown",
   "metadata": {},
   "source": [
    "Using pysift as the starting point"
   ]
  },
  {
   "cell_type": "code",
   "execution_count": 15,
   "metadata": {},
   "outputs": [
    {
     "name": "stdout",
     "output_type": "stream",
     "text": []
    }
   ],
   "source": [
    "patch_size = 64\n",
    "grid_spacing = 32\n",
    "\n",
    "grid_x, grid_y = find_grid(img.shape[0], img.shape[1], grid_spacing, patch_size)\n",
    "grid_x, grid_y"
   ]
  },
  {
   "cell_type": "code",
   "execution_count": 16,
   "metadata": {},
   "outputs": [
    {
     "name": "stdout",
     "output_type": "stream",
     "text": []
    },
    {
     "name": "stdout",
     "output_type": "stream",
     "text": []
    }
   ],
   "source": [
    "# define the keypoints from the grids\n",
    "# we take the center of each grid as the keypoint coordinate\n",
    "\n",
    "def generate_keypoints_from_grid(grid_x, grid_y):\n",
    "    keypoints = []\n",
    "    for i in range(grid_x.shape[0]):\n",
    "        for j in range(grid_x.shape[1]):\n",
    "            keypoints.append(np.array([grid_x[i, j] + patch_size / 2.0, grid_y[i, j] + patch_size // 2.0]))\n",
    "    return np.array(keypoints, dtype=np.float32)\n",
    "\n",
    "keypoints = generate_keypoints_from_grid(grid_x, grid_y)\n",
    "custom_keypoints = cv2.KeyPoint_convert(keypoints, size=patch_size, octave=0, class_id=-1)\n",
    "plt.imshow(\n",
    "    cv2.drawKeypoints(img, custom_keypoints, None, flags=cv2.DRAW_MATCHES_FLAGS_DRAW_RICH_KEYPOINTS)\n",
    ")"
   ]
  },
  {
   "cell_type": "code",
   "execution_count": null,
   "metadata": {},
   "outputs": [],
   "source": [
    "# compute SIFT descriptors using custom keypoints and pysift implementation\n",
    "\n",
    "import numpy as np\n",
    "import cv2\n",
    "\n",
    "import importlib\n",
    "from PythonSIFT import pysift\n",
    "importlib.reload(pysift)\n",
    "\n",
    "import tqdm\n",
    "\n",
    "def compute_descriptors_for_keypoints(image, keypoints, sigma=1.6, num_intervals=3, assumed_blur=0.5):\n",
    "    \"\"\"\n",
    "    Compute SIFT descriptors for pre-defined keypoints using the pysift implementation.\n",
    "    \n",
    "    Args:\n",
    "        image: Input image\n",
    "        keypoints: List of cv2.KeyPoint objects with pre-defined positions and sizes\n",
    "        sigma: Standard deviation of base Gaussian blur\n",
    "        num_intervals: Number of intervals per octave\n",
    "        assumed_blur: Assumed blur in the input image\n",
    "        \n",
    "    Returns:\n",
    "        keypoints_with_orientations: The input keypoints with orientations assigned\n",
    "        descriptors: SIFT descriptors for each keypoint\n",
    "    \"\"\"\n",
    "    # Prepare the image and generate Gaussian pyramid\n",
    "    image = image.astype('float32')\n",
    "    base_image = pysift.generateBaseImage(image, sigma, assumed_blur)\n",
    "    num_octaves = pysift.computeNumberOfOctaves(base_image.shape)\n",
    "    gaussian_kernels = pysift.generateGaussianKernels(sigma, num_intervals)\n",
    "    gaussian_images = pysift.generateGaussianImages(base_image, num_octaves, gaussian_kernels)\n",
    "    \n",
    "    # Scale keypoints to the base image size (2x upsampled)\n",
    "    scaled_keypoints = []\n",
    "    for keypoint in keypoints:\n",
    "        scaled_keypoint = cv2.KeyPoint(\n",
    "            keypoint.pt[0] * 2, keypoint.pt[1] * 2,\n",
    "            keypoint.size * 2, keypoint.angle, keypoint.response, keypoint.octave, keypoint.class_id\n",
    "        )\n",
    "        scaled_keypoints.append(scaled_keypoint)\n",
    "    \n",
    "    # Compute orientations for all keypoints\n",
    "    keypoints_with_orientations = []\n",
    "    # for keypoint in scaled_keypoints:\n",
    "    for keypoint in tqdm(scaled_keypoints):\n",
    "        # For all keypoints, compute orientation using the base octave\n",
    "        octave_index = 0\n",
    "        layer = 0  # First layer\n",
    "        \n",
    "        oriented_keypoints = pysift.computeKeypointsWithOrientations(\n",
    "            keypoint, octave_index, gaussian_images[octave_index][layer]\n",
    "        )\n",
    "        keypoints_with_orientations.extend(oriented_keypoints)\n",
    "    \n",
    "    # Convert keypoints back to original image size\n",
    "    for keypoint in keypoints_with_orientations:\n",
    "        keypoint.pt = (keypoint.pt[0] * 0.5, keypoint.pt[1] * 0.5)\n",
    "        keypoint.size *= 0.5\n",
    "    \n",
    "    # Compute descriptors\n",
    "    descriptors = pysift.generateDescriptors(keypoints_with_orientations, gaussian_images)\n",
    "    \n",
    "    return keypoints_with_orientations, descriptors"
   ]
  },
  {
   "cell_type": "code",
   "execution_count": null,
   "metadata": {},
   "outputs": [],
   "source": [
    "keypoints_with_orientations, descriptors = compute_descriptors_for_keypoints(\n",
    "    img_gray, custom_keypoints, sigma=1.6, num_intervals=3, assumed_blur=0.5\n",
    ")"
   ]
  },
  {
   "cell_type": "markdown",
   "metadata": {},
   "source": [
    "---"
   ]
  },
  {
   "cell_type": "code",
   "execution_count": 9,
   "metadata": {},
   "outputs": [
    {
     "name": "stdout",
     "output_type": "stream",
     "text": []
    }
   ],
   "source": [
    "# attempt to use SIFT on the grid\n",
    "grid_kp = []\n",
    "grid_des = []\n",
    "for i in range(len(grid_x)):\n",
    "    _kps = []\n",
    "    _des = []\n",
    "    for j in range(len(grid_x[0])):\n",
    "        x = grid_x[i][j]\n",
    "        y = grid_y[i][j]\n",
    "        patch = img[y:y+32, x:x+32]\n",
    "        kp, des = sift.detectAndCompute(patch, None)\n",
    "        _kps.append(kp)\n",
    "        _des.append(des)\n",
    "    grid_kp.append(_kps)\n",
    "    grid_des.append(_des)\n",
    "\n",
    "# show the keypoints\n",
    "img_kp = img.copy()\n",
    "for i in range(len(grid_kp)):\n",
    "    for j in range(len(grid_kp[i])):\n",
    "        x = grid_x[i][j]\n",
    "        y = grid_y[i][j]\n",
    "        img_kp[y:y+32, x:x+32] = cv2.drawKeypoints(img[y:y+32, x:x+32], grid_kp[i][j], None, flags=cv2.DRAW_MATCHES_FLAGS_DRAW_RICH_KEYPOINTS)\n",
    "plt.axis('off')\n",
    "plt.imshow(img_kp)\n",
    "plt.show()"
   ]
  },
  {
   "cell_type": "markdown",
   "metadata": {},
   "source": [
    "---"
   ]
  }
 ],
 "metadata": {
  "kernelspec": {
   "display_name": "comp61342_asm",
   "language": "python",
   "name": "python3"
  },
  "language_info": {
   "codemirror_mode": {
    "name": "ipython",
    "version": 3
   },
   "file_extension": ".py",
   "mimetype": "text/x-python",
   "name": "python",
   "nbconvert_exporter": "python",
   "pygments_lexer": "ipython3",
   "version": "3.11.11"
  }
 },
 "nbformat": 4,
 "nbformat_minor": 2
}
