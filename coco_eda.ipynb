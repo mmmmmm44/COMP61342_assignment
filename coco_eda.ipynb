{
 "cells": [
  {
   "cell_type": "markdown",
   "id": "4fdafa64",
   "metadata": {},
   "source": [
    "EDA on COCO (for SIFT)"
   ]
  },
  {
   "cell_type": "code",
   "execution_count": 1,
   "id": "b2600fb2",
   "metadata": {},
   "outputs": [],
   "source": [
    "from pycocotools.coco import COCO\n",
    "import numpy as np\n",
    "import matplotlib.pyplot as plt"
   ]
  },
  {
   "cell_type": "code",
   "execution_count": 2,
   "id": "013bb9aa",
   "metadata": {},
   "outputs": [],
   "source": [
    "train2017 = 'train2017'\n",
    "val2017 = 'val2017'\n",
    "ann_file = 'dataset/coco/annotations/instances_{}.json'"
   ]
  },
  {
   "cell_type": "code",
   "execution_count": 3,
   "id": "d9f7c36f",
   "metadata": {},
   "outputs": [],
   "source": [
    "def get_coco_images_and_labels(coco):\n",
    "\n",
    "    # get all filenames\n",
    "    img_ids_w_filename = {coco.dataset['images'][i]['id']: coco.dataset['images'][i]['file_name'] for i in range(len(coco.dataset['images']))}      # use dictionary for faster query\n",
    "\n",
    "    # get all images\n",
    "    img_ids = [coco.dataset['images'][i]['id'] for i in range(len(coco.dataset['images']))]\n",
    "\n",
    "    # load labels for each imgs (as one img may have multiple labels)\n",
    "    labels_per_imgs = []\n",
    "    for i in range(len(img_ids)):\n",
    "        labels_per_imgs.append(coco.loadAnns(coco.getAnnIds(imgIds=img_ids[i])))\n",
    "\n",
    "    img_id_w_bb = []\n",
    "    label_per_obj = []\n",
    "\n",
    "    for labels in labels_per_imgs:\n",
    "        for l in labels:\n",
    "            img_id_w_bb.append((l['id'], l['image_id'], l['bbox']))\n",
    "            label_per_obj.append(l['category_id'])\n",
    "\n",
    "    return img_ids_w_filename, img_id_w_bb, label_per_obj"
   ]
  },
  {
   "cell_type": "code",
   "execution_count": 4,
   "id": "95781eb6",
   "metadata": {},
   "outputs": [
    {
     "name": "stdout",
     "output_type": "stream",
     "text": [
      "loading annotations into memory...\n",
      "Done (t=7.40s)\n",
      "creating index...\n",
      "index created!\n",
      "loading annotations into memory...\n",
      "Done (t=0.26s)\n",
      "creating index...\n",
      "index created!\n"
     ]
    }
   ],
   "source": [
    "coco_train = COCO(ann_file.format(train2017))\n",
    "coco_val = COCO(ann_file.format(val2017))\n",
    "\n",
    "img_ids_w_filename_train, img_id_w_bb_train, label_per_obj_train = get_coco_images_and_labels(coco_train)\n",
    "img_ids_w_filename_val, img_id_w_bb_val, label_per_obj_val = get_coco_images_and_labels(coco_val)"
   ]
  },
  {
   "cell_type": "code",
   "execution_count": 5,
   "id": "5a1985ae",
   "metadata": {},
   "outputs": [],
   "source": [
    "# all categories (with ids)\n",
    "cats = coco_train.loadCats(coco_train.getCatIds())"
   ]
  },
  {
   "cell_type": "code",
   "execution_count": 6,
   "id": "5d952cf3",
   "metadata": {},
   "outputs": [
    {
     "data": {
      "text/plain": [
       "[{'supercategory': 'person', 'id': 1, 'name': 'person'},\n",
       " {'supercategory': 'vehicle', 'id': 2, 'name': 'bicycle'},\n",
       " {'supercategory': 'vehicle', 'id': 3, 'name': 'car'},\n",
       " {'supercategory': 'vehicle', 'id': 4, 'name': 'motorcycle'},\n",
       " {'supercategory': 'vehicle', 'id': 5, 'name': 'airplane'},\n",
       " {'supercategory': 'vehicle', 'id': 6, 'name': 'bus'},\n",
       " {'supercategory': 'vehicle', 'id': 7, 'name': 'train'},\n",
       " {'supercategory': 'vehicle', 'id': 8, 'name': 'truck'},\n",
       " {'supercategory': 'vehicle', 'id': 9, 'name': 'boat'},\n",
       " {'supercategory': 'outdoor', 'id': 10, 'name': 'traffic light'},\n",
       " {'supercategory': 'outdoor', 'id': 11, 'name': 'fire hydrant'},\n",
       " {'supercategory': 'outdoor', 'id': 13, 'name': 'stop sign'},\n",
       " {'supercategory': 'outdoor', 'id': 14, 'name': 'parking meter'},\n",
       " {'supercategory': 'outdoor', 'id': 15, 'name': 'bench'},\n",
       " {'supercategory': 'animal', 'id': 16, 'name': 'bird'},\n",
       " {'supercategory': 'animal', 'id': 17, 'name': 'cat'},\n",
       " {'supercategory': 'animal', 'id': 18, 'name': 'dog'},\n",
       " {'supercategory': 'animal', 'id': 19, 'name': 'horse'},\n",
       " {'supercategory': 'animal', 'id': 20, 'name': 'sheep'},\n",
       " {'supercategory': 'animal', 'id': 21, 'name': 'cow'},\n",
       " {'supercategory': 'animal', 'id': 22, 'name': 'elephant'},\n",
       " {'supercategory': 'animal', 'id': 23, 'name': 'bear'},\n",
       " {'supercategory': 'animal', 'id': 24, 'name': 'zebra'},\n",
       " {'supercategory': 'animal', 'id': 25, 'name': 'giraffe'},\n",
       " {'supercategory': 'accessory', 'id': 27, 'name': 'backpack'},\n",
       " {'supercategory': 'accessory', 'id': 28, 'name': 'umbrella'},\n",
       " {'supercategory': 'accessory', 'id': 31, 'name': 'handbag'},\n",
       " {'supercategory': 'accessory', 'id': 32, 'name': 'tie'},\n",
       " {'supercategory': 'accessory', 'id': 33, 'name': 'suitcase'},\n",
       " {'supercategory': 'sports', 'id': 34, 'name': 'frisbee'},\n",
       " {'supercategory': 'sports', 'id': 35, 'name': 'skis'},\n",
       " {'supercategory': 'sports', 'id': 36, 'name': 'snowboard'},\n",
       " {'supercategory': 'sports', 'id': 37, 'name': 'sports ball'},\n",
       " {'supercategory': 'sports', 'id': 38, 'name': 'kite'},\n",
       " {'supercategory': 'sports', 'id': 39, 'name': 'baseball bat'},\n",
       " {'supercategory': 'sports', 'id': 40, 'name': 'baseball glove'},\n",
       " {'supercategory': 'sports', 'id': 41, 'name': 'skateboard'},\n",
       " {'supercategory': 'sports', 'id': 42, 'name': 'surfboard'},\n",
       " {'supercategory': 'sports', 'id': 43, 'name': 'tennis racket'},\n",
       " {'supercategory': 'kitchen', 'id': 44, 'name': 'bottle'},\n",
       " {'supercategory': 'kitchen', 'id': 46, 'name': 'wine glass'},\n",
       " {'supercategory': 'kitchen', 'id': 47, 'name': 'cup'},\n",
       " {'supercategory': 'kitchen', 'id': 48, 'name': 'fork'},\n",
       " {'supercategory': 'kitchen', 'id': 49, 'name': 'knife'},\n",
       " {'supercategory': 'kitchen', 'id': 50, 'name': 'spoon'},\n",
       " {'supercategory': 'kitchen', 'id': 51, 'name': 'bowl'},\n",
       " {'supercategory': 'food', 'id': 52, 'name': 'banana'},\n",
       " {'supercategory': 'food', 'id': 53, 'name': 'apple'},\n",
       " {'supercategory': 'food', 'id': 54, 'name': 'sandwich'},\n",
       " {'supercategory': 'food', 'id': 55, 'name': 'orange'},\n",
       " {'supercategory': 'food', 'id': 56, 'name': 'broccoli'},\n",
       " {'supercategory': 'food', 'id': 57, 'name': 'carrot'},\n",
       " {'supercategory': 'food', 'id': 58, 'name': 'hot dog'},\n",
       " {'supercategory': 'food', 'id': 59, 'name': 'pizza'},\n",
       " {'supercategory': 'food', 'id': 60, 'name': 'donut'},\n",
       " {'supercategory': 'food', 'id': 61, 'name': 'cake'},\n",
       " {'supercategory': 'furniture', 'id': 62, 'name': 'chair'},\n",
       " {'supercategory': 'furniture', 'id': 63, 'name': 'couch'},\n",
       " {'supercategory': 'furniture', 'id': 64, 'name': 'potted plant'},\n",
       " {'supercategory': 'furniture', 'id': 65, 'name': 'bed'},\n",
       " {'supercategory': 'furniture', 'id': 67, 'name': 'dining table'},\n",
       " {'supercategory': 'furniture', 'id': 70, 'name': 'toilet'},\n",
       " {'supercategory': 'electronic', 'id': 72, 'name': 'tv'},\n",
       " {'supercategory': 'electronic', 'id': 73, 'name': 'laptop'},\n",
       " {'supercategory': 'electronic', 'id': 74, 'name': 'mouse'},\n",
       " {'supercategory': 'electronic', 'id': 75, 'name': 'remote'},\n",
       " {'supercategory': 'electronic', 'id': 76, 'name': 'keyboard'},\n",
       " {'supercategory': 'electronic', 'id': 77, 'name': 'cell phone'},\n",
       " {'supercategory': 'appliance', 'id': 78, 'name': 'microwave'},\n",
       " {'supercategory': 'appliance', 'id': 79, 'name': 'oven'},\n",
       " {'supercategory': 'appliance', 'id': 80, 'name': 'toaster'},\n",
       " {'supercategory': 'appliance', 'id': 81, 'name': 'sink'},\n",
       " {'supercategory': 'appliance', 'id': 82, 'name': 'refrigerator'},\n",
       " {'supercategory': 'indoor', 'id': 84, 'name': 'book'},\n",
       " {'supercategory': 'indoor', 'id': 85, 'name': 'clock'},\n",
       " {'supercategory': 'indoor', 'id': 86, 'name': 'vase'},\n",
       " {'supercategory': 'indoor', 'id': 87, 'name': 'scissors'},\n",
       " {'supercategory': 'indoor', 'id': 88, 'name': 'teddy bear'},\n",
       " {'supercategory': 'indoor', 'id': 89, 'name': 'hair drier'},\n",
       " {'supercategory': 'indoor', 'id': 90, 'name': 'toothbrush'}]"
      ]
     },
     "execution_count": 6,
     "metadata": {},
     "output_type": "execute_result"
    }
   ],
   "source": [
    "cats"
   ]
  },
  {
   "cell_type": "markdown",
   "id": "448977e9",
   "metadata": {},
   "source": [
    "Label distribution"
   ]
  },
  {
   "cell_type": "code",
   "execution_count": 7,
   "id": "d7bcc356",
   "metadata": {},
   "outputs": [
    {
     "data": {
      "image/png": "[encoded data removed]",
      "text/plain": [
       "<Figure size 1600x900 with 1 Axes>"
      ]
     },
     "metadata": {},
     "output_type": "display_data"
    }
   ],
   "source": [
    "# plot a graph to see the distribution of labels\n",
    "# with xticks as the category names\n",
    "\n",
    "# all categories (with ids)\n",
    "cats = coco_train.loadCats(coco_train.getCatIds())\n",
    "\n",
    "def plot_distribution(labels, title):\n",
    "    unique, counts = np.unique(labels, return_counts=True)\n",
    "    plt.figure(figsize=(16,9))\n",
    "    plt.bar(unique, counts)\n",
    "    plt.title(title)\n",
    "    plt.xlabel('Labels')\n",
    "    plt.ylabel('Counts')\n",
    "    plt.xticks(unique, [c['name'] for c in cats], rotation=90)\n",
    "    plt.show()\n",
    "plot_distribution(label_per_obj_train, 'Train Labels Distribution')"
   ]
  },
  {
   "cell_type": "code",
   "execution_count": 8,
   "id": "601d4e2f",
   "metadata": {},
   "outputs": [
    {
     "data": {
      "image/png": "[encoded data removed]",
      "text/plain": [
       "<Figure size 1600x900 with 1 Axes>"
      ]
     },
     "metadata": {},
     "output_type": "display_data"
    }
   ],
   "source": [
    "plot_distribution(label_per_obj_val, 'Validation Labels Distribution')"
   ]
  },
  {
   "cell_type": "markdown",
   "id": "f554f3b2",
   "metadata": {},
   "source": [
    "Top N labels, and their distribution"
   ]
  },
  {
   "cell_type": "code",
   "execution_count": 9,
   "id": "d6fed7dc",
   "metadata": {},
   "outputs": [],
   "source": [
    "# create a dataframe to store the counts of the labels, and the corresponding names\n",
    "\n",
    "import pandas as pd\n",
    "\n",
    "df_train = pd.DataFrame(columns=['category_id', 'category_name', 'count'])\n",
    "df_train['category_id'] = [cat['id'] for cat in cats]\n",
    "df_train['category_name'] = [cat['name'] for cat in cats]\n",
    "df_train['count'] = 0\n",
    "\n",
    "unique, counts = np.unique(label_per_obj_train, return_counts=True)\n",
    "for i in range(len(unique)):\n",
    "    df_train.loc[df_train['category_id'] == unique[i], 'count'] = counts[i]\n",
    "\n",
    "df_train = df_train.sort_values(by='count', ascending=False)\n",
    "df_train = df_train.reset_index(drop=True)\n"
   ]
  },
  {
   "cell_type": "code",
   "execution_count": 10,
   "id": "6ac91f6d",
   "metadata": {},
   "outputs": [
    {
     "data": {
      "application/vnd.microsoft.datawrangler.viewer.v0+json": {
       "columns": [
        {
         "name": "index",
         "rawType": "int64",
         "type": "integer"
        },
        {
         "name": "category_id",
         "rawType": "int64",
         "type": "integer"
        },
        {
         "name": "category_name",
         "rawType": "object",
         "type": "string"
        },
        {
         "name": "count",
         "rawType": "int64",
         "type": "integer"
        }
       ],
       "conversionMethod": "pd.DataFrame",
       "ref": "3e2bd91a-0f77-45fa-90fc-d5af0afb40d1",
       "rows": [
        [
         "0",
         "1",
         "person",
         "262465"
        ],
        [
         "1",
         "3",
         "car",
         "43867"
        ],
        [
         "2",
         "62",
         "chair",
         "38491"
        ],
        [
         "3",
         "84",
         "book",
         "24715"
        ],
        [
         "4",
         "44",
         "bottle",
         "24342"
        ],
        [
         "5",
         "47",
         "cup",
         "20650"
        ],
        [
         "6",
         "67",
         "dining table",
         "15714"
        ],
        [
         "7",
         "51",
         "bowl",
         "14358"
        ],
        [
         "8",
         "10",
         "traffic light",
         "12884"
        ],
        [
         "9",
         "31",
         "handbag",
         "12354"
        ],
        [
         "10",
         "28",
         "umbrella",
         "11431"
        ],
        [
         "11",
         "16",
         "bird",
         "10806"
        ],
        [
         "12",
         "9",
         "boat",
         "10759"
        ],
        [
         "13",
         "8",
         "truck",
         "9973"
        ],
        [
         "14",
         "15",
         "bench",
         "9838"
        ],
        [
         "15",
         "20",
         "sheep",
         "9509"
        ],
        [
         "16",
         "52",
         "banana",
         "9458"
        ],
        [
         "17",
         "38",
         "kite",
         "9076"
        ],
        [
         "18",
         "4",
         "motorcycle",
         "8725"
        ],
        [
         "19",
         "27",
         "backpack",
         "8720"
        ],
        [
         "20",
         "64",
         "potted plant",
         "8652"
        ],
        [
         "21",
         "21",
         "cow",
         "8147"
        ],
        [
         "22",
         "46",
         "wine glass",
         "7913"
        ],
        [
         "23",
         "57",
         "carrot",
         "7852"
        ],
        [
         "24",
         "49",
         "knife",
         "7770"
        ],
        [
         "25",
         "56",
         "broccoli",
         "7308"
        ],
        [
         "26",
         "60",
         "donut",
         "7179"
        ],
        [
         "27",
         "2",
         "bicycle",
         "7113"
        ],
        [
         "28",
         "35",
         "skis",
         "6646"
        ],
        [
         "29",
         "86",
         "vase",
         "6613"
        ]
       ],
       "shape": {
        "columns": 3,
        "rows": 30
       }
      },
      "text/html": [
       "<div>\n",
       "<style scoped>\n",
       "    .dataframe tbody tr th:only-of-type {\n",
       "        vertical-align: middle;\n",
       "    }\n",
       "\n",
       "    .dataframe tbody tr th {\n",
       "        vertical-align: top;\n",
       "    }\n",
       "\n",
       "    .dataframe thead th {\n",
       "        text-align: right;\n",
       "    }\n",
       "</style>\n",
       "<table border=\"1\" class=\"dataframe\">\n",
       "  <thead>\n",
       "    <tr style=\"text-align: right;\">\n",
       "      <th></th>\n",
       "      <th>category_id</th>\n",
       "      <th>category_name</th>\n",
       "      <th>count</th>\n",
       "    </tr>\n",
       "  </thead>\n",
       "  <tbody>\n",
       "    <tr>\n",
       "      <th>0</th>\n",
       "      <td>1</td>\n",
       "      <td>person</td>\n",
       "      <td>262465</td>\n",
       "    </tr>\n",
       "    <tr>\n",
       "      <th>1</th>\n",
       "      <td>3</td>\n",
       "      <td>car</td>\n",
       "      <td>43867</td>\n",
       "    </tr>\n",
       "    <tr>\n",
       "      <th>2</th>\n",
       "      <td>62</td>\n",
       "      <td>chair</td>\n",
       "      <td>38491</td>\n",
       "    </tr>\n",
       "    <tr>\n",
       "      <th>3</th>\n",
       "      <td>84</td>\n",
       "      <td>book</td>\n",
       "      <td>24715</td>\n",
       "    </tr>\n",
       "    <tr>\n",
       "      <th>4</th>\n",
       "      <td>44</td>\n",
       "      <td>bottle</td>\n",
       "      <td>24342</td>\n",
       "    </tr>\n",
       "    <tr>\n",
       "      <th>5</th>\n",
       "      <td>47</td>\n",
       "      <td>cup</td>\n",
       "      <td>20650</td>\n",
       "    </tr>\n",
       "    <tr>\n",
       "      <th>6</th>\n",
       "      <td>67</td>\n",
       "      <td>dining table</td>\n",
       "      <td>15714</td>\n",
       "    </tr>\n",
       "    <tr>\n",
       "      <th>7</th>\n",
       "      <td>51</td>\n",
       "      <td>bowl</td>\n",
       "      <td>14358</td>\n",
       "    </tr>\n",
       "    <tr>\n",
       "      <th>8</th>\n",
       "      <td>10</td>\n",
       "      <td>traffic light</td>\n",
       "      <td>12884</td>\n",
       "    </tr>\n",
       "    <tr>\n",
       "      <th>9</th>\n",
       "      <td>31</td>\n",
       "      <td>handbag</td>\n",
       "      <td>12354</td>\n",
       "    </tr>\n",
       "    <tr>\n",
       "      <th>10</th>\n",
       "      <td>28</td>\n",
       "      <td>umbrella</td>\n",
       "      <td>11431</td>\n",
       "    </tr>\n",
       "    <tr>\n",
       "      <th>11</th>\n",
       "      <td>16</td>\n",
       "      <td>bird</td>\n",
       "      <td>10806</td>\n",
       "    </tr>\n",
       "    <tr>\n",
       "      <th>12</th>\n",
       "      <td>9</td>\n",
       "      <td>boat</td>\n",
       "      <td>10759</td>\n",
       "    </tr>\n",
       "    <tr>\n",
       "      <th>13</th>\n",
       "      <td>8</td>\n",
       "      <td>truck</td>\n",
       "      <td>9973</td>\n",
       "    </tr>\n",
       "    <tr>\n",
       "      <th>14</th>\n",
       "      <td>15</td>\n",
       "      <td>bench</td>\n",
       "      <td>9838</td>\n",
       "    </tr>\n",
       "    <tr>\n",
       "      <th>15</th>\n",
       "      <td>20</td>\n",
       "      <td>sheep</td>\n",
       "      <td>9509</td>\n",
       "    </tr>\n",
       "    <tr>\n",
       "      <th>16</th>\n",
       "      <td>52</td>\n",
       "      <td>banana</td>\n",
       "      <td>9458</td>\n",
       "    </tr>\n",
       "    <tr>\n",
       "      <th>17</th>\n",
       "      <td>38</td>\n",
       "      <td>kite</td>\n",
       "      <td>9076</td>\n",
       "    </tr>\n",
       "    <tr>\n",
       "      <th>18</th>\n",
       "      <td>4</td>\n",
       "      <td>motorcycle</td>\n",
       "      <td>8725</td>\n",
       "    </tr>\n",
       "    <tr>\n",
       "      <th>19</th>\n",
       "      <td>27</td>\n",
       "      <td>backpack</td>\n",
       "      <td>8720</td>\n",
       "    </tr>\n",
       "    <tr>\n",
       "      <th>20</th>\n",
       "      <td>64</td>\n",
       "      <td>potted plant</td>\n",
       "      <td>8652</td>\n",
       "    </tr>\n",
       "    <tr>\n",
       "      <th>21</th>\n",
       "      <td>21</td>\n",
       "      <td>cow</td>\n",
       "      <td>8147</td>\n",
       "    </tr>\n",
       "    <tr>\n",
       "      <th>22</th>\n",
       "      <td>46</td>\n",
       "      <td>wine glass</td>\n",
       "      <td>7913</td>\n",
       "    </tr>\n",
       "    <tr>\n",
       "      <th>23</th>\n",
       "      <td>57</td>\n",
       "      <td>carrot</td>\n",
       "      <td>7852</td>\n",
       "    </tr>\n",
       "    <tr>\n",
       "      <th>24</th>\n",
       "      <td>49</td>\n",
       "      <td>knife</td>\n",
       "      <td>7770</td>\n",
       "    </tr>\n",
       "    <tr>\n",
       "      <th>25</th>\n",
       "      <td>56</td>\n",
       "      <td>broccoli</td>\n",
       "      <td>7308</td>\n",
       "    </tr>\n",
       "    <tr>\n",
       "      <th>26</th>\n",
       "      <td>60</td>\n",
       "      <td>donut</td>\n",
       "      <td>7179</td>\n",
       "    </tr>\n",
       "    <tr>\n",
       "      <th>27</th>\n",
       "      <td>2</td>\n",
       "      <td>bicycle</td>\n",
       "      <td>7113</td>\n",
       "    </tr>\n",
       "    <tr>\n",
       "      <th>28</th>\n",
       "      <td>35</td>\n",
       "      <td>skis</td>\n",
       "      <td>6646</td>\n",
       "    </tr>\n",
       "    <tr>\n",
       "      <th>29</th>\n",
       "      <td>86</td>\n",
       "      <td>vase</td>\n",
       "      <td>6613</td>\n",
       "    </tr>\n",
       "  </tbody>\n",
       "</table>\n",
       "</div>"
      ],
      "text/plain": [
       "    category_id  category_name   count\n",
       "0             1         person  262465\n",
       "1             3            car   43867\n",
       "2            62          chair   38491\n",
       "3            84           book   24715\n",
       "4            44         bottle   24342\n",
       "5            47            cup   20650\n",
       "6            67   dining table   15714\n",
       "7            51           bowl   14358\n",
       "8            10  traffic light   12884\n",
       "9            31        handbag   12354\n",
       "10           28       umbrella   11431\n",
       "11           16           bird   10806\n",
       "12            9           boat   10759\n",
       "13            8          truck    9973\n",
       "14           15          bench    9838\n",
       "15           20          sheep    9509\n",
       "16           52         banana    9458\n",
       "17           38           kite    9076\n",
       "18            4     motorcycle    8725\n",
       "19           27       backpack    8720\n",
       "20           64   potted plant    8652\n",
       "21           21            cow    8147\n",
       "22           46     wine glass    7913\n",
       "23           57         carrot    7852\n",
       "24           49          knife    7770\n",
       "25           56       broccoli    7308\n",
       "26           60          donut    7179\n",
       "27            2        bicycle    7113\n",
       "28           35           skis    6646\n",
       "29           86           vase    6613"
      ]
     },
     "execution_count": 10,
     "metadata": {},
     "output_type": "execute_result"
    }
   ],
   "source": [
    "df_train.iloc[:30]"
   ]
  },
  {
   "cell_type": "code",
   "execution_count": 18,
   "id": "44ee7668",
   "metadata": {},
   "outputs": [
    {
     "data": {
      "application/vnd.microsoft.datawrangler.viewer.v0+json": {
       "columns": [
        {
         "name": "index",
         "rawType": "int64",
         "type": "integer"
        },
        {
         "name": "category_id",
         "rawType": "int64",
         "type": "integer"
        },
        {
         "name": "category_name",
         "rawType": "object",
         "type": "string"
        },
        {
         "name": "count",
         "rawType": "int64",
         "type": "integer"
        },
        {
         "name": "percentage",
         "rawType": "float64",
         "type": "float"
        }
       ],
       "conversionMethod": "pd.DataFrame",
       "ref": "1644de91-8555-459e-a5e1-d82c217d5b90",
       "rows": [
        [
         "0",
         "1",
         "person",
         "262465",
         "30.519150559127254"
        ],
        [
         "1",
         "3",
         "car",
         "43867",
         "5.1008080223162535"
        ],
        [
         "2",
         "62",
         "chair",
         "38491",
         "4.4756924701250345"
        ],
        [
         "3",
         "84",
         "book",
         "24715",
         "2.873833867635038"
        ],
        [
         "4",
         "44",
         "bottle",
         "24342",
         "2.8304618250443894"
        ],
        [
         "5",
         "47",
         "cup",
         "20650",
         "2.4011599986511643"
        ],
        [
         "6",
         "67",
         "dining table",
         "15714",
         "1.8272071776660725"
        ],
        [
         "7",
         "51",
         "bowl",
         "14358",
         "1.6695329424035554"
        ],
        [
         "8",
         "10",
         "traffic light",
         "12884",
         "1.4981377928630315"
        ],
        [
         "9",
         "31",
         "handbag",
         "12354",
         "1.436509957546561"
        ],
        [
         "10",
         "28",
         "umbrella",
         "11431",
         "1.3291845009482546"
        ],
        [
         "11",
         "16",
         "bird",
         "10806",
         "1.2565101668486431"
        ],
        [
         "12",
         "9",
         "boat",
         "10759",
         "1.2510450569243525"
        ],
        [
         "13",
         "8",
         "truck",
         "9973",
         "1.1596498143606808"
        ],
        [
         "14",
         "15",
         "bench",
         "9838",
         "1.143952158195165"
        ],
        [
         "15",
         "20",
         "sheep",
         "9509",
         "1.1056963887251294"
        ],
        [
         "16",
         "52",
         "banana",
         "9458",
         "1.099766163062601"
        ],
        [
         "17",
         "38",
         "kite",
         "9076",
         "1.0553476100609185"
        ],
        [
         "18",
         "4",
         "motorcycle",
         "8725",
         "1.0145337040305766"
        ],
        [
         "19",
         "27",
         "backpack",
         "8720",
         "1.0139523093577798"
        ],
        [
         "20",
         "64",
         "potted plant",
         "8652",
         "1.006045341807742"
        ],
        [
         "21",
         "21",
         "cow",
         "8147",
         "0.9473244798552559"
        ],
        [
         "22",
         "46",
         "wine glass",
         "7913",
         "0.9201152091683614"
        ],
        [
         "23",
         "57",
         "carrot",
         "7852",
         "0.9130221941602394"
        ],
        [
         "24",
         "49",
         "knife",
         "7770",
         "0.9034873215263703"
        ],
        [
         "25",
         "56",
         "broccoli",
         "7308",
         "0.8497664537599375"
        ],
        [
         "26",
         "60",
         "donut",
         "7179",
         "0.8347664712017777"
        ],
        [
         "27",
         "2",
         "bicycle",
         "7113",
         "0.8270920615208587"
        ],
        [
         "28",
         "35",
         "skis",
         "6646",
         "0.7727897990816289"
        ],
        [
         "29",
         "86",
         "vase",
         "6613",
         "0.7689525942411695"
        ]
       ],
       "shape": {
        "columns": 4,
        "rows": 30
       }
      },
      "text/html": [
       "<div>\n",
       "<style scoped>\n",
       "    .dataframe tbody tr th:only-of-type {\n",
       "        vertical-align: middle;\n",
       "    }\n",
       "\n",
       "    .dataframe tbody tr th {\n",
       "        vertical-align: top;\n",
       "    }\n",
       "\n",
       "    .dataframe thead th {\n",
       "        text-align: right;\n",
       "    }\n",
       "</style>\n",
       "<table border=\"1\" class=\"dataframe\">\n",
       "  <thead>\n",
       "    <tr style=\"text-align: right;\">\n",
       "      <th></th>\n",
       "      <th>category_id</th>\n",
       "      <th>category_name</th>\n",
       "      <th>count</th>\n",
       "      <th>percentage</th>\n",
       "    </tr>\n",
       "  </thead>\n",
       "  <tbody>\n",
       "    <tr>\n",
       "      <th>0</th>\n",
       "      <td>1</td>\n",
       "      <td>person</td>\n",
       "      <td>262465</td>\n",
       "      <td>30.519151</td>\n",
       "    </tr>\n",
       "    <tr>\n",
       "      <th>1</th>\n",
       "      <td>3</td>\n",
       "      <td>car</td>\n",
       "      <td>43867</td>\n",
       "      <td>5.100808</td>\n",
       "    </tr>\n",
       "    <tr>\n",
       "      <th>2</th>\n",
       "      <td>62</td>\n",
       "      <td>chair</td>\n",
       "      <td>38491</td>\n",
       "      <td>4.475692</td>\n",
       "    </tr>\n",
       "    <tr>\n",
       "      <th>3</th>\n",
       "      <td>84</td>\n",
       "      <td>book</td>\n",
       "      <td>24715</td>\n",
       "      <td>2.873834</td>\n",
       "    </tr>\n",
       "    <tr>\n",
       "      <th>4</th>\n",
       "      <td>44</td>\n",
       "      <td>bottle</td>\n",
       "      <td>24342</td>\n",
       "      <td>2.830462</td>\n",
       "    </tr>\n",
       "    <tr>\n",
       "      <th>5</th>\n",
       "      <td>47</td>\n",
       "      <td>cup</td>\n",
       "      <td>20650</td>\n",
       "      <td>2.401160</td>\n",
       "    </tr>\n",
       "    <tr>\n",
       "      <th>6</th>\n",
       "      <td>67</td>\n",
       "      <td>dining table</td>\n",
       "      <td>15714</td>\n",
       "      <td>1.827207</td>\n",
       "    </tr>\n",
       "    <tr>\n",
       "      <th>7</th>\n",
       "      <td>51</td>\n",
       "      <td>bowl</td>\n",
       "      <td>14358</td>\n",
       "      <td>1.669533</td>\n",
       "    </tr>\n",
       "    <tr>\n",
       "      <th>8</th>\n",
       "      <td>10</td>\n",
       "      <td>traffic light</td>\n",
       "      <td>12884</td>\n",
       "      <td>1.498138</td>\n",
       "    </tr>\n",
       "    <tr>\n",
       "      <th>9</th>\n",
       "      <td>31</td>\n",
       "      <td>handbag</td>\n",
       "      <td>12354</td>\n",
       "      <td>1.436510</td>\n",
       "    </tr>\n",
       "    <tr>\n",
       "      <th>10</th>\n",
       "      <td>28</td>\n",
       "      <td>umbrella</td>\n",
       "      <td>11431</td>\n",
       "      <td>1.329185</td>\n",
       "    </tr>\n",
       "    <tr>\n",
       "      <th>11</th>\n",
       "      <td>16</td>\n",
       "      <td>bird</td>\n",
       "      <td>10806</td>\n",
       "      <td>1.256510</td>\n",
       "    </tr>\n",
       "    <tr>\n",
       "      <th>12</th>\n",
       "      <td>9</td>\n",
       "      <td>boat</td>\n",
       "      <td>10759</td>\n",
       "      <td>1.251045</td>\n",
       "    </tr>\n",
       "    <tr>\n",
       "      <th>13</th>\n",
       "      <td>8</td>\n",
       "      <td>truck</td>\n",
       "      <td>9973</td>\n",
       "      <td>1.159650</td>\n",
       "    </tr>\n",
       "    <tr>\n",
       "      <th>14</th>\n",
       "      <td>15</td>\n",
       "      <td>bench</td>\n",
       "      <td>9838</td>\n",
       "      <td>1.143952</td>\n",
       "    </tr>\n",
       "    <tr>\n",
       "      <th>15</th>\n",
       "      <td>20</td>\n",
       "      <td>sheep</td>\n",
       "      <td>9509</td>\n",
       "      <td>1.105696</td>\n",
       "    </tr>\n",
       "    <tr>\n",
       "      <th>16</th>\n",
       "      <td>52</td>\n",
       "      <td>banana</td>\n",
       "      <td>9458</td>\n",
       "      <td>1.099766</td>\n",
       "    </tr>\n",
       "    <tr>\n",
       "      <th>17</th>\n",
       "      <td>38</td>\n",
       "      <td>kite</td>\n",
       "      <td>9076</td>\n",
       "      <td>1.055348</td>\n",
       "    </tr>\n",
       "    <tr>\n",
       "      <th>18</th>\n",
       "      <td>4</td>\n",
       "      <td>motorcycle</td>\n",
       "      <td>8725</td>\n",
       "      <td>1.014534</td>\n",
       "    </tr>\n",
       "    <tr>\n",
       "      <th>19</th>\n",
       "      <td>27</td>\n",
       "      <td>backpack</td>\n",
       "      <td>8720</td>\n",
       "      <td>1.013952</td>\n",
       "    </tr>\n",
       "    <tr>\n",
       "      <th>20</th>\n",
       "      <td>64</td>\n",
       "      <td>potted plant</td>\n",
       "      <td>8652</td>\n",
       "      <td>1.006045</td>\n",
       "    </tr>\n",
       "    <tr>\n",
       "      <th>21</th>\n",
       "      <td>21</td>\n",
       "      <td>cow</td>\n",
       "      <td>8147</td>\n",
       "      <td>0.947324</td>\n",
       "    </tr>\n",
       "    <tr>\n",
       "      <th>22</th>\n",
       "      <td>46</td>\n",
       "      <td>wine glass</td>\n",
       "      <td>7913</td>\n",
       "      <td>0.920115</td>\n",
       "    </tr>\n",
       "    <tr>\n",
       "      <th>23</th>\n",
       "      <td>57</td>\n",
       "      <td>carrot</td>\n",
       "      <td>7852</td>\n",
       "      <td>0.913022</td>\n",
       "    </tr>\n",
       "    <tr>\n",
       "      <th>24</th>\n",
       "      <td>49</td>\n",
       "      <td>knife</td>\n",
       "      <td>7770</td>\n",
       "      <td>0.903487</td>\n",
       "    </tr>\n",
       "    <tr>\n",
       "      <th>25</th>\n",
       "      <td>56</td>\n",
       "      <td>broccoli</td>\n",
       "      <td>7308</td>\n",
       "      <td>0.849766</td>\n",
       "    </tr>\n",
       "    <tr>\n",
       "      <th>26</th>\n",
       "      <td>60</td>\n",
       "      <td>donut</td>\n",
       "      <td>7179</td>\n",
       "      <td>0.834766</td>\n",
       "    </tr>\n",
       "    <tr>\n",
       "      <th>27</th>\n",
       "      <td>2</td>\n",
       "      <td>bicycle</td>\n",
       "      <td>7113</td>\n",
       "      <td>0.827092</td>\n",
       "    </tr>\n",
       "    <tr>\n",
       "      <th>28</th>\n",
       "      <td>35</td>\n",
       "      <td>skis</td>\n",
       "      <td>6646</td>\n",
       "      <td>0.772790</td>\n",
       "    </tr>\n",
       "    <tr>\n",
       "      <th>29</th>\n",
       "      <td>86</td>\n",
       "      <td>vase</td>\n",
       "      <td>6613</td>\n",
       "      <td>0.768953</td>\n",
       "    </tr>\n",
       "  </tbody>\n",
       "</table>\n",
       "</div>"
      ],
      "text/plain": [
       "    category_id  category_name   count  percentage\n",
       "0             1         person  262465   30.519151\n",
       "1             3            car   43867    5.100808\n",
       "2            62          chair   38491    4.475692\n",
       "3            84           book   24715    2.873834\n",
       "4            44         bottle   24342    2.830462\n",
       "5            47            cup   20650    2.401160\n",
       "6            67   dining table   15714    1.827207\n",
       "7            51           bowl   14358    1.669533\n",
       "8            10  traffic light   12884    1.498138\n",
       "9            31        handbag   12354    1.436510\n",
       "10           28       umbrella   11431    1.329185\n",
       "11           16           bird   10806    1.256510\n",
       "12            9           boat   10759    1.251045\n",
       "13            8          truck    9973    1.159650\n",
       "14           15          bench    9838    1.143952\n",
       "15           20          sheep    9509    1.105696\n",
       "16           52         banana    9458    1.099766\n",
       "17           38           kite    9076    1.055348\n",
       "18            4     motorcycle    8725    1.014534\n",
       "19           27       backpack    8720    1.013952\n",
       "20           64   potted plant    8652    1.006045\n",
       "21           21            cow    8147    0.947324\n",
       "22           46     wine glass    7913    0.920115\n",
       "23           57         carrot    7852    0.913022\n",
       "24           49          knife    7770    0.903487\n",
       "25           56       broccoli    7308    0.849766\n",
       "26           60          donut    7179    0.834766\n",
       "27            2        bicycle    7113    0.827092\n",
       "28           35           skis    6646    0.772790\n",
       "29           86           vase    6613    0.768953"
      ]
     },
     "execution_count": 18,
     "metadata": {},
     "output_type": "execute_result"
    }
   ],
   "source": [
    "# showing the percentage of each label\n",
    "df_train['percentage'] = df_train['count'] / df_train['count'].sum() * 100\n",
    "df_train.iloc[:30]"
   ]
  },
  {
   "cell_type": "code",
   "execution_count": 11,
   "id": "5de5f4bc",
   "metadata": {},
   "outputs": [
    {
     "data": {
      "text/plain": [
       "(469840, 860001, 54.632494613378356)"
      ]
     },
     "execution_count": 11,
     "metadata": {},
     "output_type": "execute_result"
    }
   ],
   "source": [
    "N_LABELS = 10\n",
    "\n",
    "sum(df_train.iloc[:N_LABELS]['count']), sum(df_train['count']), sum(df_train.iloc[:N_LABELS]['count'])/sum(df_train['count'])*100"
   ]
  },
  {
   "cell_type": "code",
   "execution_count": 12,
   "id": "91fbc20f",
   "metadata": {},
   "outputs": [
    {
     "data": {
      "image/png": "[encoded data removed]",
      "text/plain": [
       "<Figure size 1600x900 with 1 Axes>"
      ]
     },
     "metadata": {},
     "output_type": "display_data"
    }
   ],
   "source": [
    "# plot a graph to see the distribution of top N labels\n",
    "\n",
    "def plot_top_n_labels(df, n):\n",
    "    plt.figure(figsize=(16,9))\n",
    "    plt.bar(df.iloc[:n]['category_name'], df.iloc[:n]['count'])\n",
    "    plt.title('Top {} Labels Distribution'.format(n))\n",
    "    plt.xlabel('Labels')\n",
    "    plt.ylabel('Counts')\n",
    "    plt.xticks(rotation=90)\n",
    "    plt.show()\n",
    "\n",
    "plot_top_n_labels(df_train, N_LABELS)"
   ]
  },
  {
   "cell_type": "code",
   "execution_count": 13,
   "id": "69e1d3b6",
   "metadata": {},
   "outputs": [],
   "source": [
    "# do the same for validation set\n",
    "\n",
    "df_val = pd.DataFrame(columns=['category_id', 'category_name', 'count'])\n",
    "df_val['category_id'] = [cat['id'] for cat in cats]\n",
    "df_val['category_name'] = [cat['name'] for cat in cats]\n",
    "df_val['count'] = 0\n",
    "unique, counts = np.unique(label_per_obj_val, return_counts=True)\n",
    "for i in range(len(unique)):\n",
    "    df_val.loc[df_val['category_id'] == unique[i], 'count'] = counts[i]\n",
    "\n",
    "df_val = df_val.sort_values(by='count', ascending=False)\n",
    "df_val = df_val.reset_index(drop=True)"
   ]
  },
  {
   "cell_type": "code",
   "execution_count": 14,
   "id": "17403e19",
   "metadata": {},
   "outputs": [
    {
     "data": {
      "image/png": "[encoded data removed]",
      "text/plain": [
       "<Figure size 1600x900 with 1 Axes>"
      ]
     },
     "metadata": {},
     "output_type": "display_data"
    }
   ],
   "source": [
    "plot_top_n_labels(df_val, N_LABELS)"
   ]
  },
  {
   "cell_type": "code",
   "execution_count": 15,
   "id": "f6c0adde",
   "metadata": {},
   "outputs": [
    {
     "data": {
      "text/plain": [
       "set()"
      ]
     },
     "execution_count": 15,
     "metadata": {},
     "output_type": "execute_result"
    }
   ],
   "source": [
    "# check if the top N labels are the same in train and validation set\n",
    "\n",
    "set(df_train.iloc[:N_LABELS]['category_name'].values) ^ set(df_val.iloc[:N_LABELS]['category_name'].values)"
   ]
  },
  {
   "cell_type": "code",
   "execution_count": 16,
   "id": "b02f05bf",
   "metadata": {},
   "outputs": [
    {
     "data": {
      "text/plain": [
       "(array([ 1,  3, 62, 84, 44, 47, 67, 51, 10, 31]),\n",
       " array([ 1,  3, 62, 84, 44, 47, 67, 10, 51, 31]))"
      ]
     },
     "execution_count": 16,
     "metadata": {},
     "output_type": "execute_result"
    }
   ],
   "source": [
    "# show top N categories ID\n",
    "\n",
    "df_train.iloc[:N_LABELS]['category_id'].values, df_val.iloc[:N_LABELS]['category_id'].values"
   ]
  },
  {
   "cell_type": "markdown",
   "id": "b76e27e3",
   "metadata": {},
   "source": [
    "If only consider the top 10 categories, what is the distribution of this training subset?"
   ]
  },
  {
   "cell_type": "code",
   "execution_count": 19,
   "id": "c29b744c",
   "metadata": {},
   "outputs": [
    {
     "name": "stderr",
     "output_type": "stream",
     "text": [
      "/var/folders/hm/n8540hpn7xd1f0pw3_qnsp4r0000gn/T/ipykernel_92136/2943380746.py:4: SettingWithCopyWarning: \n",
      "A value is trying to be set on a copy of a slice from a DataFrame.\n",
      "Try using .loc[row_indexer,col_indexer] = value instead\n",
      "\n",
      "See the caveats in the documentation: https://pandas.pydata.org/pandas-docs/stable/user_guide/indexing.html#returning-a-view-versus-a-copy\n",
      "  df_train_subset['percentage'] = df_train_subset['count'] / df_train_subset['count'].sum() * 100\n"
     ]
    },
    {
     "data": {
      "application/vnd.microsoft.datawrangler.viewer.v0+json": {
       "columns": [
        {
         "name": "index",
         "rawType": "int64",
         "type": "integer"
        },
        {
         "name": "category_id",
         "rawType": "int64",
         "type": "integer"
        },
        {
         "name": "category_name",
         "rawType": "object",
         "type": "string"
        },
        {
         "name": "count",
         "rawType": "int64",
         "type": "integer"
        },
        {
         "name": "percentage",
         "rawType": "float64",
         "type": "float"
        }
       ],
       "conversionMethod": "pd.DataFrame",
       "ref": "efcc9f12-7e27-46dc-8897-f9afa438c366",
       "rows": [
        [
         "0",
         "1",
         "person",
         "262465",
         "55.86263408820024"
        ],
        [
         "1",
         "3",
         "car",
         "43867",
         "9.336582666439638"
        ],
        [
         "2",
         "62",
         "chair",
         "38491",
         "8.192363357738804"
        ],
        [
         "3",
         "84",
         "book",
         "24715",
         "5.260301379192916"
        ],
        [
         "4",
         "44",
         "bottle",
         "24342",
         "5.180912651115274"
        ],
        [
         "5",
         "47",
         "cup",
         "20650",
         "4.395113230035757"
        ],
        [
         "6",
         "67",
         "dining table",
         "15714",
         "3.3445428230887106"
        ],
        [
         "7",
         "51",
         "bowl",
         "14358",
         "3.0559339349565806"
        ],
        [
         "8",
         "10",
         "traffic light",
         "12884",
         "2.7422101140813893"
        ],
        [
         "9",
         "31",
         "handbag",
         "12354",
         "2.6294057551506893"
        ]
       ],
       "shape": {
        "columns": 4,
        "rows": 10
       }
      },
      "text/html": [
       "<div>\n",
       "<style scoped>\n",
       "    .dataframe tbody tr th:only-of-type {\n",
       "        vertical-align: middle;\n",
       "    }\n",
       "\n",
       "    .dataframe tbody tr th {\n",
       "        vertical-align: top;\n",
       "    }\n",
       "\n",
       "    .dataframe thead th {\n",
       "        text-align: right;\n",
       "    }\n",
       "</style>\n",
       "<table border=\"1\" class=\"dataframe\">\n",
       "  <thead>\n",
       "    <tr style=\"text-align: right;\">\n",
       "      <th></th>\n",
       "      <th>category_id</th>\n",
       "      <th>category_name</th>\n",
       "      <th>count</th>\n",
       "      <th>percentage</th>\n",
       "    </tr>\n",
       "  </thead>\n",
       "  <tbody>\n",
       "    <tr>\n",
       "      <th>0</th>\n",
       "      <td>1</td>\n",
       "      <td>person</td>\n",
       "      <td>262465</td>\n",
       "      <td>55.862634</td>\n",
       "    </tr>\n",
       "    <tr>\n",
       "      <th>1</th>\n",
       "      <td>3</td>\n",
       "      <td>car</td>\n",
       "      <td>43867</td>\n",
       "      <td>9.336583</td>\n",
       "    </tr>\n",
       "    <tr>\n",
       "      <th>2</th>\n",
       "      <td>62</td>\n",
       "      <td>chair</td>\n",
       "      <td>38491</td>\n",
       "      <td>8.192363</td>\n",
       "    </tr>\n",
       "    <tr>\n",
       "      <th>3</th>\n",
       "      <td>84</td>\n",
       "      <td>book</td>\n",
       "      <td>24715</td>\n",
       "      <td>5.260301</td>\n",
       "    </tr>\n",
       "    <tr>\n",
       "      <th>4</th>\n",
       "      <td>44</td>\n",
       "      <td>bottle</td>\n",
       "      <td>24342</td>\n",
       "      <td>5.180913</td>\n",
       "    </tr>\n",
       "    <tr>\n",
       "      <th>5</th>\n",
       "      <td>47</td>\n",
       "      <td>cup</td>\n",
       "      <td>20650</td>\n",
       "      <td>4.395113</td>\n",
       "    </tr>\n",
       "    <tr>\n",
       "      <th>6</th>\n",
       "      <td>67</td>\n",
       "      <td>dining table</td>\n",
       "      <td>15714</td>\n",
       "      <td>3.344543</td>\n",
       "    </tr>\n",
       "    <tr>\n",
       "      <th>7</th>\n",
       "      <td>51</td>\n",
       "      <td>bowl</td>\n",
       "      <td>14358</td>\n",
       "      <td>3.055934</td>\n",
       "    </tr>\n",
       "    <tr>\n",
       "      <th>8</th>\n",
       "      <td>10</td>\n",
       "      <td>traffic light</td>\n",
       "      <td>12884</td>\n",
       "      <td>2.742210</td>\n",
       "    </tr>\n",
       "    <tr>\n",
       "      <th>9</th>\n",
       "      <td>31</td>\n",
       "      <td>handbag</td>\n",
       "      <td>12354</td>\n",
       "      <td>2.629406</td>\n",
       "    </tr>\n",
       "  </tbody>\n",
       "</table>\n",
       "</div>"
      ],
      "text/plain": [
       "   category_id  category_name   count  percentage\n",
       "0            1         person  262465   55.862634\n",
       "1            3            car   43867    9.336583\n",
       "2           62          chair   38491    8.192363\n",
       "3           84           book   24715    5.260301\n",
       "4           44         bottle   24342    5.180913\n",
       "5           47            cup   20650    4.395113\n",
       "6           67   dining table   15714    3.344543\n",
       "7           51           bowl   14358    3.055934\n",
       "8           10  traffic light   12884    2.742210\n",
       "9           31        handbag   12354    2.629406"
      ]
     },
     "execution_count": 19,
     "metadata": {},
     "output_type": "execute_result"
    }
   ],
   "source": [
    "df_train_subset = df_train.iloc[:N_LABELS]\n",
    "\n",
    "# compute the percentage of each label in the train set\n",
    "df_train_subset['percentage'] = df_train_subset['count'] / df_train_subset['count'].sum() * 100\n",
    "df_train_subset"
   ]
  },
  {
   "cell_type": "code",
   "execution_count": null,
   "id": "5e8aa29a",
   "metadata": {},
   "outputs": [],
   "source": []
  }
 ],
 "metadata": {
  "kernelspec": {
   "display_name": "comp61342_asm",
   "language": "python",
   "name": "python3"
  },
  "language_info": {
   "codemirror_mode": {
    "name": "ipython",
    "version": 3
   },
   "file_extension": ".py",
   "mimetype": "text/x-python",
   "name": "python",
   "nbconvert_exporter": "python",
   "pygments_lexer": "ipython3",
   "version": "3.11.11"
  }
 },
 "nbformat": 4,
 "nbformat_minor": 5
}
