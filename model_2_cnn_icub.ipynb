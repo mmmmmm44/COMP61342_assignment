{
 "cells": [
  {
   "cell_type": "markdown",
   "id": "178fd801",
   "metadata": {},
   "source": [
    "CNN on our custom iCUB World Transformation dataset\n",
    "\n",
    "With early stopper to fine-tune models upto 15 epochs, then select the best model with the best testing acc."
   ]
  },
  {
   "cell_type": "code",
   "execution_count": 1,
   "id": "6ea9ee18",
   "metadata": {},
   "outputs": [],
   "source": [
    "import numpy as np\n",
    "\n",
    "from pathlib import Path\n",
    "import os\n",
    "import pickle\n",
    "\n",
    "from helper import print_log"
   ]
  },
  {
   "cell_type": "code",
   "execution_count": 2,
   "id": "064b924a",
   "metadata": {},
   "outputs": [],
   "source": [
    "dataset_dir = Path('dataset/icub_custom_subset')"
   ]
  },
  {
   "cell_type": "code",
   "execution_count": 3,
   "id": "9bb71d44",
   "metadata": {},
   "outputs": [
    {
     "name": "stdout",
     "output_type": "stream",
     "text": [
      "['bodylotion', 'book', 'cellphone', 'flower', 'glass', 'hairbrush', 'hairclip', 'mouse', 'mug', 'ovenglove', 'pencilcase', 'perfume', 'remote', 'ringbinder', 'soapdispenser', 'sodabottle', 'sprayer', 'squeezer', 'sunglasses', 'wallet']\n",
      "\n",
      "\n",
      "{0: 'bodylotion', 1: 'book', 2: 'cellphone', 3: 'flower', 4: 'glass', 5: 'hairbrush', 6: 'hairclip', 7: 'mouse', 8: 'mug', 9: 'ovenglove', 10: 'pencilcase', 11: 'perfume', 12: 'remote', 13: 'ringbinder', 14: 'soapdispenser', 15: 'sodabottle', 16: 'sprayer', 17: 'squeezer', 18: 'sunglasses', 19: 'wallet'}\n",
      "\n",
      "\n",
      "{'bodylotion': 0, 'book': 1, 'cellphone': 2, 'flower': 3, 'glass': 4, 'hairbrush': 5, 'hairclip': 6, 'mouse': 7, 'mug': 8, 'ovenglove': 9, 'pencilcase': 10, 'perfume': 11, 'remote': 12, 'ringbinder': 13, 'soapdispenser': 14, 'sodabottle': 15, 'sprayer': 16, 'squeezer': 17, 'sunglasses': 18, 'wallet': 19}\n"
     ]
    }
   ],
   "source": [
    "cats = sorted([cat for cat in os.listdir(dataset_dir) if os.path.isdir(dataset_dir / cat)])\n",
    "LABEL_TO_CAT = {i:cat for i, cat in enumerate(cats)}\n",
    "CAT_TO_LABEL = {cat:i for i, cat in enumerate(cats)}\n",
    "LABELS = cats\n",
    "print(cats); print(); print()\n",
    "print(LABEL_TO_CAT); print(); print()\n",
    "print(CAT_TO_LABEL)"
   ]
  },
  {
   "cell_type": "code",
   "execution_count": 4,
   "id": "2ff25cd1",
   "metadata": {},
   "outputs": [],
   "source": [
    "# load the train-test set and validation set\n",
    "\n",
    "train_test_set_path = dataset_dir / 'train_test_set.pkl'\n",
    "train_test_set_label_path = dataset_dir / 'train_test_set_labels.pkl'\n",
    "eval_set_path = dataset_dir / 'eval_set.pkl'\n",
    "eval_set_label_path = dataset_dir / 'eval_set_labels.pkl'\n",
    "\n",
    "if not train_test_set_path.exists():\n",
    "    raise FileNotFoundError(f\"Train-test set not found at {train_test_set_path}\")\n",
    "if not train_test_set_label_path.exists():\n",
    "    raise FileNotFoundError(f\"Train-test set labels not found at {train_test_set_label_path}\")\n",
    "if not eval_set_path.exists():\n",
    "    raise FileNotFoundError(f\"Validation set not found at {eval_set_path}\")\n",
    "\n",
    "\n",
    "train_test_set = pickle.load(open(train_test_set_path, 'rb'))\n",
    "train_test_set_label = pickle.load(open(train_test_set_label_path, 'rb'))\n",
    "eval_set = pickle.load(open(eval_set_path, 'rb'))\n",
    "eval_set_label = pickle.load(open(eval_set_label_path, 'rb'))"
   ]
  },
  {
   "cell_type": "markdown",
   "id": "49e0c0bf",
   "metadata": {},
   "source": [
    "---"
   ]
  },
  {
   "cell_type": "markdown",
   "id": "25e2c1ae",
   "metadata": {},
   "source": [
    "Create pytorch Dataset Object"
   ]
  },
  {
   "cell_type": "code",
   "execution_count": 5,
   "id": "15374036",
   "metadata": {},
   "outputs": [],
   "source": [
    "import torch\n",
    "from torchvision.transforms import v2 as T\n",
    "from torchvision.io import read_image\n",
    "\n",
    "class ICUBDataset(torch.utils.data.Dataset):\n",
    "    def __init__(self, dataset, labels, transform=None):\n",
    "        self.dataset = dataset\n",
    "        self.labels = labels\n",
    "        self.transform = transform\n",
    "\n",
    "        self._def_transform = None\n",
    "\n",
    "    def __len__(self):\n",
    "        return len(self.dataset)\n",
    "\n",
    "    def __getitem__(self, idx):\n",
    "        img_path = self.dataset[idx]\n",
    "        label = self.labels[idx]\n",
    "\n",
    "        # Load the image\n",
    "        image = read_image(img_path)\n",
    "\n",
    "        image, label = self._def_transform(image, label)\n",
    "\n",
    "        # Apply transformations if any\n",
    "        if self.transform:\n",
    "            image = self.transform(image)\n",
    "\n",
    "        return image, label\n",
    "    \n",
    "    def set_def_transform(self, transform):\n",
    "        self._def_transform = transform\n"
   ]
  },
  {
   "cell_type": "code",
   "execution_count": 6,
   "id": "18a73929",
   "metadata": {},
   "outputs": [
    {
     "name": "stdout",
     "output_type": "stream",
     "text": [
      "Train-test set size: 13000\n",
      "Validation set size: 3000\n"
     ]
    }
   ],
   "source": [
    "dataset_traintest = ICUBDataset(train_test_set, train_test_set_label)\n",
    "dataset_eval = ICUBDataset(eval_set, eval_set_label)\n",
    "\n",
    "print(f\"Train-test set size: {len(dataset_traintest)}\")\n",
    "print(f\"Validation set size: {len(dataset_eval)}\")"
   ]
  },
  {
   "cell_type": "markdown",
   "id": "c5ce3b42",
   "metadata": {},
   "source": [
    "---"
   ]
  },
  {
   "cell_type": "markdown",
   "id": "7c298ebd",
   "metadata": {},
   "source": [
    "Training loop with hyperparameter selection\n",
    "\n",
    "we are looking for \n",
    "- batch size (16, 32, 64)\n",
    "- learning rate (5e-4, 1e-4, 5e-5)\n",
    "\n",
    "Total combinations: $3 \\times 3 = 9$"
   ]
  },
  {
   "cell_type": "code",
   "execution_count": 7,
   "id": "592a1c8e",
   "metadata": {},
   "outputs": [],
   "source": [
    "DEVICE = torch.device('cuda') if torch.cuda.is_available() else torch.device('cpu')"
   ]
  },
  {
   "cell_type": "code",
   "execution_count": 8,
   "id": "961aa7e2",
   "metadata": {},
   "outputs": [
    {
     "name": "stdout",
     "output_type": "stream",
     "text": [
      "Total number of hyperparameter combinations:  9\n"
     ]
    }
   ],
   "source": [
    "from itertools import product\n",
    "\n",
    "BATCH_SIZE_GRID = [16, 32, 64]\n",
    "LR_GRID = [1e-4, 5e-5, 1e-5]\n",
    "\n",
    "MAX_EPOCHES = 15\n",
    "\n",
    "hyperparam_combs = list(product(BATCH_SIZE_GRID, LR_GRID))\n",
    "print('Total number of hyperparameter combinations: ', len(hyperparam_combs))"
   ]
  },
  {
   "cell_type": "code",
   "execution_count": 9,
   "id": "27712a72",
   "metadata": {},
   "outputs": [],
   "source": [
    "def collate_fn(batch):\n",
    "  return tuple(zip(*batch))\n",
    "\n",
    "def build_data_loaders(batch_size, dataset_train, dataset_test, dataset_val):\n",
    "    data_loader_train = torch.utils.data.DataLoader(\n",
    "        dataset_train,\n",
    "        batch_size=batch_size,\n",
    "        shuffle=True,\n",
    "        num_workers=4,\n",
    "        collate_fn=collate_fn,\n",
    "    )\n",
    "\n",
    "    data_loader_test = torch.utils.data.DataLoader(\n",
    "        dataset_test,\n",
    "        batch_size=batch_size,\n",
    "        shuffle=False,\n",
    "        num_workers=4,\n",
    "        collate_fn=collate_fn,\n",
    "    )\n",
    "\n",
    "    data_loader_valid = torch.utils.data.DataLoader(\n",
    "        dataset_val,\n",
    "        batch_size=16,      # fixed for inference\n",
    "        shuffle=False,\n",
    "        num_workers=4,\n",
    "        collate_fn=collate_fn,\n",
    "    )\n",
    "\n",
    "    return data_loader_train, data_loader_test, data_loader_valid"
   ]
  },
  {
   "cell_type": "code",
   "execution_count": 10,
   "id": "b0caab55",
   "metadata": {},
   "outputs": [],
   "source": [
    "from tqdm import tqdm\n",
    "import matplotlib.pyplot as plt\n",
    "\n",
    "'''\n",
    "Function to train the model over one epoch.\n",
    "'''\n",
    "def train_one_epoch(model, criterion, optimizer, data_loader):\n",
    "  \n",
    "    train_loss = 0.0\n",
    "    train_corrects = 0\n",
    "\n",
    "    labels_list = []\n",
    "    preds_list = []\n",
    "\n",
    "    tqdm_bar = tqdm(data_loader, total=len(data_loader))\n",
    "    for idx, data in enumerate(tqdm_bar):\n",
    "        inputs, labels = data\n",
    "\n",
    "        optimizer.zero_grad()\n",
    "\n",
    "        # forward pass\n",
    "        inputs = torch.stack(inputs, dim=0).to(DEVICE)\n",
    "        labels = torch.tensor(labels, dtype=torch.float64).type(torch.LongTensor).to(DEVICE)\n",
    "\n",
    "        outputs = model(inputs)\n",
    "        _, preds = torch.max(outputs, 1)\n",
    "        loss = criterion(outputs, labels)\n",
    "        loss.backward()\n",
    "        optimizer.step()\n",
    "\n",
    "        loss_val = loss.item()\n",
    "        train_loss += loss_val\n",
    "        train_corrects += (preds == labels).sum().item()\n",
    "\n",
    "        labels_list.append(labels)\n",
    "        preds_list.append(preds)\n",
    "        \n",
    "        tqdm_bar.set_description(desc=f\"Training Loss: {loss_val:.3f}\")\n",
    "\n",
    "    train_loss /= len(data_loader)\n",
    "    acc = float(train_corrects) / len(data_loader.dataset)\n",
    "    labels_list = torch.cat(labels_list).cpu().numpy()\n",
    "    preds_list = torch.cat(preds_list).cpu().numpy()\n",
    "    print_log(f\"Avg training Loss: {train_loss:.3f}; Accuracy: {acc:.3f}\")\n",
    "\n",
    "    return train_loss, acc, labels_list, preds_list"
   ]
  },
  {
   "cell_type": "code",
   "execution_count": 11,
   "id": "055984c6",
   "metadata": {},
   "outputs": [],
   "source": [
    "def evaluate(model, criterion, data_loader):\n",
    "    test_loss = 0.0\n",
    "    test_corrects = 0\n",
    "\n",
    "    labels_list = []\n",
    "    preds_list = []\n",
    "\n",
    "    tqdm_bar = tqdm(data_loader, total=len(data_loader))\n",
    "\n",
    "    for i, data in enumerate(tqdm_bar):\n",
    "        inputs, labels = data\n",
    "\n",
    "        inputs = torch.stack(inputs, dim=0).to(DEVICE)\n",
    "        labels = torch.tensor(labels, dtype=torch.float64).type(torch.LongTensor).to(DEVICE)\n",
    "\n",
    "        with torch.no_grad():\n",
    "            outputs = model(inputs)\n",
    "            _, preds = torch.max(outputs, 1)\n",
    "            loss = criterion(outputs, labels)\n",
    "            \n",
    "\n",
    "        loss_val = loss.item()\n",
    "        test_loss += loss_val\n",
    "        test_corrects += (preds == labels).sum().item()\n",
    "\n",
    "        labels_list.append(labels)\n",
    "        preds_list.append(preds)\n",
    "\n",
    "        tqdm_bar.set_description(desc=f\"Testing Loss: {loss_val:.4f}\")\n",
    "\n",
    "    labels_list = torch.cat(labels_list).cpu().numpy()\n",
    "    preds_list = torch.cat(preds_list).cpu().numpy()\n",
    "    test_loss /= len(data_loader)\n",
    "    acc = float(test_corrects) / len(data_loader.dataset)\n",
    "    print_log(f\"Avg testing Loss: {test_loss:.3f}; Accuracy: {acc:.3f}\")\n",
    "    \n",
    "    return test_loss, acc, labels_list, preds_list"
   ]
  },
  {
   "cell_type": "code",
   "execution_count": 12,
   "id": "8afedd5b",
   "metadata": {},
   "outputs": [],
   "source": [
    "def evaluation_pred(model, data_loader, stage:str):\n",
    "    \n",
    "    labels_list = []\n",
    "    preds_list =[]\n",
    "\n",
    "    model.eval()\n",
    "    \n",
    "    tqdm_bar = tqdm(data_loader, total=len(data_loader))\n",
    "    for i, data in enumerate(tqdm_bar):\n",
    "        inputs, labels = data\n",
    "\n",
    "        images = torch.stack(inputs, dim=0).to(DEVICE)\n",
    "        labels = torch.tensor(labels, dtype=torch.float64).type(torch.LongTensor).to(DEVICE)\n",
    "\n",
    "        with torch.no_grad():\n",
    "            outputs = model(images)\n",
    "            _, preds = torch.max(outputs, 1)\n",
    "\n",
    "        labels_list.append(labels)\n",
    "        preds_list.append(preds)\n",
    "\n",
    "        tqdm_bar.set_description(f\"Evaluating {stage}\")\n",
    "\n",
    "    labels_list = torch.cat(labels_list).cpu().numpy()\n",
    "    preds_list = torch.cat(preds_list).cpu().numpy()\n",
    "    \n",
    "    return labels_list, preds_list"
   ]
  },
  {
   "cell_type": "code",
   "execution_count": 13,
   "id": "f58095d9",
   "metadata": {},
   "outputs": [],
   "source": [
    "# compute acc, confusion matrix, classification report\n",
    "from helper_evaluations import compute_accuracy, compute_f1_score, compute_balanced_accuracy, compute_classification_report, compute_confusion_matrix\n",
    "\n",
    "def compute_classification_metrics(target_labels, pred_labels, target_names:list[str]):\n",
    "    \n",
    "    # compute accuracy\n",
    "    acc = compute_accuracy(target_labels, pred_labels)\n",
    "    print(\"Accuracy: \", acc)\n",
    "\n",
    "    report = compute_classification_report(target_labels, pred_labels, target_names)\n",
    "    print(\"Classification Report:\\n\", report)\n",
    "\n",
    "    # compute confusion matrix\n",
    "    compute_confusion_matrix(target_labels, pred_labels, target_names, save=False)\n",
    "\n",
    "    return target_labels, pred_labels\n",
    "\n",
    "def save_evaluations(y, y_pred, labels, model_dir, eval_stage=str):\n",
    "    \"\"\"Save the evaluation results\n",
    "    \n",
    "    eval_stage: str\n",
    "        The stage of the evaluation. It can be 'train', 'test' or 'val.\n",
    "    \"\"\"\n",
    "    # Save the accuracy score\n",
    "    accuracy = compute_accuracy(y, y_pred)\n",
    "    f1 = compute_f1_score(y, y_pred)\n",
    "    balanced_accuracy = compute_balanced_accuracy(y, y_pred)\n",
    "    print_log(f\"Accuracy [{eval_stage}]: {accuracy}; Weighted F1 [{eval_stage}]: {f1}; Weighted Accuracy [{eval_stage}]: {balanced_accuracy}\")\n",
    "    # save the scores\n",
    "    with open(model_dir / f'accuracy_{eval_stage}.txt', 'w') as f:\n",
    "        f.write(f\"Accuracy: {accuracy}\\n\")\n",
    "        f.write(f\"Weighted F1: {f1}\\n\")\n",
    "        f.write(f\"Weighted Accuracy: {balanced_accuracy}\\n\")\n",
    "\n",
    "    # Save the classification report\n",
    "    report = compute_classification_report(y, y_pred, labels)\n",
    "    with open(model_dir / f'classification_report_{eval_stage}.txt', 'w') as f:\n",
    "        f.write(report)\n",
    "\n",
    "    # Save the confusion matrix\n",
    "    cm_path = model_dir / f'confusion_matrix_{eval_stage}.png'\n",
    "    compute_confusion_matrix(y, y_pred, labels, save=True, save_path=cm_path)"
   ]
  },
  {
   "cell_type": "code",
   "execution_count": 14,
   "id": "67626be3",
   "metadata": {},
   "outputs": [],
   "source": [
    "from cnn_model_loader import ModelType, load_model, get_default_transforms\n",
    "\n",
    "model_type = ModelType.EFFICIENTNET_B0\n",
    "\n",
    "dataset_traintest.set_def_transform(\n",
    "    get_default_transforms(model_type)\n",
    ")\n",
    "\n",
    "dataset_eval.set_def_transform(\n",
    "    get_default_transforms(model_type)\n",
    ")"
   ]
  },
  {
   "cell_type": "code",
   "execution_count": 15,
   "id": "77444e15",
   "metadata": {},
   "outputs": [
    {
     "name": "stdout",
     "output_type": "stream",
     "text": [
      "Total number of hyperparameter combinations:  9\n"
     ]
    }
   ],
   "source": [
    "from itertools import product\n",
    "\n",
    "BATCH_SIZE_GRID = [16, 32, 64]\n",
    "LR_GRID = [1e-4, 5e-5, 1e-5]\n",
    "\n",
    "MAX_EPOCHES = 15\n",
    "\n",
    "hyperparam_combs = list(product(BATCH_SIZE_GRID, LR_GRID))\n",
    "print('Total number of hyperparameter combinations: ', len(hyperparam_combs))"
   ]
  },
  {
   "cell_type": "code",
   "execution_count": 16,
   "id": "97ce3d46",
   "metadata": {},
   "outputs": [],
   "source": [
    "from datetime import datetime\n",
    "\n",
    "tdy = datetime.now()\n",
    "top_model_dir = Path(f'models_icub/{str(model_type)}/{tdy.strftime(\"%Y%m%d-%H%M%S\")}/')\n",
    "if not top_model_dir.exists():\n",
    "    top_model_dir.mkdir(parents=True)"
   ]
  },
  {
   "cell_type": "code",
   "execution_count": 17,
   "id": "778761e4",
   "metadata": {},
   "outputs": [],
   "source": [
    "from sklearn.model_selection import train_test_split\n",
    "\n",
    "# create train and validation set\n",
    "train_indices, test_indices = train_test_split(list(range(len(dataset_traintest))), test_size=0.2, random_state=42)\n",
    "\n",
    "dataset_train = torch.utils.data.Subset(dataset_traintest, train_indices)\n",
    "dataset_test = torch.utils.data.Subset(dataset_traintest, test_indices)"
   ]
  },
  {
   "cell_type": "code",
   "execution_count": 18,
   "id": "6c980b9b",
   "metadata": {},
   "outputs": [],
   "source": [
    "# define early stopper -> w/out the need to test epoch; just need to define the patience\n",
    "# and maximum epoches for the model\n",
    "\n",
    "# definition moved to early_stopper.py\n",
    "\n",
    "from early_stopper import EarlyStopper"
   ]
  },
  {
   "cell_type": "code",
   "execution_count": 21,
   "id": "a1f0ff46",
   "metadata": {},
   "outputs": [
    {
     "name": "stdout",
     "output_type": "stream",
     "text": [
      "[2025-04-26 01:55:12:664] - --------------------------------------------------\n",
      "[2025-04-26 01:55:12:665] - Batch size: 16, Learning rate: 0.0001\n",
      "[2025-04-26 01:55:12:665] - --------------------------------------------------\n",
      "[2025-04-26 01:55:13:005] - Epoch 1/15\n"
     ]
    },
    {
     "name": "stderr",
     "output_type": "stream",
     "text": [
      "Training Loss: 0.169: 100%|██████████| 650/650 [00:21<00:00, 30.93it/s]\n"
     ]
    },
    {
     "name": "stdout",
     "output_type": "stream",
     "text": [
      "[2025-04-26 01:55:34:033] - Avg training Loss: 1.133; Accuracy: 0.725\n"
     ]
    },
    {
     "name": "stderr",
     "output_type": "stream",
     "text": [
      "Testing Loss: 0.1204: 100%|██████████| 163/163 [00:02<00:00, 66.56it/s]\n"
     ]
    },
    {
     "name": "stdout",
     "output_type": "stream",
     "text": [
      "[2025-04-26 01:55:36:486] - Avg testing Loss: 0.172; Accuracy: 0.957\n",
      "[2025-04-26 01:55:36:487] - Epoch 2/15\n"
     ]
    },
    {
     "name": "stderr",
     "output_type": "stream",
     "text": [
      "Training Loss: 0.222: 100%|██████████| 650/650 [00:20<00:00, 31.66it/s]\n"
     ]
    },
    {
     "name": "stdout",
     "output_type": "stream",
     "text": [
      "[2025-04-26 01:55:57:021] - Avg training Loss: 0.199; Accuracy: 0.948\n"
     ]
    },
    {
     "name": "stderr",
     "output_type": "stream",
     "text": [
      "Testing Loss: 0.0048: 100%|██████████| 163/163 [00:02<00:00, 68.63it/s]\n"
     ]
    },
    {
     "name": "stdout",
     "output_type": "stream",
     "text": [
      "[2025-04-26 01:55:59:400] - Avg testing Loss: 0.085; Accuracy: 0.976\n",
      "[2025-04-26 01:55:59:401] - Epoch 3/15\n"
     ]
    },
    {
     "name": "stderr",
     "output_type": "stream",
     "text": [
      "Training Loss: 0.020: 100%|██████████| 650/650 [00:17<00:00, 37.41it/s]\n"
     ]
    },
    {
     "name": "stdout",
     "output_type": "stream",
     "text": [
      "[2025-04-26 01:56:16:781] - Avg training Loss: 0.096; Accuracy: 0.975\n"
     ]
    },
    {
     "name": "stderr",
     "output_type": "stream",
     "text": [
      "Testing Loss: 0.0100: 100%|██████████| 163/163 [00:02<00:00, 66.23it/s]\n"
     ]
    },
    {
     "name": "stdout",
     "output_type": "stream",
     "text": [
      "[2025-04-26 01:56:19:246] - Avg testing Loss: 0.086; Accuracy: 0.974\n",
      "[2025-04-26 01:56:19:247] - Epoch 4/15\n"
     ]
    },
    {
     "name": "stderr",
     "output_type": "stream",
     "text": [
      "Training Loss: 0.012: 100%|██████████| 650/650 [00:20<00:00, 31.42it/s]\n"
     ]
    },
    {
     "name": "stdout",
     "output_type": "stream",
     "text": [
      "[2025-04-26 01:56:39:935] - Avg training Loss: 0.060; Accuracy: 0.984\n"
     ]
    },
    {
     "name": "stderr",
     "output_type": "stream",
     "text": [
      "Testing Loss: 0.0011: 100%|██████████| 163/163 [00:02<00:00, 61.11it/s]\n"
     ]
    },
    {
     "name": "stdout",
     "output_type": "stream",
     "text": [
      "[2025-04-26 01:56:42:606] - Avg testing Loss: 0.086; Accuracy: 0.978\n",
      "[2025-04-26 01:56:42:607] - Epoch 5/15\n"
     ]
    },
    {
     "name": "stderr",
     "output_type": "stream",
     "text": [
      "Training Loss: 0.013: 100%|██████████| 650/650 [00:17<00:00, 37.63it/s]\n"
     ]
    },
    {
     "name": "stdout",
     "output_type": "stream",
     "text": [
      "[2025-04-26 01:56:59:884] - Avg training Loss: 0.047; Accuracy: 0.988\n"
     ]
    },
    {
     "name": "stderr",
     "output_type": "stream",
     "text": [
      "Testing Loss: 0.0008: 100%|██████████| 163/163 [00:05<00:00, 28.20it/s]\n"
     ]
    },
    {
     "name": "stdout",
     "output_type": "stream",
     "text": [
      "[2025-04-26 01:57:05:669] - Avg testing Loss: 0.093; Accuracy: 0.975\n",
      "[2025-04-26 01:57:05:670] - Epoch 6/15\n"
     ]
    },
    {
     "name": "stderr",
     "output_type": "stream",
     "text": [
      "Training Loss: 0.020: 100%|██████████| 650/650 [00:17<00:00, 37.11it/s]\n"
     ]
    },
    {
     "name": "stdout",
     "output_type": "stream",
     "text": [
      "[2025-04-26 01:57:23:190] - Avg training Loss: 0.032; Accuracy: 0.992\n"
     ]
    },
    {
     "name": "stderr",
     "output_type": "stream",
     "text": [
      "Testing Loss: 0.0008: 100%|██████████| 163/163 [00:02<00:00, 66.55it/s]\n"
     ]
    },
    {
     "name": "stdout",
     "output_type": "stream",
     "text": [
      "[2025-04-26 01:57:25:643] - Avg testing Loss: 0.081; Accuracy: 0.977\n",
      "[2025-04-26 01:57:25:645] - Epoch 7/15\n"
     ]
    },
    {
     "name": "stderr",
     "output_type": "stream",
     "text": [
      "Training Loss: 0.009: 100%|██████████| 650/650 [00:21<00:00, 30.83it/s]\n"
     ]
    },
    {
     "name": "stdout",
     "output_type": "stream",
     "text": [
      "[2025-04-26 01:57:46:734] - Avg training Loss: 0.028; Accuracy: 0.992\n"
     ]
    },
    {
     "name": "stderr",
     "output_type": "stream",
     "text": [
      "Testing Loss: 0.0009: 100%|██████████| 163/163 [00:02<00:00, 65.39it/s]\n"
     ]
    },
    {
     "name": "stdout",
     "output_type": "stream",
     "text": [
      "[2025-04-26 01:57:49:231] - Avg testing Loss: 0.087; Accuracy: 0.975\n",
      "[2025-04-26 01:57:49:231] - Early stopping at epoch 7\n",
      "[2025-04-26 01:57:49:231] - Best epoch: 2; Best Acc: 0.976\n",
      "[2025-04-26 01:57:49:269] - Model saved to models_icub/efficientnet-b0/20250426-015429/bs_16_lr_0.0001/efficientnet-b0_bs_16_lr_0.0001_epoch_2.pth\n",
      "[2025-04-26 01:57:49:269] - Loss dict saved to models_icub/efficientnet-b0/20250426-015429/bs_16_lr_0.0001/loss_dict.pkl\n"
     ]
    },
    {
     "name": "stderr",
     "output_type": "stream",
     "text": [
      "Evaluating test: 100%|██████████| 163/163 [00:02<00:00, 67.83it/s]\n"
     ]
    },
    {
     "name": "stdout",
     "output_type": "stream",
     "text": [
      "[2025-04-26 01:57:51:679] - Accuracy [test]: 0.9746153846153847; Weighted F1 [test]: 0.9745889929959982; Weighted Accuracy [test]: 0.9744192901980961\n"
     ]
    },
    {
     "name": "stderr",
     "output_type": "stream",
     "text": [
      "Evaluating validation: 100%|██████████| 188/188 [00:02<00:00, 67.38it/s]\n"
     ]
    },
    {
     "name": "stdout",
     "output_type": "stream",
     "text": [
      "[2025-04-26 01:57:54:875] - Accuracy [validation]: 0.9756666666666667; Weighted F1 [validation]: 0.9756128879131899; Weighted Accuracy [validation]: 0.9756666666666666\n",
      "[2025-04-26 01:57:55:274] - Finished training for batch size: 16, learning rate: 0.0001\n",
      "[2025-04-26 01:57:55:274] - --------------------------------------------------\n",
      "[2025-04-26 01:57:55:274] - --------------------------------------------------\n",
      "[2025-04-26 01:57:55:274] - Batch size: 16, Learning rate: 5e-05\n",
      "[2025-04-26 01:57:55:274] - --------------------------------------------------\n",
      "[2025-04-26 01:57:55:275] - Model directory models_icub/efficientnet-b0/20250426-015429/bs_16_lr_5e-05 created\n",
      "[2025-04-26 01:57:55:496] - Epoch 1/15\n"
     ]
    },
    {
     "name": "stderr",
     "output_type": "stream",
     "text": [
      "Training Loss: 0.522: 100%|██████████| 650/650 [00:20<00:00, 31.07it/s]\n"
     ]
    },
    {
     "name": "stdout",
     "output_type": "stream",
     "text": [
      "[2025-04-26 01:58:16:418] - Avg training Loss: 1.710; Accuracy: 0.603\n"
     ]
    },
    {
     "name": "stderr",
     "output_type": "stream",
     "text": [
      "Testing Loss: 0.3902: 100%|██████████| 163/163 [00:02<00:00, 65.98it/s]\n"
     ]
    },
    {
     "name": "stdout",
     "output_type": "stream",
     "text": [
      "[2025-04-26 01:58:18:892] - Avg testing Loss: 0.445; Accuracy: 0.909\n",
      "[2025-04-26 01:58:18:893] - Epoch 2/15\n"
     ]
    },
    {
     "name": "stderr",
     "output_type": "stream",
     "text": [
      "Training Loss: 0.266: 100%|██████████| 650/650 [00:17<00:00, 37.05it/s]\n"
     ]
    },
    {
     "name": "stdout",
     "output_type": "stream",
     "text": [
      "[2025-04-26 01:58:36:442] - Avg training Loss: 0.392; Accuracy: 0.912\n"
     ]
    },
    {
     "name": "stderr",
     "output_type": "stream",
     "text": [
      "Testing Loss: 0.0397: 100%|██████████| 163/163 [00:02<00:00, 67.33it/s]\n"
     ]
    },
    {
     "name": "stdout",
     "output_type": "stream",
     "text": [
      "[2025-04-26 01:58:38:867] - Avg testing Loss: 0.151; Accuracy: 0.967\n",
      "[2025-04-26 01:58:38:869] - Epoch 3/15\n"
     ]
    },
    {
     "name": "stderr",
     "output_type": "stream",
     "text": [
      "Training Loss: 0.039: 100%|██████████| 650/650 [00:20<00:00, 31.18it/s]\n"
     ]
    },
    {
     "name": "stdout",
     "output_type": "stream",
     "text": [
      "[2025-04-26 01:58:59:720] - Avg training Loss: 0.189; Accuracy: 0.955\n"
     ]
    },
    {
     "name": "stderr",
     "output_type": "stream",
     "text": [
      "Testing Loss: 0.0132: 100%|██████████| 163/163 [00:02<00:00, 65.21it/s]\n"
     ]
    },
    {
     "name": "stdout",
     "output_type": "stream",
     "text": [
      "[2025-04-26 01:59:02:224] - Avg testing Loss: 0.101; Accuracy: 0.974\n",
      "[2025-04-26 01:59:02:226] - Epoch 4/15\n"
     ]
    },
    {
     "name": "stderr",
     "output_type": "stream",
     "text": [
      "Training Loss: 0.043: 100%|██████████| 650/650 [00:17<00:00, 37.15it/s]\n"
     ]
    },
    {
     "name": "stdout",
     "output_type": "stream",
     "text": [
      "[2025-04-26 01:59:19:726] - Avg training Loss: 0.117; Accuracy: 0.970\n"
     ]
    },
    {
     "name": "stderr",
     "output_type": "stream",
     "text": [
      "Testing Loss: 0.0063: 100%|██████████| 163/163 [00:02<00:00, 66.44it/s]\n"
     ]
    },
    {
     "name": "stdout",
     "output_type": "stream",
     "text": [
      "[2025-04-26 01:59:22:184] - Avg testing Loss: 0.083; Accuracy: 0.976\n",
      "[2025-04-26 01:59:22:186] - Epoch 5/15\n"
     ]
    },
    {
     "name": "stderr",
     "output_type": "stream",
     "text": [
      "Training Loss: 0.038: 100%|██████████| 650/650 [00:20<00:00, 31.39it/s]\n"
     ]
    },
    {
     "name": "stdout",
     "output_type": "stream",
     "text": [
      "[2025-04-26 01:59:42:898] - Avg training Loss: 0.076; Accuracy: 0.983\n"
     ]
    },
    {
     "name": "stderr",
     "output_type": "stream",
     "text": [
      "Testing Loss: 0.0041: 100%|██████████| 163/163 [00:02<00:00, 68.79it/s]\n"
     ]
    },
    {
     "name": "stdout",
     "output_type": "stream",
     "text": [
      "[2025-04-26 01:59:45:272] - Avg testing Loss: 0.073; Accuracy: 0.978\n",
      "[2025-04-26 01:59:45:273] - Epoch 6/15\n"
     ]
    },
    {
     "name": "stderr",
     "output_type": "stream",
     "text": [
      "Training Loss: 0.156: 100%|██████████| 650/650 [00:21<00:00, 30.84it/s]\n"
     ]
    },
    {
     "name": "stdout",
     "output_type": "stream",
     "text": [
      "[2025-04-26 02:00:06:350] - Avg training Loss: 0.055; Accuracy: 0.988\n"
     ]
    },
    {
     "name": "stderr",
     "output_type": "stream",
     "text": [
      "Testing Loss: 0.0029: 100%|██████████| 163/163 [00:02<00:00, 65.76it/s]\n"
     ]
    },
    {
     "name": "stdout",
     "output_type": "stream",
     "text": [
      "[2025-04-26 02:00:08:834] - Avg testing Loss: 0.063; Accuracy: 0.981\n",
      "[2025-04-26 02:00:08:835] - Epoch 7/15\n"
     ]
    },
    {
     "name": "stderr",
     "output_type": "stream",
     "text": [
      "Training Loss: 0.008: 100%|██████████| 650/650 [00:17<00:00, 37.33it/s]\n"
     ]
    },
    {
     "name": "stdout",
     "output_type": "stream",
     "text": [
      "[2025-04-26 02:00:26:250] - Avg training Loss: 0.043; Accuracy: 0.990\n"
     ]
    },
    {
     "name": "stderr",
     "output_type": "stream",
     "text": [
      "Testing Loss: 0.0023: 100%|██████████| 163/163 [00:02<00:00, 67.47it/s]\n"
     ]
    },
    {
     "name": "stdout",
     "output_type": "stream",
     "text": [
      "[2025-04-26 02:00:28:670] - Avg testing Loss: 0.070; Accuracy: 0.978\n",
      "[2025-04-26 02:00:28:672] - Epoch 8/15\n"
     ]
    },
    {
     "name": "stderr",
     "output_type": "stream",
     "text": [
      "Training Loss: 0.050: 100%|██████████| 650/650 [00:20<00:00, 31.23it/s]\n"
     ]
    },
    {
     "name": "stdout",
     "output_type": "stream",
     "text": [
      "[2025-04-26 02:00:49:488] - Avg training Loss: 0.034; Accuracy: 0.992\n"
     ]
    },
    {
     "name": "stderr",
     "output_type": "stream",
     "text": [
      "Testing Loss: 0.0009: 100%|██████████| 163/163 [00:02<00:00, 62.04it/s]\n"
     ]
    },
    {
     "name": "stdout",
     "output_type": "stream",
     "text": [
      "[2025-04-26 02:00:52:120] - Avg testing Loss: 0.066; Accuracy: 0.982\n",
      "[2025-04-26 02:00:52:121] - Epoch 9/15\n"
     ]
    },
    {
     "name": "stderr",
     "output_type": "stream",
     "text": [
      "Training Loss: 0.008: 100%|██████████| 650/650 [00:17<00:00, 37.31it/s]\n"
     ]
    },
    {
     "name": "stdout",
     "output_type": "stream",
     "text": [
      "[2025-04-26 02:01:09:545] - Avg training Loss: 0.026; Accuracy: 0.995\n"
     ]
    },
    {
     "name": "stderr",
     "output_type": "stream",
     "text": [
      "Testing Loss: 0.0004: 100%|██████████| 163/163 [00:05<00:00, 28.34it/s]\n"
     ]
    },
    {
     "name": "stdout",
     "output_type": "stream",
     "text": [
      "[2025-04-26 02:01:15:302] - Avg testing Loss: 0.073; Accuracy: 0.981\n",
      "[2025-04-26 02:01:15:303] - Epoch 10/15\n"
     ]
    },
    {
     "name": "stderr",
     "output_type": "stream",
     "text": [
      "Training Loss: 0.001: 100%|██████████| 650/650 [00:17<00:00, 36.72it/s]\n"
     ]
    },
    {
     "name": "stdout",
     "output_type": "stream",
     "text": [
      "[2025-04-26 02:01:33:006] - Avg training Loss: 0.023; Accuracy: 0.995\n"
     ]
    },
    {
     "name": "stderr",
     "output_type": "stream",
     "text": [
      "Testing Loss: 0.0011: 100%|██████████| 163/163 [00:02<00:00, 66.95it/s]\n"
     ]
    },
    {
     "name": "stdout",
     "output_type": "stream",
     "text": [
      "[2025-04-26 02:01:35:445] - Avg testing Loss: 0.074; Accuracy: 0.981\n",
      "[2025-04-26 02:01:35:447] - Epoch 11/15\n"
     ]
    },
    {
     "name": "stderr",
     "output_type": "stream",
     "text": [
      "Training Loss: 0.006: 100%|██████████| 650/650 [00:20<00:00, 31.94it/s]\n"
     ]
    },
    {
     "name": "stdout",
     "output_type": "stream",
     "text": [
      "[2025-04-26 02:01:55:802] - Avg training Loss: 0.023; Accuracy: 0.995\n"
     ]
    },
    {
     "name": "stderr",
     "output_type": "stream",
     "text": [
      "Testing Loss: 0.0005: 100%|██████████| 163/163 [00:02<00:00, 68.14it/s]\n"
     ]
    },
    {
     "name": "stdout",
     "output_type": "stream",
     "text": [
      "[2025-04-26 02:01:58:199] - Avg testing Loss: 0.074; Accuracy: 0.981\n",
      "[2025-04-26 02:01:58:199] - Early stopping at epoch 11\n",
      "[2025-04-26 02:01:58:199] - Best epoch: 6; Best Acc: 0.981\n",
      "[2025-04-26 02:01:58:231] - Model saved to models_icub/efficientnet-b0/20250426-015429/bs_16_lr_5e-05/efficientnet-b0_bs_16_lr_5e-05_epoch_6.pth\n",
      "[2025-04-26 02:01:58:231] - Loss dict saved to models_icub/efficientnet-b0/20250426-015429/bs_16_lr_5e-05/loss_dict.pkl\n"
     ]
    },
    {
     "name": "stderr",
     "output_type": "stream",
     "text": [
      "Evaluating test: 100%|██████████| 163/163 [00:02<00:00, 67.85it/s]\n"
     ]
    },
    {
     "name": "stdout",
     "output_type": "stream",
     "text": [
      "[2025-04-26 02:02:00:640] - Accuracy [test]: 0.9807692307692307; Weighted F1 [test]: 0.9807856019200627; Weighted Accuracy [test]: 0.9805492498338566\n"
     ]
    },
    {
     "name": "stderr",
     "output_type": "stream",
     "text": [
      "Evaluating validation: 100%|██████████| 188/188 [00:02<00:00, 68.80it/s]\n"
     ]
    },
    {
     "name": "stdout",
     "output_type": "stream",
     "text": [
      "[2025-04-26 02:02:03:786] - Accuracy [validation]: 0.976; Weighted F1 [validation]: 0.9760189126695015; Weighted Accuracy [validation]: 0.9759999999999998\n",
      "[2025-04-26 02:02:04:178] - Finished training for batch size: 16, learning rate: 5e-05\n",
      "[2025-04-26 02:02:04:178] - --------------------------------------------------\n",
      "[2025-04-26 02:02:04:178] - --------------------------------------------------\n",
      "[2025-04-26 02:02:04:178] - Batch size: 16, Learning rate: 1e-05\n",
      "[2025-04-26 02:02:04:178] - --------------------------------------------------\n",
      "[2025-04-26 02:02:04:185] - Model directory models_icub/efficientnet-b0/20250426-015429/bs_16_lr_1e-05 created\n",
      "[2025-04-26 02:02:04:249] - Epoch 1/15\n"
     ]
    },
    {
     "name": "stderr",
     "output_type": "stream",
     "text": [
      "Training Loss: 2.693: 100%|██████████| 650/650 [00:17<00:00, 38.07it/s]\n"
     ]
    },
    {
     "name": "stdout",
     "output_type": "stream",
     "text": [
      "[2025-04-26 02:02:21:326] - Avg training Loss: 2.832; Accuracy: 0.215\n"
     ]
    },
    {
     "name": "stderr",
     "output_type": "stream",
     "text": [
      "Testing Loss: 2.5064: 100%|██████████| 163/163 [00:05<00:00, 27.52it/s]\n"
     ]
    },
    {
     "name": "stdout",
     "output_type": "stream",
     "text": [
      "[2025-04-26 02:02:27:253] - Avg testing Loss: 2.516; Accuracy: 0.512\n",
      "[2025-04-26 02:02:27:254] - Epoch 2/15\n"
     ]
    },
    {
     "name": "stderr",
     "output_type": "stream",
     "text": [
      "Training Loss: 1.775: 100%|██████████| 650/650 [00:17<00:00, 37.02it/s]\n"
     ]
    },
    {
     "name": "stdout",
     "output_type": "stream",
     "text": [
      "[2025-04-26 02:02:44:815] - Avg training Loss: 2.233; Accuracy: 0.554\n"
     ]
    },
    {
     "name": "stderr",
     "output_type": "stream",
     "text": [
      "Testing Loss: 1.8720: 100%|██████████| 163/163 [00:02<00:00, 64.60it/s]\n"
     ]
    },
    {
     "name": "stdout",
     "output_type": "stream",
     "text": [
      "[2025-04-26 02:02:47:342] - Avg testing Loss: 1.717; Accuracy: 0.722\n",
      "[2025-04-26 02:02:47:343] - Epoch 3/15\n"
     ]
    },
    {
     "name": "stderr",
     "output_type": "stream",
     "text": [
      "Training Loss: 1.393: 100%|██████████| 650/650 [00:20<00:00, 31.45it/s]\n"
     ]
    },
    {
     "name": "stdout",
     "output_type": "stream",
     "text": [
      "[2025-04-26 02:03:08:011] - Avg training Loss: 1.544; Accuracy: 0.717\n"
     ]
    },
    {
     "name": "stderr",
     "output_type": "stream",
     "text": [
      "Testing Loss: 1.2381: 100%|██████████| 163/163 [00:02<00:00, 66.49it/s]\n"
     ]
    },
    {
     "name": "stdout",
     "output_type": "stream",
     "text": [
      "[2025-04-26 02:03:10:467] - Avg testing Loss: 1.068; Accuracy: 0.825\n",
      "[2025-04-26 02:03:10:468] - Epoch 4/15\n"
     ]
    },
    {
     "name": "stderr",
     "output_type": "stream",
     "text": [
      "Training Loss: 1.114: 100%|██████████| 650/650 [00:17<00:00, 37.42it/s]\n"
     ]
    },
    {
     "name": "stdout",
     "output_type": "stream",
     "text": [
      "[2025-04-26 02:03:27:843] - Avg training Loss: 1.043; Accuracy: 0.805\n"
     ]
    },
    {
     "name": "stderr",
     "output_type": "stream",
     "text": [
      "Testing Loss: 0.5991: 100%|██████████| 163/163 [00:02<00:00, 67.58it/s]\n"
     ]
    },
    {
     "name": "stdout",
     "output_type": "stream",
     "text": [
      "[2025-04-26 02:03:30:260] - Avg testing Loss: 0.676; Accuracy: 0.884\n",
      "[2025-04-26 02:03:30:261] - Epoch 5/15\n"
     ]
    },
    {
     "name": "stderr",
     "output_type": "stream",
     "text": [
      "Training Loss: 0.666: 100%|██████████| 650/650 [00:20<00:00, 31.49it/s]\n"
     ]
    },
    {
     "name": "stdout",
     "output_type": "stream",
     "text": [
      "[2025-04-26 02:03:50:903] - Avg training Loss: 0.729; Accuracy: 0.858\n"
     ]
    },
    {
     "name": "stderr",
     "output_type": "stream",
     "text": [
      "Testing Loss: 0.2925: 100%|██████████| 163/163 [00:02<00:00, 65.47it/s]\n"
     ]
    },
    {
     "name": "stdout",
     "output_type": "stream",
     "text": [
      "[2025-04-26 02:03:53:397] - Avg testing Loss: 0.451; Accuracy: 0.918\n",
      "[2025-04-26 02:03:53:398] - Epoch 6/15\n"
     ]
    },
    {
     "name": "stderr",
     "output_type": "stream",
     "text": [
      "Training Loss: 0.915: 100%|██████████| 650/650 [00:20<00:00, 31.57it/s]\n"
     ]
    },
    {
     "name": "stdout",
     "output_type": "stream",
     "text": [
      "[2025-04-26 02:04:13:993] - Avg training Loss: 0.531; Accuracy: 0.890\n"
     ]
    },
    {
     "name": "stderr",
     "output_type": "stream",
     "text": [
      "Testing Loss: 0.1867: 100%|██████████| 163/163 [00:02<00:00, 66.56it/s]\n"
     ]
    },
    {
     "name": "stdout",
     "output_type": "stream",
     "text": [
      "[2025-04-26 02:04:16:446] - Avg testing Loss: 0.338; Accuracy: 0.933\n",
      "[2025-04-26 02:04:16:447] - Epoch 7/15\n"
     ]
    },
    {
     "name": "stderr",
     "output_type": "stream",
     "text": [
      "Training Loss: 0.830: 100%|██████████| 650/650 [00:17<00:00, 38.21it/s]\n"
     ]
    },
    {
     "name": "stdout",
     "output_type": "stream",
     "text": [
      "[2025-04-26 02:04:33:464] - Avg training Loss: 0.417; Accuracy: 0.912\n"
     ]
    },
    {
     "name": "stderr",
     "output_type": "stream",
     "text": [
      "Testing Loss: 0.1335: 100%|██████████| 163/163 [00:02<00:00, 68.61it/s]\n"
     ]
    },
    {
     "name": "stdout",
     "output_type": "stream",
     "text": [
      "[2025-04-26 02:04:35:843] - Avg testing Loss: 0.255; Accuracy: 0.950\n",
      "[2025-04-26 02:04:35:845] - Epoch 8/15\n"
     ]
    },
    {
     "name": "stderr",
     "output_type": "stream",
     "text": [
      "Training Loss: 0.236: 100%|██████████| 650/650 [00:20<00:00, 31.51it/s]\n"
     ]
    },
    {
     "name": "stdout",
     "output_type": "stream",
     "text": [
      "[2025-04-26 02:04:56:477] - Avg training Loss: 0.337; Accuracy: 0.927\n"
     ]
    },
    {
     "name": "stderr",
     "output_type": "stream",
     "text": [
      "Testing Loss: 0.0929: 100%|██████████| 163/163 [00:02<00:00, 66.91it/s]\n"
     ]
    },
    {
     "name": "stdout",
     "output_type": "stream",
     "text": [
      "[2025-04-26 02:04:58:917] - Avg testing Loss: 0.204; Accuracy: 0.953\n",
      "[2025-04-26 02:04:58:918] - Epoch 9/15\n"
     ]
    },
    {
     "name": "stderr",
     "output_type": "stream",
     "text": [
      "Training Loss: 0.239: 100%|██████████| 650/650 [00:17<00:00, 37.76it/s]\n"
     ]
    },
    {
     "name": "stdout",
     "output_type": "stream",
     "text": [
      "[2025-04-26 02:05:16:136] - Avg training Loss: 0.279; Accuracy: 0.939\n"
     ]
    },
    {
     "name": "stderr",
     "output_type": "stream",
     "text": [
      "Testing Loss: 0.0594: 100%|██████████| 163/163 [00:02<00:00, 66.34it/s]\n"
     ]
    },
    {
     "name": "stdout",
     "output_type": "stream",
     "text": [
      "[2025-04-26 02:05:18:597] - Avg testing Loss: 0.164; Accuracy: 0.960\n",
      "[2025-04-26 02:05:18:598] - Epoch 10/15\n"
     ]
    },
    {
     "name": "stderr",
     "output_type": "stream",
     "text": [
      "Training Loss: 0.088: 100%|██████████| 650/650 [00:20<00:00, 31.60it/s]\n"
     ]
    },
    {
     "name": "stdout",
     "output_type": "stream",
     "text": [
      "[2025-04-26 02:05:39:169] - Avg training Loss: 0.231; Accuracy: 0.950\n"
     ]
    },
    {
     "name": "stderr",
     "output_type": "stream",
     "text": [
      "Testing Loss: 0.0411: 100%|██████████| 163/163 [00:02<00:00, 67.46it/s]\n"
     ]
    },
    {
     "name": "stdout",
     "output_type": "stream",
     "text": [
      "[2025-04-26 02:05:41:590] - Avg testing Loss: 0.145; Accuracy: 0.963\n",
      "[2025-04-26 02:05:41:591] - Epoch 11/15\n"
     ]
    },
    {
     "name": "stderr",
     "output_type": "stream",
     "text": [
      "Training Loss: 0.080: 100%|██████████| 650/650 [00:20<00:00, 31.47it/s]\n"
     ]
    },
    {
     "name": "stdout",
     "output_type": "stream",
     "text": [
      "[2025-04-26 02:06:02:248] - Avg training Loss: 0.196; Accuracy: 0.957\n"
     ]
    },
    {
     "name": "stderr",
     "output_type": "stream",
     "text": [
      "Testing Loss: 0.0276: 100%|██████████| 163/163 [00:02<00:00, 64.61it/s]\n"
     ]
    },
    {
     "name": "stdout",
     "output_type": "stream",
     "text": [
      "[2025-04-26 02:06:04:776] - Avg testing Loss: 0.129; Accuracy: 0.966\n",
      "[2025-04-26 02:06:04:778] - Epoch 12/15\n"
     ]
    },
    {
     "name": "stderr",
     "output_type": "stream",
     "text": [
      "Training Loss: 0.192: 100%|██████████| 650/650 [00:17<00:00, 37.84it/s]\n"
     ]
    },
    {
     "name": "stdout",
     "output_type": "stream",
     "text": [
      "[2025-04-26 02:06:21:957] - Avg training Loss: 0.173; Accuracy: 0.963\n"
     ]
    },
    {
     "name": "stderr",
     "output_type": "stream",
     "text": [
      "Testing Loss: 0.0271: 100%|██████████| 163/163 [00:02<00:00, 67.50it/s]\n"
     ]
    },
    {
     "name": "stdout",
     "output_type": "stream",
     "text": [
      "[2025-04-26 02:06:24:376] - Avg testing Loss: 0.117; Accuracy: 0.969\n",
      "[2025-04-26 02:06:24:377] - Epoch 13/15\n"
     ]
    },
    {
     "name": "stderr",
     "output_type": "stream",
     "text": [
      "Training Loss: 0.026: 100%|██████████| 650/650 [00:17<00:00, 38.01it/s]\n"
     ]
    },
    {
     "name": "stdout",
     "output_type": "stream",
     "text": [
      "[2025-04-26 02:06:41:482] - Avg training Loss: 0.149; Accuracy: 0.966\n"
     ]
    },
    {
     "name": "stderr",
     "output_type": "stream",
     "text": [
      "Testing Loss: 0.0224: 100%|██████████| 163/163 [00:02<00:00, 64.65it/s]\n"
     ]
    },
    {
     "name": "stdout",
     "output_type": "stream",
     "text": [
      "[2025-04-26 02:06:44:010] - Avg testing Loss: 0.110; Accuracy: 0.971\n",
      "[2025-04-26 02:06:44:011] - Epoch 14/15\n"
     ]
    },
    {
     "name": "stderr",
     "output_type": "stream",
     "text": [
      "Training Loss: 0.125: 100%|██████████| 650/650 [00:18<00:00, 35.09it/s]\n"
     ]
    },
    {
     "name": "stdout",
     "output_type": "stream",
     "text": [
      "[2025-04-26 02:07:02:538] - Avg training Loss: 0.136; Accuracy: 0.971\n"
     ]
    },
    {
     "name": "stderr",
     "output_type": "stream",
     "text": [
      "Testing Loss: 0.0157: 100%|██████████| 163/163 [00:02<00:00, 57.84it/s]\n"
     ]
    },
    {
     "name": "stdout",
     "output_type": "stream",
     "text": [
      "[2025-04-26 02:07:05:362] - Avg testing Loss: 0.099; Accuracy: 0.973\n",
      "[2025-04-26 02:07:05:363] - Epoch 15/15\n"
     ]
    },
    {
     "name": "stderr",
     "output_type": "stream",
     "text": [
      "Training Loss: 0.063: 100%|██████████| 650/650 [00:20<00:00, 31.21it/s]\n"
     ]
    },
    {
     "name": "stdout",
     "output_type": "stream",
     "text": [
      "[2025-04-26 02:07:26:192] - Avg training Loss: 0.116; Accuracy: 0.974\n"
     ]
    },
    {
     "name": "stderr",
     "output_type": "stream",
     "text": [
      "Testing Loss: 0.0125: 100%|██████████| 163/163 [00:02<00:00, 55.21it/s]\n"
     ]
    },
    {
     "name": "stdout",
     "output_type": "stream",
     "text": [
      "[2025-04-26 02:07:29:150] - Avg testing Loss: 0.091; Accuracy: 0.976\n",
      "[2025-04-26 02:07:29:150] - Best epoch: 14; Best Acc: 0.973\n",
      "[2025-04-26 02:07:29:186] - Model saved to models_icub/efficientnet-b0/20250426-015429/bs_16_lr_1e-05/efficientnet-b0_bs_16_lr_1e-05_epoch_14.pth\n",
      "[2025-04-26 02:07:29:186] - Loss dict saved to models_icub/efficientnet-b0/20250426-015429/bs_16_lr_1e-05/loss_dict.pkl\n"
     ]
    },
    {
     "name": "stderr",
     "output_type": "stream",
     "text": [
      "Evaluating test: 100%|██████████| 163/163 [00:02<00:00, 57.76it/s]\n"
     ]
    },
    {
     "name": "stdout",
     "output_type": "stream",
     "text": [
      "[2025-04-26 02:07:32:015] - Accuracy [test]: 0.9757692307692307; Weighted F1 [test]: 0.9757909521549798; Weighted Accuracy [test]: 0.9750704353890024\n"
     ]
    },
    {
     "name": "stderr",
     "output_type": "stream",
     "text": [
      "Evaluating validation: 100%|██████████| 188/188 [00:03<00:00, 56.28it/s]\n"
     ]
    },
    {
     "name": "stdout",
     "output_type": "stream",
     "text": [
      "[2025-04-26 02:07:35:844] - Accuracy [validation]: 0.968; Weighted F1 [validation]: 0.9679693921020613; Weighted Accuracy [validation]: 0.968\n",
      "[2025-04-26 02:07:36:424] - Finished training for batch size: 16, learning rate: 1e-05\n",
      "[2025-04-26 02:07:36:424] - --------------------------------------------------\n",
      "[2025-04-26 02:07:36:424] - --------------------------------------------------\n",
      "[2025-04-26 02:07:36:424] - Batch size: 32, Learning rate: 0.0001\n",
      "[2025-04-26 02:07:36:424] - --------------------------------------------------\n",
      "[2025-04-26 02:07:36:425] - Model directory models_icub/efficientnet-b0/20250426-015429/bs_32_lr_0.0001 created\n",
      "[2025-04-26 02:07:36:501] - Epoch 1/15\n"
     ]
    },
    {
     "name": "stderr",
     "output_type": "stream",
     "text": [
      "Training Loss: 0.399: 100%|██████████| 325/325 [00:14<00:00, 22.42it/s]\n"
     ]
    },
    {
     "name": "stdout",
     "output_type": "stream",
     "text": [
      "[2025-04-26 02:07:50:997] - Avg training Loss: 1.387; Accuracy: 0.677\n"
     ]
    },
    {
     "name": "stderr",
     "output_type": "stream",
     "text": [
      "Testing Loss: 0.0847: 100%|██████████| 82/82 [00:02<00:00, 40.09it/s]\n"
     ]
    },
    {
     "name": "stdout",
     "output_type": "stream",
     "text": [
      "[2025-04-26 02:07:53:048] - Avg testing Loss: 0.267; Accuracy: 0.937\n",
      "[2025-04-26 02:07:53:050] - Epoch 2/15\n"
     ]
    },
    {
     "name": "stderr",
     "output_type": "stream",
     "text": [
      "Training Loss: 0.112: 100%|██████████| 325/325 [00:14<00:00, 23.14it/s]\n"
     ]
    },
    {
     "name": "stdout",
     "output_type": "stream",
     "text": [
      "[2025-04-26 02:08:07:098] - Avg training Loss: 0.208; Accuracy: 0.948\n"
     ]
    },
    {
     "name": "stderr",
     "output_type": "stream",
     "text": [
      "Testing Loss: 0.0272: 100%|██████████| 82/82 [00:02<00:00, 40.13it/s]\n"
     ]
    },
    {
     "name": "stdout",
     "output_type": "stream",
     "text": [
      "[2025-04-26 02:08:09:146] - Avg testing Loss: 0.115; Accuracy: 0.970\n",
      "[2025-04-26 02:08:09:147] - Epoch 3/15\n"
     ]
    },
    {
     "name": "stderr",
     "output_type": "stream",
     "text": [
      "Training Loss: 0.114: 100%|██████████| 325/325 [00:14<00:00, 22.69it/s]\n"
     ]
    },
    {
     "name": "stdout",
     "output_type": "stream",
     "text": [
      "[2025-04-26 02:08:23:474] - Avg training Loss: 0.091; Accuracy: 0.980\n"
     ]
    },
    {
     "name": "stderr",
     "output_type": "stream",
     "text": [
      "Testing Loss: 0.0455: 100%|██████████| 82/82 [00:02<00:00, 40.38it/s]\n"
     ]
    },
    {
     "name": "stdout",
     "output_type": "stream",
     "text": [
      "[2025-04-26 02:08:25:509] - Avg testing Loss: 0.081; Accuracy: 0.975\n",
      "[2025-04-26 02:08:25:511] - Epoch 4/15\n"
     ]
    },
    {
     "name": "stderr",
     "output_type": "stream",
     "text": [
      "Training Loss: 0.011: 100%|██████████| 325/325 [00:14<00:00, 23.21it/s]\n"
     ]
    },
    {
     "name": "stdout",
     "output_type": "stream",
     "text": [
      "[2025-04-26 02:08:39:517] - Avg training Loss: 0.052; Accuracy: 0.987\n"
     ]
    },
    {
     "name": "stderr",
     "output_type": "stream",
     "text": [
      "Testing Loss: 0.0045: 100%|██████████| 82/82 [00:02<00:00, 40.52it/s]\n"
     ]
    },
    {
     "name": "stdout",
     "output_type": "stream",
     "text": [
      "[2025-04-26 02:08:41:546] - Avg testing Loss: 0.070; Accuracy: 0.980\n",
      "[2025-04-26 02:08:41:547] - Epoch 5/15\n"
     ]
    },
    {
     "name": "stderr",
     "output_type": "stream",
     "text": [
      "Training Loss: 0.006: 100%|██████████| 325/325 [00:14<00:00, 22.88it/s]\n"
     ]
    },
    {
     "name": "stdout",
     "output_type": "stream",
     "text": [
      "[2025-04-26 02:08:55:756] - Avg training Loss: 0.035; Accuracy: 0.993\n"
     ]
    },
    {
     "name": "stderr",
     "output_type": "stream",
     "text": [
      "Testing Loss: 0.0024: 100%|██████████| 82/82 [00:01<00:00, 41.06it/s]\n"
     ]
    },
    {
     "name": "stdout",
     "output_type": "stream",
     "text": [
      "[2025-04-26 02:08:57:758] - Avg testing Loss: 0.080; Accuracy: 0.977\n",
      "[2025-04-26 02:08:57:760] - Epoch 6/15\n"
     ]
    },
    {
     "name": "stderr",
     "output_type": "stream",
     "text": [
      "Training Loss: 0.007: 100%|██████████| 325/325 [00:14<00:00, 23.19it/s]\n"
     ]
    },
    {
     "name": "stdout",
     "output_type": "stream",
     "text": [
      "[2025-04-26 02:09:11:779] - Avg training Loss: 0.027; Accuracy: 0.994\n"
     ]
    },
    {
     "name": "stderr",
     "output_type": "stream",
     "text": [
      "Testing Loss: 0.0021: 100%|██████████| 82/82 [00:02<00:00, 40.73it/s]\n"
     ]
    },
    {
     "name": "stdout",
     "output_type": "stream",
     "text": [
      "[2025-04-26 02:09:13:797] - Avg testing Loss: 0.075; Accuracy: 0.980\n",
      "[2025-04-26 02:09:13:799] - Epoch 7/15\n"
     ]
    },
    {
     "name": "stderr",
     "output_type": "stream",
     "text": [
      "Training Loss: 0.004: 100%|██████████| 325/325 [00:13<00:00, 23.23it/s]\n"
     ]
    },
    {
     "name": "stdout",
     "output_type": "stream",
     "text": [
      "[2025-04-26 02:09:27:789] - Avg training Loss: 0.023; Accuracy: 0.994\n"
     ]
    },
    {
     "name": "stderr",
     "output_type": "stream",
     "text": [
      "Testing Loss: 0.0208: 100%|██████████| 82/82 [00:02<00:00, 40.82it/s]\n"
     ]
    },
    {
     "name": "stdout",
     "output_type": "stream",
     "text": [
      "[2025-04-26 02:09:29:803] - Avg testing Loss: 0.075; Accuracy: 0.978\n",
      "[2025-04-26 02:09:29:804] - Epoch 8/15\n"
     ]
    },
    {
     "name": "stderr",
     "output_type": "stream",
     "text": [
      "Training Loss: 0.016: 100%|██████████| 325/325 [00:14<00:00, 22.99it/s]\n"
     ]
    },
    {
     "name": "stdout",
     "output_type": "stream",
     "text": [
      "[2025-04-26 02:09:43:945] - Avg training Loss: 0.017; Accuracy: 0.996\n"
     ]
    },
    {
     "name": "stderr",
     "output_type": "stream",
     "text": [
      "Testing Loss: 0.0044: 100%|██████████| 82/82 [00:02<00:00, 39.91it/s]\n"
     ]
    },
    {
     "name": "stdout",
     "output_type": "stream",
     "text": [
      "[2025-04-26 02:09:46:005] - Avg testing Loss: 0.079; Accuracy: 0.978\n",
      "[2025-04-26 02:09:46:005] - Early stopping at epoch 8\n",
      "[2025-04-26 02:09:46:005] - Best epoch: 3; Best Acc: 0.975\n",
      "[2025-04-26 02:09:46:039] - Model saved to models_icub/efficientnet-b0/20250426-015429/bs_32_lr_0.0001/efficientnet-b0_bs_32_lr_0.0001_epoch_3.pth\n",
      "[2025-04-26 02:09:46:040] - Loss dict saved to models_icub/efficientnet-b0/20250426-015429/bs_32_lr_0.0001/loss_dict.pkl\n"
     ]
    },
    {
     "name": "stderr",
     "output_type": "stream",
     "text": [
      "Evaluating test: 100%|██████████| 82/82 [00:02<00:00, 40.27it/s]\n"
     ]
    },
    {
     "name": "stdout",
     "output_type": "stream",
     "text": [
      "[2025-04-26 02:09:48:082] - Accuracy [test]: 0.9776923076923076; Weighted F1 [test]: 0.9776912573678918; Weighted Accuracy [test]: 0.9773287826168205\n"
     ]
    },
    {
     "name": "stderr",
     "output_type": "stream",
     "text": [
      "Evaluating validation: 100%|██████████| 188/188 [00:03<00:00, 58.34it/s]\n"
     ]
    },
    {
     "name": "stdout",
     "output_type": "stream",
     "text": [
      "[2025-04-26 02:09:51:751] - Accuracy [validation]: 0.9746666666666667; Weighted F1 [validation]: 0.974718937734738; Weighted Accuracy [validation]: 0.9746666666666668\n",
      "[2025-04-26 02:09:52:190] - Finished training for batch size: 32, learning rate: 0.0001\n",
      "[2025-04-26 02:09:52:190] - --------------------------------------------------\n",
      "[2025-04-26 02:09:52:190] - --------------------------------------------------\n",
      "[2025-04-26 02:09:52:190] - Batch size: 32, Learning rate: 5e-05\n",
      "[2025-04-26 02:09:52:191] - --------------------------------------------------\n",
      "[2025-04-26 02:09:52:191] - Model directory models_icub/efficientnet-b0/20250426-015429/bs_32_lr_5e-05 created\n",
      "[2025-04-26 02:09:52:266] - Epoch 1/15\n"
     ]
    },
    {
     "name": "stderr",
     "output_type": "stream",
     "text": [
      "Training Loss: 0.889: 100%|██████████| 325/325 [00:14<00:00, 22.94it/s]\n"
     ]
    },
    {
     "name": "stdout",
     "output_type": "stream",
     "text": [
      "[2025-04-26 02:10:06:439] - Avg training Loss: 2.020; Accuracy: 0.534\n"
     ]
    },
    {
     "name": "stderr",
     "output_type": "stream",
     "text": [
      "Testing Loss: 0.8687: 100%|██████████| 82/82 [00:01<00:00, 41.07it/s]\n"
     ]
    },
    {
     "name": "stdout",
     "output_type": "stream",
     "text": [
      "[2025-04-26 02:10:08:441] - Avg testing Loss: 0.801; Accuracy: 0.858\n",
      "[2025-04-26 02:10:08:443] - Epoch 2/15\n"
     ]
    },
    {
     "name": "stderr",
     "output_type": "stream",
     "text": [
      "Training Loss: 0.272: 100%|██████████| 325/325 [00:14<00:00, 23.05it/s]\n"
     ]
    },
    {
     "name": "stdout",
     "output_type": "stream",
     "text": [
      "[2025-04-26 02:10:22:545] - Avg training Loss: 0.542; Accuracy: 0.891\n"
     ]
    },
    {
     "name": "stderr",
     "output_type": "stream",
     "text": [
      "Testing Loss: 0.0951: 100%|██████████| 82/82 [00:02<00:00, 40.39it/s]\n"
     ]
    },
    {
     "name": "stdout",
     "output_type": "stream",
     "text": [
      "[2025-04-26 02:10:24:580] - Avg testing Loss: 0.232; Accuracy: 0.955\n",
      "[2025-04-26 02:10:24:581] - Epoch 3/15\n"
     ]
    },
    {
     "name": "stderr",
     "output_type": "stream",
     "text": [
      "Training Loss: 0.224: 100%|██████████| 325/325 [00:14<00:00, 22.99it/s]\n"
     ]
    },
    {
     "name": "stdout",
     "output_type": "stream",
     "text": [
      "[2025-04-26 02:10:38:723] - Avg training Loss: 0.220; Accuracy: 0.955\n"
     ]
    },
    {
     "name": "stderr",
     "output_type": "stream",
     "text": [
      "Testing Loss: 0.0420: 100%|██████████| 82/82 [00:02<00:00, 40.50it/s]\n"
     ]
    },
    {
     "name": "stdout",
     "output_type": "stream",
     "text": [
      "[2025-04-26 02:10:40:753] - Avg testing Loss: 0.132; Accuracy: 0.968\n",
      "[2025-04-26 02:10:40:754] - Epoch 4/15\n"
     ]
    },
    {
     "name": "stderr",
     "output_type": "stream",
     "text": [
      "Training Loss: 0.156: 100%|██████████| 325/325 [00:14<00:00, 22.74it/s]\n"
     ]
    },
    {
     "name": "stdout",
     "output_type": "stream",
     "text": [
      "[2025-04-26 02:10:55:046] - Avg training Loss: 0.120; Accuracy: 0.973\n"
     ]
    },
    {
     "name": "stderr",
     "output_type": "stream",
     "text": [
      "Testing Loss: 0.0115: 100%|██████████| 82/82 [00:02<00:00, 40.26it/s]\n"
     ]
    },
    {
     "name": "stdout",
     "output_type": "stream",
     "text": [
      "[2025-04-26 02:10:57:088] - Avg testing Loss: 0.098; Accuracy: 0.973\n",
      "[2025-04-26 02:10:57:089] - Epoch 5/15\n"
     ]
    },
    {
     "name": "stderr",
     "output_type": "stream",
     "text": [
      "Training Loss: 0.049: 100%|██████████| 325/325 [00:14<00:00, 22.86it/s]\n"
     ]
    },
    {
     "name": "stdout",
     "output_type": "stream",
     "text": [
      "[2025-04-26 02:11:11:310] - Avg training Loss: 0.079; Accuracy: 0.982\n"
     ]
    },
    {
     "name": "stderr",
     "output_type": "stream",
     "text": [
      "Testing Loss: 0.0040: 100%|██████████| 82/82 [00:02<00:00, 38.74it/s]\n"
     ]
    },
    {
     "name": "stdout",
     "output_type": "stream",
     "text": [
      "[2025-04-26 02:11:13:432] - Avg testing Loss: 0.082; Accuracy: 0.977\n",
      "[2025-04-26 02:11:13:433] - Epoch 6/15\n"
     ]
    },
    {
     "name": "stderr",
     "output_type": "stream",
     "text": [
      "Training Loss: 0.039: 100%|██████████| 325/325 [00:14<00:00, 22.89it/s]\n"
     ]
    },
    {
     "name": "stdout",
     "output_type": "stream",
     "text": [
      "[2025-04-26 02:11:27:634] - Avg training Loss: 0.058; Accuracy: 0.988\n"
     ]
    },
    {
     "name": "stderr",
     "output_type": "stream",
     "text": [
      "Testing Loss: 0.0019: 100%|██████████| 82/82 [00:02<00:00, 39.11it/s]\n"
     ]
    },
    {
     "name": "stdout",
     "output_type": "stream",
     "text": [
      "[2025-04-26 02:11:29:736] - Avg testing Loss: 0.075; Accuracy: 0.978\n",
      "[2025-04-26 02:11:29:737] - Epoch 7/15\n"
     ]
    },
    {
     "name": "stderr",
     "output_type": "stream",
     "text": [
      "Training Loss: 0.042: 100%|██████████| 325/325 [00:14<00:00, 22.99it/s]\n"
     ]
    },
    {
     "name": "stdout",
     "output_type": "stream",
     "text": [
      "[2025-04-26 02:11:43:877] - Avg training Loss: 0.041; Accuracy: 0.992\n"
     ]
    },
    {
     "name": "stderr",
     "output_type": "stream",
     "text": [
      "Testing Loss: 0.0024: 100%|██████████| 82/82 [00:02<00:00, 39.28it/s]\n"
     ]
    },
    {
     "name": "stdout",
     "output_type": "stream",
     "text": [
      "[2025-04-26 02:11:45:970] - Avg testing Loss: 0.069; Accuracy: 0.980\n",
      "[2025-04-26 02:11:45:971] - Epoch 8/15\n"
     ]
    },
    {
     "name": "stderr",
     "output_type": "stream",
     "text": [
      "Training Loss: 0.016: 100%|██████████| 325/325 [00:14<00:00, 22.90it/s]\n"
     ]
    },
    {
     "name": "stdout",
     "output_type": "stream",
     "text": [
      "[2025-04-26 02:12:00:165] - Avg training Loss: 0.034; Accuracy: 0.993\n"
     ]
    },
    {
     "name": "stderr",
     "output_type": "stream",
     "text": [
      "Testing Loss: 0.0029: 100%|██████████| 82/82 [00:02<00:00, 40.30it/s]\n"
     ]
    },
    {
     "name": "stdout",
     "output_type": "stream",
     "text": [
      "[2025-04-26 02:12:02:205] - Avg testing Loss: 0.070; Accuracy: 0.979\n",
      "[2025-04-26 02:12:02:206] - Epoch 9/15\n"
     ]
    },
    {
     "name": "stderr",
     "output_type": "stream",
     "text": [
      "Training Loss: 0.010: 100%|██████████| 325/325 [00:14<00:00, 22.64it/s]\n"
     ]
    },
    {
     "name": "stdout",
     "output_type": "stream",
     "text": [
      "[2025-04-26 02:12:16:561] - Avg training Loss: 0.024; Accuracy: 0.996\n"
     ]
    },
    {
     "name": "stderr",
     "output_type": "stream",
     "text": [
      "Testing Loss: 0.0019: 100%|██████████| 82/82 [00:02<00:00, 39.31it/s]\n"
     ]
    },
    {
     "name": "stdout",
     "output_type": "stream",
     "text": [
      "[2025-04-26 02:12:18:652] - Avg testing Loss: 0.067; Accuracy: 0.982\n",
      "[2025-04-26 02:12:18:653] - Epoch 10/15\n"
     ]
    },
    {
     "name": "stderr",
     "output_type": "stream",
     "text": [
      "Training Loss: 0.010: 100%|██████████| 325/325 [00:14<00:00, 22.92it/s]\n"
     ]
    },
    {
     "name": "stdout",
     "output_type": "stream",
     "text": [
      "[2025-04-26 02:12:32:836] - Avg training Loss: 0.023; Accuracy: 0.995\n"
     ]
    },
    {
     "name": "stderr",
     "output_type": "stream",
     "text": [
      "Testing Loss: 0.0016: 100%|██████████| 82/82 [00:02<00:00, 39.46it/s]\n"
     ]
    },
    {
     "name": "stdout",
     "output_type": "stream",
     "text": [
      "[2025-04-26 02:12:34:919] - Avg testing Loss: 0.072; Accuracy: 0.980\n",
      "[2025-04-26 02:12:34:920] - Epoch 11/15\n"
     ]
    },
    {
     "name": "stderr",
     "output_type": "stream",
     "text": [
      "Training Loss: 0.010: 100%|██████████| 325/325 [00:14<00:00, 22.79it/s]\n"
     ]
    },
    {
     "name": "stdout",
     "output_type": "stream",
     "text": [
      "[2025-04-26 02:12:49:185] - Avg training Loss: 0.020; Accuracy: 0.996\n"
     ]
    },
    {
     "name": "stderr",
     "output_type": "stream",
     "text": [
      "Testing Loss: 0.0032: 100%|██████████| 82/82 [00:02<00:00, 39.35it/s]\n"
     ]
    },
    {
     "name": "stdout",
     "output_type": "stream",
     "text": [
      "[2025-04-26 02:12:51:274] - Avg testing Loss: 0.070; Accuracy: 0.981\n",
      "[2025-04-26 02:12:51:276] - Epoch 12/15\n"
     ]
    },
    {
     "name": "stderr",
     "output_type": "stream",
     "text": [
      "Training Loss: 0.078: 100%|██████████| 325/325 [00:14<00:00, 22.84it/s]\n"
     ]
    },
    {
     "name": "stdout",
     "output_type": "stream",
     "text": [
      "[2025-04-26 02:13:05:506] - Avg training Loss: 0.018; Accuracy: 0.996\n"
     ]
    },
    {
     "name": "stderr",
     "output_type": "stream",
     "text": [
      "Testing Loss: 0.0011: 100%|██████████| 82/82 [00:02<00:00, 38.84it/s]\n"
     ]
    },
    {
     "name": "stdout",
     "output_type": "stream",
     "text": [
      "[2025-04-26 02:13:07:623] - Avg testing Loss: 0.069; Accuracy: 0.982\n",
      "[2025-04-26 02:13:07:624] - Early stopping at epoch 12\n",
      "[2025-04-26 02:13:07:624] - Best epoch: 7; Best Acc: 0.980\n",
      "[2025-04-26 02:13:07:658] - Model saved to models_icub/efficientnet-b0/20250426-015429/bs_32_lr_5e-05/efficientnet-b0_bs_32_lr_5e-05_epoch_7.pth\n",
      "[2025-04-26 02:13:07:658] - Loss dict saved to models_icub/efficientnet-b0/20250426-015429/bs_32_lr_5e-05/loss_dict.pkl\n"
     ]
    },
    {
     "name": "stderr",
     "output_type": "stream",
     "text": [
      "Evaluating test: 100%|██████████| 82/82 [00:02<00:00, 39.90it/s]\n"
     ]
    },
    {
     "name": "stdout",
     "output_type": "stream",
     "text": [
      "[2025-04-26 02:13:09:719] - Accuracy [test]: 0.9823076923076923; Weighted F1 [test]: 0.982331263534537; Weighted Accuracy [test]: 0.9820100313838672\n"
     ]
    },
    {
     "name": "stderr",
     "output_type": "stream",
     "text": [
      "Evaluating validation: 100%|██████████| 188/188 [00:03<00:00, 60.12it/s]\n"
     ]
    },
    {
     "name": "stdout",
     "output_type": "stream",
     "text": [
      "[2025-04-26 02:13:13:298] - Accuracy [validation]: 0.9783333333333334; Weighted F1 [validation]: 0.9783658488764865; Weighted Accuracy [validation]: 0.9783333333333333\n",
      "[2025-04-26 02:13:13:738] - Finished training for batch size: 32, learning rate: 5e-05\n",
      "[2025-04-26 02:13:13:738] - --------------------------------------------------\n",
      "[2025-04-26 02:13:13:738] - --------------------------------------------------\n",
      "[2025-04-26 02:13:13:738] - Batch size: 32, Learning rate: 1e-05\n",
      "[2025-04-26 02:13:13:738] - --------------------------------------------------\n",
      "[2025-04-26 02:13:13:738] - Model directory models_icub/efficientnet-b0/20250426-015429/bs_32_lr_1e-05 created\n",
      "[2025-04-26 02:13:13:809] - Epoch 1/15\n"
     ]
    },
    {
     "name": "stderr",
     "output_type": "stream",
     "text": [
      "Training Loss: 2.773: 100%|██████████| 325/325 [00:14<00:00, 22.69it/s]\n"
     ]
    },
    {
     "name": "stdout",
     "output_type": "stream",
     "text": [
      "[2025-04-26 02:13:28:132] - Avg training Loss: 2.892; Accuracy: 0.160\n"
     ]
    },
    {
     "name": "stderr",
     "output_type": "stream",
     "text": [
      "Testing Loss: 2.7320: 100%|██████████| 82/82 [00:02<00:00, 39.62it/s]\n"
     ]
    },
    {
     "name": "stdout",
     "output_type": "stream",
     "text": [
      "[2025-04-26 02:13:30:207] - Avg testing Loss: 2.704; Accuracy: 0.401\n",
      "[2025-04-26 02:13:30:208] - Epoch 2/15\n"
     ]
    },
    {
     "name": "stderr",
     "output_type": "stream",
     "text": [
      "Training Loss: 2.227: 100%|██████████| 325/325 [00:14<00:00, 22.89it/s]\n"
     ]
    },
    {
     "name": "stdout",
     "output_type": "stream",
     "text": [
      "[2025-04-26 02:13:44:410] - Avg training Loss: 2.520; Accuracy: 0.480\n"
     ]
    },
    {
     "name": "stderr",
     "output_type": "stream",
     "text": [
      "Testing Loss: 2.2839: 100%|██████████| 82/82 [00:02<00:00, 39.82it/s]\n"
     ]
    },
    {
     "name": "stdout",
     "output_type": "stream",
     "text": [
      "[2025-04-26 02:13:46:475] - Avg testing Loss: 2.168; Accuracy: 0.627\n",
      "[2025-04-26 02:13:46:476] - Epoch 3/15\n"
     ]
    },
    {
     "name": "stderr",
     "output_type": "stream",
     "text": [
      "Training Loss: 1.726: 100%|██████████| 325/325 [00:14<00:00, 22.92it/s]\n"
     ]
    },
    {
     "name": "stdout",
     "output_type": "stream",
     "text": [
      "[2025-04-26 02:14:00:659] - Avg training Loss: 1.968; Accuracy: 0.638\n"
     ]
    },
    {
     "name": "stderr",
     "output_type": "stream",
     "text": [
      "Testing Loss: 1.7558: 100%|██████████| 82/82 [00:02<00:00, 40.02it/s]\n"
     ]
    },
    {
     "name": "stdout",
     "output_type": "stream",
     "text": [
      "[2025-04-26 02:14:02:713] - Avg testing Loss: 1.552; Accuracy: 0.730\n",
      "[2025-04-26 02:14:02:715] - Epoch 4/15\n"
     ]
    },
    {
     "name": "stderr",
     "output_type": "stream",
     "text": [
      "Training Loss: 1.136: 100%|██████████| 325/325 [00:14<00:00, 22.96it/s]\n"
     ]
    },
    {
     "name": "stdout",
     "output_type": "stream",
     "text": [
      "[2025-04-26 02:14:16:872] - Avg training Loss: 1.458; Accuracy: 0.741\n"
     ]
    },
    {
     "name": "stderr",
     "output_type": "stream",
     "text": [
      "Testing Loss: 1.2988: 100%|██████████| 82/82 [00:02<00:00, 39.34it/s]\n"
     ]
    },
    {
     "name": "stdout",
     "output_type": "stream",
     "text": [
      "[2025-04-26 02:14:18:962] - Avg testing Loss: 1.123; Accuracy: 0.815\n",
      "[2025-04-26 02:14:18:963] - Epoch 5/15\n"
     ]
    },
    {
     "name": "stderr",
     "output_type": "stream",
     "text": [
      "Training Loss: 0.853: 100%|██████████| 325/325 [00:14<00:00, 22.64it/s]\n"
     ]
    },
    {
     "name": "stdout",
     "output_type": "stream",
     "text": [
      "[2025-04-26 02:14:33:324] - Avg training Loss: 1.074; Accuracy: 0.809\n"
     ]
    },
    {
     "name": "stderr",
     "output_type": "stream",
     "text": [
      "Testing Loss: 0.8113: 100%|██████████| 82/82 [00:02<00:00, 40.04it/s]\n"
     ]
    },
    {
     "name": "stdout",
     "output_type": "stream",
     "text": [
      "[2025-04-26 02:14:35:377] - Avg testing Loss: 0.800; Accuracy: 0.858\n",
      "[2025-04-26 02:14:35:378] - Epoch 6/15\n"
     ]
    },
    {
     "name": "stderr",
     "output_type": "stream",
     "text": [
      "Training Loss: 0.662: 100%|██████████| 325/325 [00:14<00:00, 22.66it/s]\n"
     ]
    },
    {
     "name": "stdout",
     "output_type": "stream",
     "text": [
      "[2025-04-26 02:14:49:721] - Avg training Loss: 0.794; Accuracy: 0.855\n"
     ]
    },
    {
     "name": "stderr",
     "output_type": "stream",
     "text": [
      "Testing Loss: 0.4947: 100%|██████████| 82/82 [00:02<00:00, 39.25it/s]\n"
     ]
    },
    {
     "name": "stdout",
     "output_type": "stream",
     "text": [
      "[2025-04-26 02:14:51:816] - Avg testing Loss: 0.596; Accuracy: 0.889\n",
      "[2025-04-26 02:14:51:817] - Epoch 7/15\n"
     ]
    },
    {
     "name": "stderr",
     "output_type": "stream",
     "text": [
      "Training Loss: 0.510: 100%|██████████| 325/325 [00:14<00:00, 22.67it/s]\n"
     ]
    },
    {
     "name": "stdout",
     "output_type": "stream",
     "text": [
      "[2025-04-26 02:15:06:154] - Avg training Loss: 0.609; Accuracy: 0.886\n"
     ]
    },
    {
     "name": "stderr",
     "output_type": "stream",
     "text": [
      "Testing Loss: 0.3390: 100%|██████████| 82/82 [00:02<00:00, 39.63it/s]\n"
     ]
    },
    {
     "name": "stdout",
     "output_type": "stream",
     "text": [
      "[2025-04-26 02:15:08:228] - Avg testing Loss: 0.439; Accuracy: 0.916\n",
      "[2025-04-26 02:15:08:229] - Epoch 8/15\n"
     ]
    },
    {
     "name": "stderr",
     "output_type": "stream",
     "text": [
      "Training Loss: 0.461: 100%|██████████| 325/325 [00:14<00:00, 22.82it/s]\n"
     ]
    },
    {
     "name": "stdout",
     "output_type": "stream",
     "text": [
      "[2025-04-26 02:15:22:473] - Avg training Loss: 0.477; Accuracy: 0.913\n"
     ]
    },
    {
     "name": "stderr",
     "output_type": "stream",
     "text": [
      "Testing Loss: 0.2275: 100%|██████████| 82/82 [00:02<00:00, 39.59it/s]\n"
     ]
    },
    {
     "name": "stdout",
     "output_type": "stream",
     "text": [
      "[2025-04-26 02:15:24:550] - Avg testing Loss: 0.353; Accuracy: 0.925\n",
      "[2025-04-26 02:15:24:551] - Epoch 9/15\n"
     ]
    },
    {
     "name": "stderr",
     "output_type": "stream",
     "text": [
      "Training Loss: 0.552: 100%|██████████| 325/325 [00:14<00:00, 22.51it/s]\n"
     ]
    },
    {
     "name": "stdout",
     "output_type": "stream",
     "text": [
      "[2025-04-26 02:15:38:989] - Avg training Loss: 0.388; Accuracy: 0.920\n"
     ]
    },
    {
     "name": "stderr",
     "output_type": "stream",
     "text": [
      "Testing Loss: 0.1543: 100%|██████████| 82/82 [00:02<00:00, 39.85it/s]\n"
     ]
    },
    {
     "name": "stdout",
     "output_type": "stream",
     "text": [
      "[2025-04-26 02:15:41:052] - Avg testing Loss: 0.290; Accuracy: 0.939\n",
      "[2025-04-26 02:15:41:053] - Epoch 10/15\n"
     ]
    },
    {
     "name": "stderr",
     "output_type": "stream",
     "text": [
      "Training Loss: 0.319: 100%|██████████| 325/325 [00:14<00:00, 22.75it/s]\n"
     ]
    },
    {
     "name": "stdout",
     "output_type": "stream",
     "text": [
      "[2025-04-26 02:15:55:341] - Avg training Loss: 0.316; Accuracy: 0.939\n"
     ]
    },
    {
     "name": "stderr",
     "output_type": "stream",
     "text": [
      "Testing Loss: 0.0921: 100%|██████████| 82/82 [00:02<00:00, 39.01it/s]\n"
     ]
    },
    {
     "name": "stdout",
     "output_type": "stream",
     "text": [
      "[2025-04-26 02:15:57:448] - Avg testing Loss: 0.237; Accuracy: 0.946\n",
      "[2025-04-26 02:15:57:450] - Epoch 11/15\n"
     ]
    },
    {
     "name": "stderr",
     "output_type": "stream",
     "text": [
      "Training Loss: 0.365: 100%|██████████| 325/325 [00:14<00:00, 22.88it/s]\n"
     ]
    },
    {
     "name": "stdout",
     "output_type": "stream",
     "text": [
      "[2025-04-26 02:16:11:660] - Avg training Loss: 0.268; Accuracy: 0.947\n"
     ]
    },
    {
     "name": "stderr",
     "output_type": "stream",
     "text": [
      "Testing Loss: 0.1042: 100%|██████████| 82/82 [00:02<00:00, 39.73it/s]\n"
     ]
    },
    {
     "name": "stdout",
     "output_type": "stream",
     "text": [
      "[2025-04-26 02:16:13:729] - Avg testing Loss: 0.208; Accuracy: 0.950\n",
      "[2025-04-26 02:16:13:731] - Epoch 12/15\n"
     ]
    },
    {
     "name": "stderr",
     "output_type": "stream",
     "text": [
      "Training Loss: 0.308: 100%|██████████| 325/325 [00:14<00:00, 22.72it/s]\n"
     ]
    },
    {
     "name": "stdout",
     "output_type": "stream",
     "text": [
      "[2025-04-26 02:16:28:036] - Avg training Loss: 0.226; Accuracy: 0.955\n"
     ]
    },
    {
     "name": "stderr",
     "output_type": "stream",
     "text": [
      "Testing Loss: 0.0712: 100%|██████████| 82/82 [00:02<00:00, 39.36it/s]\n"
     ]
    },
    {
     "name": "stdout",
     "output_type": "stream",
     "text": [
      "[2025-04-26 02:16:30:124] - Avg testing Loss: 0.184; Accuracy: 0.957\n",
      "[2025-04-26 02:16:30:126] - Epoch 13/15\n"
     ]
    },
    {
     "name": "stderr",
     "output_type": "stream",
     "text": [
      "Training Loss: 0.120: 100%|██████████| 325/325 [00:14<00:00, 22.68it/s]\n"
     ]
    },
    {
     "name": "stdout",
     "output_type": "stream",
     "text": [
      "[2025-04-26 02:16:44:459] - Avg training Loss: 0.196; Accuracy: 0.958\n"
     ]
    },
    {
     "name": "stderr",
     "output_type": "stream",
     "text": [
      "Testing Loss: 0.0456: 100%|██████████| 82/82 [00:02<00:00, 35.62it/s]\n"
     ]
    },
    {
     "name": "stdout",
     "output_type": "stream",
     "text": [
      "[2025-04-26 02:16:46:767] - Avg testing Loss: 0.162; Accuracy: 0.957\n",
      "[2025-04-26 02:16:46:768] - Epoch 14/15\n"
     ]
    },
    {
     "name": "stderr",
     "output_type": "stream",
     "text": [
      "Training Loss: 0.231: 100%|██████████| 325/325 [00:14<00:00, 22.82it/s]\n"
     ]
    },
    {
     "name": "stdout",
     "output_type": "stream",
     "text": [
      "[2025-04-26 02:17:01:016] - Avg training Loss: 0.170; Accuracy: 0.966\n"
     ]
    },
    {
     "name": "stderr",
     "output_type": "stream",
     "text": [
      "Testing Loss: 0.0478: 100%|██████████| 82/82 [00:02<00:00, 39.12it/s]\n"
     ]
    },
    {
     "name": "stdout",
     "output_type": "stream",
     "text": [
      "[2025-04-26 02:17:03:118] - Avg testing Loss: 0.149; Accuracy: 0.964\n",
      "[2025-04-26 02:17:03:119] - Epoch 15/15\n"
     ]
    },
    {
     "name": "stderr",
     "output_type": "stream",
     "text": [
      "Training Loss: 0.128: 100%|██████████| 325/325 [00:14<00:00, 22.72it/s]\n"
     ]
    },
    {
     "name": "stdout",
     "output_type": "stream",
     "text": [
      "[2025-04-26 02:17:17:426] - Avg training Loss: 0.148; Accuracy: 0.971\n"
     ]
    },
    {
     "name": "stderr",
     "output_type": "stream",
     "text": [
      "Testing Loss: 0.0424: 100%|██████████| 82/82 [00:02<00:00, 40.19it/s]\n"
     ]
    },
    {
     "name": "stdout",
     "output_type": "stream",
     "text": [
      "[2025-04-26 02:17:19:472] - Avg testing Loss: 0.136; Accuracy: 0.964\n",
      "[2025-04-26 02:17:19:473] - Best epoch: 14; Best Acc: 0.964\n",
      "[2025-04-26 02:17:19:507] - Model saved to models_icub/efficientnet-b0/20250426-015429/bs_32_lr_1e-05/efficientnet-b0_bs_32_lr_1e-05_epoch_14.pth\n",
      "[2025-04-26 02:17:19:508] - Loss dict saved to models_icub/efficientnet-b0/20250426-015429/bs_32_lr_1e-05/loss_dict.pkl\n"
     ]
    },
    {
     "name": "stderr",
     "output_type": "stream",
     "text": [
      "Evaluating test: 100%|██████████| 82/82 [00:02<00:00, 38.96it/s]\n"
     ]
    },
    {
     "name": "stdout",
     "output_type": "stream",
     "text": [
      "[2025-04-26 02:17:21:618] - Accuracy [test]: 0.9642307692307692; Weighted F1 [test]: 0.964264004046371; Weighted Accuracy [test]: 0.964124125977283\n"
     ]
    },
    {
     "name": "stderr",
     "output_type": "stream",
     "text": [
      "Evaluating validation: 100%|██████████| 188/188 [00:03<00:00, 60.21it/s]\n"
     ]
    },
    {
     "name": "stdout",
     "output_type": "stream",
     "text": [
      "[2025-04-26 02:17:25:191] - Accuracy [validation]: 0.9586666666666667; Weighted F1 [validation]: 0.9587161497929656; Weighted Accuracy [validation]: 0.9586666666666668\n",
      "[2025-04-26 02:17:25:641] - Finished training for batch size: 32, learning rate: 1e-05\n",
      "[2025-04-26 02:17:25:641] - --------------------------------------------------\n",
      "[2025-04-26 02:17:25:641] - --------------------------------------------------\n",
      "[2025-04-26 02:17:25:641] - Batch size: 64, Learning rate: 0.0001\n",
      "[2025-04-26 02:17:25:641] - --------------------------------------------------\n",
      "[2025-04-26 02:17:25:641] - Model directory models_icub/efficientnet-b0/20250426-015429/bs_64_lr_0.0001 created\n",
      "[2025-04-26 02:17:25:717] - Epoch 1/15\n"
     ]
    },
    {
     "name": "stderr",
     "output_type": "stream",
     "text": [
      "Training Loss: 0.622: 100%|██████████| 163/163 [00:13<00:00, 11.88it/s]\n"
     ]
    },
    {
     "name": "stdout",
     "output_type": "stream",
     "text": [
      "[2025-04-26 02:17:39:441] - Avg training Loss: 1.726; Accuracy: 0.616\n"
     ]
    },
    {
     "name": "stderr",
     "output_type": "stream",
     "text": [
      "Testing Loss: 0.4444: 100%|██████████| 41/41 [00:02<00:00, 19.69it/s]\n"
     ]
    },
    {
     "name": "stdout",
     "output_type": "stream",
     "text": [
      "[2025-04-26 02:17:41:529] - Avg testing Loss: 0.481; Accuracy: 0.903\n",
      "[2025-04-26 02:17:41:531] - Epoch 2/15\n"
     ]
    },
    {
     "name": "stderr",
     "output_type": "stream",
     "text": [
      "Training Loss: 0.293: 100%|██████████| 163/163 [00:13<00:00, 11.71it/s]\n"
     ]
    },
    {
     "name": "stdout",
     "output_type": "stream",
     "text": [
      "[2025-04-26 02:17:55:448] - Avg training Loss: 0.317; Accuracy: 0.930\n"
     ]
    },
    {
     "name": "stderr",
     "output_type": "stream",
     "text": [
      "Testing Loss: 0.1547: 100%|██████████| 41/41 [00:02<00:00, 19.72it/s]\n"
     ]
    },
    {
     "name": "stdout",
     "output_type": "stream",
     "text": [
      "[2025-04-26 02:17:57:532] - Avg testing Loss: 0.155; Accuracy: 0.965\n",
      "[2025-04-26 02:17:57:535] - Epoch 3/15\n"
     ]
    },
    {
     "name": "stderr",
     "output_type": "stream",
     "text": [
      "Training Loss: 0.056: 100%|██████████| 163/163 [00:13<00:00, 11.85it/s]\n"
     ]
    },
    {
     "name": "stdout",
     "output_type": "stream",
     "text": [
      "[2025-04-26 02:18:11:288] - Avg training Loss: 0.111; Accuracy: 0.978\n"
     ]
    },
    {
     "name": "stderr",
     "output_type": "stream",
     "text": [
      "Testing Loss: 0.1315: 100%|██████████| 41/41 [00:02<00:00, 19.40it/s]\n"
     ]
    },
    {
     "name": "stdout",
     "output_type": "stream",
     "text": [
      "[2025-04-26 02:18:13:406] - Avg testing Loss: 0.099; Accuracy: 0.974\n",
      "[2025-04-26 02:18:13:409] - Epoch 4/15\n"
     ]
    },
    {
     "name": "stderr",
     "output_type": "stream",
     "text": [
      "Training Loss: 0.136: 100%|██████████| 163/163 [00:13<00:00, 11.83it/s]\n"
     ]
    },
    {
     "name": "stdout",
     "output_type": "stream",
     "text": [
      "[2025-04-26 02:18:27:195] - Avg training Loss: 0.059; Accuracy: 0.988\n"
     ]
    },
    {
     "name": "stderr",
     "output_type": "stream",
     "text": [
      "Testing Loss: 0.0427: 100%|██████████| 41/41 [00:02<00:00, 19.69it/s]\n"
     ]
    },
    {
     "name": "stdout",
     "output_type": "stream",
     "text": [
      "[2025-04-26 02:18:29:282] - Avg testing Loss: 0.083; Accuracy: 0.978\n",
      "[2025-04-26 02:18:29:285] - Epoch 5/15\n"
     ]
    },
    {
     "name": "stderr",
     "output_type": "stream",
     "text": [
      "Training Loss: 0.049: 100%|██████████| 163/163 [00:13<00:00, 11.92it/s]\n"
     ]
    },
    {
     "name": "stdout",
     "output_type": "stream",
     "text": [
      "[2025-04-26 02:18:42:966] - Avg training Loss: 0.039; Accuracy: 0.993\n"
     ]
    },
    {
     "name": "stderr",
     "output_type": "stream",
     "text": [
      "Testing Loss: 0.0335: 100%|██████████| 41/41 [00:02<00:00, 19.78it/s]\n"
     ]
    },
    {
     "name": "stdout",
     "output_type": "stream",
     "text": [
      "[2025-04-26 02:18:45:044] - Avg testing Loss: 0.076; Accuracy: 0.980\n",
      "[2025-04-26 02:18:45:047] - Epoch 6/15\n"
     ]
    },
    {
     "name": "stderr",
     "output_type": "stream",
     "text": [
      "Training Loss: 0.015: 100%|██████████| 163/163 [00:13<00:00, 11.85it/s]\n"
     ]
    },
    {
     "name": "stdout",
     "output_type": "stream",
     "text": [
      "[2025-04-26 02:18:58:802] - Avg training Loss: 0.026; Accuracy: 0.995\n"
     ]
    },
    {
     "name": "stderr",
     "output_type": "stream",
     "text": [
      "Testing Loss: 0.0117: 100%|██████████| 41/41 [00:02<00:00, 19.39it/s]\n"
     ]
    },
    {
     "name": "stdout",
     "output_type": "stream",
     "text": [
      "[2025-04-26 02:19:00:922] - Avg testing Loss: 0.077; Accuracy: 0.980\n",
      "[2025-04-26 02:19:00:924] - Epoch 7/15\n"
     ]
    },
    {
     "name": "stderr",
     "output_type": "stream",
     "text": [
      "Training Loss: 0.051: 100%|██████████| 163/163 [00:13<00:00, 11.89it/s]\n"
     ]
    },
    {
     "name": "stdout",
     "output_type": "stream",
     "text": [
      "[2025-04-26 02:19:14:642] - Avg training Loss: 0.021; Accuracy: 0.996\n"
     ]
    },
    {
     "name": "stderr",
     "output_type": "stream",
     "text": [
      "Testing Loss: 0.0119: 100%|██████████| 41/41 [00:02<00:00, 19.68it/s]\n"
     ]
    },
    {
     "name": "stdout",
     "output_type": "stream",
     "text": [
      "[2025-04-26 02:19:16:731] - Avg testing Loss: 0.075; Accuracy: 0.981\n",
      "[2025-04-26 02:19:16:733] - Epoch 8/15\n"
     ]
    },
    {
     "name": "stderr",
     "output_type": "stream",
     "text": [
      "Training Loss: 0.007: 100%|██████████| 163/163 [00:13<00:00, 11.89it/s]\n"
     ]
    },
    {
     "name": "stdout",
     "output_type": "stream",
     "text": [
      "[2025-04-26 02:19:30:442] - Avg training Loss: 0.016; Accuracy: 0.997\n"
     ]
    },
    {
     "name": "stderr",
     "output_type": "stream",
     "text": [
      "Testing Loss: 0.0164: 100%|██████████| 41/41 [00:02<00:00, 19.59it/s]\n"
     ]
    },
    {
     "name": "stdout",
     "output_type": "stream",
     "text": [
      "[2025-04-26 02:19:32:539] - Avg testing Loss: 0.070; Accuracy: 0.980\n",
      "[2025-04-26 02:19:32:542] - Epoch 9/15\n"
     ]
    },
    {
     "name": "stderr",
     "output_type": "stream",
     "text": [
      "Training Loss: 0.080: 100%|██████████| 163/163 [00:13<00:00, 11.94it/s]\n"
     ]
    },
    {
     "name": "stdout",
     "output_type": "stream",
     "text": [
      "[2025-04-26 02:19:46:200] - Avg training Loss: 0.012; Accuracy: 0.998\n"
     ]
    },
    {
     "name": "stderr",
     "output_type": "stream",
     "text": [
      "Testing Loss: 0.0029: 100%|██████████| 41/41 [00:02<00:00, 19.46it/s]\n"
     ]
    },
    {
     "name": "stdout",
     "output_type": "stream",
     "text": [
      "[2025-04-26 02:19:48:313] - Avg testing Loss: 0.072; Accuracy: 0.982\n",
      "[2025-04-26 02:19:48:315] - Epoch 10/15\n"
     ]
    },
    {
     "name": "stderr",
     "output_type": "stream",
     "text": [
      "Training Loss: 0.014: 100%|██████████| 163/163 [00:13<00:00, 11.82it/s]\n"
     ]
    },
    {
     "name": "stdout",
     "output_type": "stream",
     "text": [
      "[2025-04-26 02:20:02:107] - Avg training Loss: 0.013; Accuracy: 0.997\n"
     ]
    },
    {
     "name": "stderr",
     "output_type": "stream",
     "text": [
      "Testing Loss: 0.0030: 100%|██████████| 41/41 [00:02<00:00, 19.51it/s]\n"
     ]
    },
    {
     "name": "stdout",
     "output_type": "stream",
     "text": [
      "[2025-04-26 02:20:04:213] - Avg testing Loss: 0.071; Accuracy: 0.980\n",
      "[2025-04-26 02:20:04:215] - Early stopping at epoch 10\n",
      "[2025-04-26 02:20:04:215] - Best epoch: 5; Best Acc: 0.980\n",
      "[2025-04-26 02:20:04:251] - Model saved to models_icub/efficientnet-b0/20250426-015429/bs_64_lr_0.0001/efficientnet-b0_bs_64_lr_0.0001_epoch_5.pth\n",
      "[2025-04-26 02:20:04:251] - Loss dict saved to models_icub/efficientnet-b0/20250426-015429/bs_64_lr_0.0001/loss_dict.pkl\n"
     ]
    },
    {
     "name": "stderr",
     "output_type": "stream",
     "text": [
      "Evaluating test: 100%|██████████| 41/41 [00:01<00:00, 22.57it/s]\n"
     ]
    },
    {
     "name": "stdout",
     "output_type": "stream",
     "text": [
      "[2025-04-26 02:20:06:075] - Accuracy [test]: 0.9796153846153847; Weighted F1 [test]: 0.9796734015601168; Weighted Accuracy [test]: 0.9794074835103646\n"
     ]
    },
    {
     "name": "stderr",
     "output_type": "stream",
     "text": [
      "Evaluating validation: 100%|██████████| 188/188 [00:03<00:00, 56.56it/s]\n"
     ]
    },
    {
     "name": "stdout",
     "output_type": "stream",
     "text": [
      "[2025-04-26 02:20:09:864] - Accuracy [validation]: 0.9786666666666667; Weighted F1 [validation]: 0.9787127848227607; Weighted Accuracy [validation]: 0.9786666666666667\n",
      "[2025-04-26 02:20:10:513] - Finished training for batch size: 64, learning rate: 0.0001\n",
      "[2025-04-26 02:20:10:513] - --------------------------------------------------\n",
      "[2025-04-26 02:20:10:513] - --------------------------------------------------\n",
      "[2025-04-26 02:20:10:513] - Batch size: 64, Learning rate: 5e-05\n",
      "[2025-04-26 02:20:10:513] - --------------------------------------------------\n",
      "[2025-04-26 02:20:10:514] - Model directory models_icub/efficientnet-b0/20250426-015429/bs_64_lr_5e-05 created\n",
      "[2025-04-26 02:20:10:592] - Epoch 1/15\n"
     ]
    },
    {
     "name": "stderr",
     "output_type": "stream",
     "text": [
      "Training Loss: 1.746: 100%|██████████| 163/163 [00:13<00:00, 11.89it/s]\n"
     ]
    },
    {
     "name": "stdout",
     "output_type": "stream",
     "text": [
      "[2025-04-26 02:20:24:302] - Avg training Loss: 2.375; Accuracy: 0.461\n"
     ]
    },
    {
     "name": "stderr",
     "output_type": "stream",
     "text": [
      "Testing Loss: 1.3012: 100%|██████████| 41/41 [00:02<00:00, 19.06it/s]\n"
     ]
    },
    {
     "name": "stdout",
     "output_type": "stream",
     "text": [
      "[2025-04-26 02:20:26:459] - Avg testing Loss: 1.315; Accuracy: 0.782\n",
      "[2025-04-26 02:20:26:462] - Epoch 2/15\n"
     ]
    },
    {
     "name": "stderr",
     "output_type": "stream",
     "text": [
      "Training Loss: 0.346: 100%|██████████| 163/163 [00:13<00:00, 11.93it/s]\n"
     ]
    },
    {
     "name": "stdout",
     "output_type": "stream",
     "text": [
      "[2025-04-26 02:20:40:130] - Avg training Loss: 0.889; Accuracy: 0.843\n"
     ]
    },
    {
     "name": "stderr",
     "output_type": "stream",
     "text": [
      "Testing Loss: 0.4180: 100%|██████████| 41/41 [00:02<00:00, 19.54it/s]\n"
     ]
    },
    {
     "name": "stdout",
     "output_type": "stream",
     "text": [
      "[2025-04-26 02:20:42:234] - Avg testing Loss: 0.429; Accuracy: 0.916\n",
      "[2025-04-26 02:20:42:236] - Epoch 3/15\n"
     ]
    },
    {
     "name": "stderr",
     "output_type": "stream",
     "text": [
      "Training Loss: 0.349: 100%|██████████| 163/163 [00:13<00:00, 11.87it/s]\n"
     ]
    },
    {
     "name": "stdout",
     "output_type": "stream",
     "text": [
      "[2025-04-26 02:20:55:966] - Avg training Loss: 0.352; Accuracy: 0.933\n"
     ]
    },
    {
     "name": "stderr",
     "output_type": "stream",
     "text": [
      "Testing Loss: 0.2135: 100%|██████████| 41/41 [00:02<00:00, 19.21it/s]\n"
     ]
    },
    {
     "name": "stdout",
     "output_type": "stream",
     "text": [
      "[2025-04-26 02:20:58:105] - Avg testing Loss: 0.220; Accuracy: 0.948\n",
      "[2025-04-26 02:20:58:108] - Epoch 4/15\n"
     ]
    },
    {
     "name": "stderr",
     "output_type": "stream",
     "text": [
      "Training Loss: 0.257: 100%|██████████| 163/163 [00:13<00:00, 11.86it/s]\n"
     ]
    },
    {
     "name": "stdout",
     "output_type": "stream",
     "text": [
      "[2025-04-26 02:21:11:852] - Avg training Loss: 0.187; Accuracy: 0.961\n"
     ]
    },
    {
     "name": "stderr",
     "output_type": "stream",
     "text": [
      "Testing Loss: 0.1452: 100%|██████████| 41/41 [00:02<00:00, 19.27it/s]\n"
     ]
    },
    {
     "name": "stdout",
     "output_type": "stream",
     "text": [
      "[2025-04-26 02:21:13:984] - Avg testing Loss: 0.151; Accuracy: 0.960\n",
      "[2025-04-26 02:21:13:986] - Epoch 5/15\n"
     ]
    },
    {
     "name": "stderr",
     "output_type": "stream",
     "text": [
      "Training Loss: 0.181: 100%|██████████| 163/163 [00:13<00:00, 11.99it/s]\n"
     ]
    },
    {
     "name": "stdout",
     "output_type": "stream",
     "text": [
      "[2025-04-26 02:21:27:583] - Avg training Loss: 0.114; Accuracy: 0.977\n"
     ]
    },
    {
     "name": "stderr",
     "output_type": "stream",
     "text": [
      "Testing Loss: 0.1216: 100%|██████████| 41/41 [00:02<00:00, 19.82it/s]\n"
     ]
    },
    {
     "name": "stdout",
     "output_type": "stream",
     "text": [
      "[2025-04-26 02:21:29:657] - Avg testing Loss: 0.114; Accuracy: 0.970\n",
      "[2025-04-26 02:21:29:660] - Epoch 6/15\n"
     ]
    },
    {
     "name": "stderr",
     "output_type": "stream",
     "text": [
      "Training Loss: 0.127: 100%|██████████| 163/163 [00:13<00:00, 11.93it/s]\n"
     ]
    },
    {
     "name": "stdout",
     "output_type": "stream",
     "text": [
      "[2025-04-26 02:21:43:329] - Avg training Loss: 0.077; Accuracy: 0.986\n"
     ]
    },
    {
     "name": "stderr",
     "output_type": "stream",
     "text": [
      "Testing Loss: 0.1013: 100%|██████████| 41/41 [00:02<00:00, 18.98it/s]\n"
     ]
    },
    {
     "name": "stdout",
     "output_type": "stream",
     "text": [
      "[2025-04-26 02:21:45:494] - Avg testing Loss: 0.099; Accuracy: 0.972\n",
      "[2025-04-26 02:21:45:497] - Epoch 7/15\n"
     ]
    },
    {
     "name": "stderr",
     "output_type": "stream",
     "text": [
      "Training Loss: 0.059: 100%|██████████| 163/163 [00:13<00:00, 11.88it/s]\n"
     ]
    },
    {
     "name": "stdout",
     "output_type": "stream",
     "text": [
      "[2025-04-26 02:21:59:223] - Avg training Loss: 0.056; Accuracy: 0.990\n"
     ]
    },
    {
     "name": "stderr",
     "output_type": "stream",
     "text": [
      "Testing Loss: 0.0645: 100%|██████████| 41/41 [00:02<00:00, 19.89it/s]\n"
     ]
    },
    {
     "name": "stdout",
     "output_type": "stream",
     "text": [
      "[2025-04-26 02:22:01:289] - Avg testing Loss: 0.090; Accuracy: 0.974\n",
      "[2025-04-26 02:22:01:292] - Epoch 8/15\n"
     ]
    },
    {
     "name": "stderr",
     "output_type": "stream",
     "text": [
      "Training Loss: 0.044: 100%|██████████| 163/163 [00:13<00:00, 11.86it/s]\n"
     ]
    },
    {
     "name": "stdout",
     "output_type": "stream",
     "text": [
      "[2025-04-26 02:22:15:044] - Avg training Loss: 0.041; Accuracy: 0.992\n"
     ]
    },
    {
     "name": "stderr",
     "output_type": "stream",
     "text": [
      "Testing Loss: 0.0574: 100%|██████████| 41/41 [00:02<00:00, 19.48it/s]\n"
     ]
    },
    {
     "name": "stdout",
     "output_type": "stream",
     "text": [
      "[2025-04-26 02:22:17:154] - Avg testing Loss: 0.086; Accuracy: 0.976\n",
      "[2025-04-26 02:22:17:156] - Epoch 9/15\n"
     ]
    },
    {
     "name": "stderr",
     "output_type": "stream",
     "text": [
      "Training Loss: 0.250: 100%|██████████| 163/163 [00:13<00:00, 11.68it/s]\n"
     ]
    },
    {
     "name": "stdout",
     "output_type": "stream",
     "text": [
      "[2025-04-26 02:22:31:118] - Avg training Loss: 0.034; Accuracy: 0.995\n"
     ]
    },
    {
     "name": "stderr",
     "output_type": "stream",
     "text": [
      "Testing Loss: 0.0472: 100%|██████████| 41/41 [00:02<00:00, 18.97it/s]\n"
     ]
    },
    {
     "name": "stdout",
     "output_type": "stream",
     "text": [
      "[2025-04-26 02:22:33:284] - Avg testing Loss: 0.083; Accuracy: 0.977\n",
      "[2025-04-26 02:22:33:286] - Epoch 10/15\n"
     ]
    },
    {
     "name": "stderr",
     "output_type": "stream",
     "text": [
      "Training Loss: 0.021: 100%|██████████| 163/163 [00:13<00:00, 11.85it/s]\n"
     ]
    },
    {
     "name": "stdout",
     "output_type": "stream",
     "text": [
      "[2025-04-26 02:22:47:044] - Avg training Loss: 0.028; Accuracy: 0.995\n"
     ]
    },
    {
     "name": "stderr",
     "output_type": "stream",
     "text": [
      "Testing Loss: 0.0410: 100%|██████████| 41/41 [00:02<00:00, 19.65it/s]\n"
     ]
    },
    {
     "name": "stdout",
     "output_type": "stream",
     "text": [
      "[2025-04-26 02:22:49:135] - Avg testing Loss: 0.079; Accuracy: 0.976\n",
      "[2025-04-26 02:22:49:138] - Epoch 11/15\n"
     ]
    },
    {
     "name": "stderr",
     "output_type": "stream",
     "text": [
      "Training Loss: 0.017: 100%|██████████| 163/163 [00:13<00:00, 11.95it/s]\n"
     ]
    },
    {
     "name": "stdout",
     "output_type": "stream",
     "text": [
      "[2025-04-26 02:23:02:785] - Avg training Loss: 0.022; Accuracy: 0.996\n"
     ]
    },
    {
     "name": "stderr",
     "output_type": "stream",
     "text": [
      "Testing Loss: 0.0505: 100%|██████████| 41/41 [00:02<00:00, 19.54it/s]\n"
     ]
    },
    {
     "name": "stdout",
     "output_type": "stream",
     "text": [
      "[2025-04-26 02:23:04:888] - Avg testing Loss: 0.076; Accuracy: 0.978\n",
      "[2025-04-26 02:23:04:891] - Epoch 12/15\n"
     ]
    },
    {
     "name": "stderr",
     "output_type": "stream",
     "text": [
      "Training Loss: 0.008: 100%|██████████| 163/163 [00:13<00:00, 11.92it/s]\n"
     ]
    },
    {
     "name": "stdout",
     "output_type": "stream",
     "text": [
      "[2025-04-26 02:23:18:573] - Avg training Loss: 0.018; Accuracy: 0.997\n"
     ]
    },
    {
     "name": "stderr",
     "output_type": "stream",
     "text": [
      "Testing Loss: 0.0487: 100%|██████████| 41/41 [00:02<00:00, 19.31it/s]\n"
     ]
    },
    {
     "name": "stdout",
     "output_type": "stream",
     "text": [
      "[2025-04-26 02:23:20:701] - Avg testing Loss: 0.077; Accuracy: 0.979\n",
      "[2025-04-26 02:23:20:703] - Epoch 13/15\n"
     ]
    },
    {
     "name": "stderr",
     "output_type": "stream",
     "text": [
      "Training Loss: 0.048: 100%|██████████| 163/163 [00:13<00:00, 11.86it/s]\n"
     ]
    },
    {
     "name": "stdout",
     "output_type": "stream",
     "text": [
      "[2025-04-26 02:23:34:450] - Avg training Loss: 0.016; Accuracy: 0.998\n"
     ]
    },
    {
     "name": "stderr",
     "output_type": "stream",
     "text": [
      "Testing Loss: 0.0490: 100%|██████████| 41/41 [00:02<00:00, 19.82it/s]\n"
     ]
    },
    {
     "name": "stdout",
     "output_type": "stream",
     "text": [
      "[2025-04-26 02:23:36:523] - Avg testing Loss: 0.075; Accuracy: 0.980\n",
      "[2025-04-26 02:23:36:525] - Early stopping at epoch 13\n",
      "[2025-04-26 02:23:36:525] - Best epoch: 8; Best Acc: 0.976\n",
      "[2025-04-26 02:23:36:559] - Model saved to models_icub/efficientnet-b0/20250426-015429/bs_64_lr_5e-05/efficientnet-b0_bs_64_lr_5e-05_epoch_8.pth\n",
      "[2025-04-26 02:23:36:560] - Loss dict saved to models_icub/efficientnet-b0/20250426-015429/bs_64_lr_5e-05/loss_dict.pkl\n"
     ]
    },
    {
     "name": "stderr",
     "output_type": "stream",
     "text": [
      "Evaluating test: 100%|██████████| 41/41 [00:01<00:00, 21.39it/s]\n"
     ]
    },
    {
     "name": "stdout",
     "output_type": "stream",
     "text": [
      "[2025-04-26 02:23:38:484] - Accuracy [test]: 0.9803846153846154; Weighted F1 [test]: 0.9804004285410752; Weighted Accuracy [test]: 0.9798173819597666\n"
     ]
    },
    {
     "name": "stderr",
     "output_type": "stream",
     "text": [
      "Evaluating validation: 100%|██████████| 188/188 [00:03<00:00, 59.46it/s]\n"
     ]
    },
    {
     "name": "stdout",
     "output_type": "stream",
     "text": [
      "[2025-04-26 02:23:42:085] - Accuracy [validation]: 0.9766666666666667; Weighted F1 [validation]: 0.9767112546532306; Weighted Accuracy [validation]: 0.9766666666666668\n",
      "[2025-04-26 02:23:42:520] - Finished training for batch size: 64, learning rate: 5e-05\n",
      "[2025-04-26 02:23:42:521] - --------------------------------------------------\n",
      "[2025-04-26 02:23:42:521] - --------------------------------------------------\n",
      "[2025-04-26 02:23:42:521] - Batch size: 64, Learning rate: 1e-05\n",
      "[2025-04-26 02:23:42:521] - --------------------------------------------------\n",
      "[2025-04-26 02:23:42:521] - Model directory models_icub/efficientnet-b0/20250426-015429/bs_64_lr_1e-05 created\n",
      "[2025-04-26 02:23:42:592] - Epoch 1/15\n"
     ]
    },
    {
     "name": "stderr",
     "output_type": "stream",
     "text": [
      "Training Loss: 2.835: 100%|██████████| 163/163 [00:13<00:00, 11.73it/s]\n"
     ]
    },
    {
     "name": "stdout",
     "output_type": "stream",
     "text": [
      "[2025-04-26 02:23:56:492] - Avg training Loss: 2.928; Accuracy: 0.120\n"
     ]
    },
    {
     "name": "stderr",
     "output_type": "stream",
     "text": [
      "Testing Loss: 2.7880: 100%|██████████| 41/41 [00:02<00:00, 19.33it/s]\n"
     ]
    },
    {
     "name": "stdout",
     "output_type": "stream",
     "text": [
      "[2025-04-26 02:23:58:619] - Avg testing Loss: 2.811; Accuracy: 0.248\n",
      "[2025-04-26 02:23:58:621] - Epoch 2/15\n"
     ]
    },
    {
     "name": "stderr",
     "output_type": "stream",
     "text": [
      "Training Loss: 2.588: 100%|██████████| 163/163 [00:13<00:00, 11.86it/s]\n"
     ]
    },
    {
     "name": "stdout",
     "output_type": "stream",
     "text": [
      "[2025-04-26 02:24:12:368] - Avg training Loss: 2.713; Accuracy: 0.323\n"
     ]
    },
    {
     "name": "stderr",
     "output_type": "stream",
     "text": [
      "Testing Loss: 2.4644: 100%|██████████| 41/41 [00:02<00:00, 19.54it/s]\n"
     ]
    },
    {
     "name": "stdout",
     "output_type": "stream",
     "text": [
      "[2025-04-26 02:24:14:471] - Avg testing Loss: 2.529; Accuracy: 0.487\n",
      "[2025-04-26 02:24:14:474] - Epoch 3/15\n"
     ]
    },
    {
     "name": "stderr",
     "output_type": "stream",
     "text": [
      "Training Loss: 2.308: 100%|██████████| 163/163 [00:13<00:00, 11.93it/s]\n"
     ]
    },
    {
     "name": "stdout",
     "output_type": "stream",
     "text": [
      "[2025-04-26 02:24:28:136] - Avg training Loss: 2.398; Accuracy: 0.503\n"
     ]
    },
    {
     "name": "stderr",
     "output_type": "stream",
     "text": [
      "Testing Loss: 2.0256: 100%|██████████| 41/41 [00:02<00:00, 19.34it/s]\n"
     ]
    },
    {
     "name": "stdout",
     "output_type": "stream",
     "text": [
      "[2025-04-26 02:24:30:261] - Avg testing Loss: 2.135; Accuracy: 0.620\n",
      "[2025-04-26 02:24:30:263] - Epoch 4/15\n"
     ]
    },
    {
     "name": "stderr",
     "output_type": "stream",
     "text": [
      "Training Loss: 1.899: 100%|██████████| 163/163 [00:13<00:00, 11.67it/s]\n"
     ]
    },
    {
     "name": "stdout",
     "output_type": "stream",
     "text": [
      "[2025-04-26 02:24:44:239] - Avg training Loss: 2.019; Accuracy: 0.632\n"
     ]
    },
    {
     "name": "stderr",
     "output_type": "stream",
     "text": [
      "Testing Loss: 1.6677: 100%|██████████| 41/41 [00:02<00:00, 19.32it/s]\n"
     ]
    },
    {
     "name": "stdout",
     "output_type": "stream",
     "text": [
      "[2025-04-26 02:24:46:366] - Avg testing Loss: 1.753; Accuracy: 0.710\n",
      "[2025-04-26 02:24:46:368] - Epoch 5/15\n"
     ]
    },
    {
     "name": "stderr",
     "output_type": "stream",
     "text": [
      "Training Loss: 1.599: 100%|██████████| 163/163 [00:13<00:00, 11.94it/s]\n"
     ]
    },
    {
     "name": "stdout",
     "output_type": "stream",
     "text": [
      "[2025-04-26 02:25:00:024] - Avg training Loss: 1.662; Accuracy: 0.715\n"
     ]
    },
    {
     "name": "stderr",
     "output_type": "stream",
     "text": [
      "Testing Loss: 1.3569: 100%|██████████| 41/41 [00:02<00:00, 19.02it/s]\n"
     ]
    },
    {
     "name": "stdout",
     "output_type": "stream",
     "text": [
      "[2025-04-26 02:25:02:184] - Avg testing Loss: 1.415; Accuracy: 0.777\n",
      "[2025-04-26 02:25:02:187] - Epoch 6/15\n"
     ]
    },
    {
     "name": "stderr",
     "output_type": "stream",
     "text": [
      "Training Loss: 1.078: 100%|██████████| 163/163 [00:13<00:00, 11.93it/s]\n"
     ]
    },
    {
     "name": "stdout",
     "output_type": "stream",
     "text": [
      "[2025-04-26 02:25:15:849] - Avg training Loss: 1.348; Accuracy: 0.778\n"
     ]
    },
    {
     "name": "stderr",
     "output_type": "stream",
     "text": [
      "Testing Loss: 1.0501: 100%|██████████| 41/41 [00:02<00:00, 19.68it/s]\n"
     ]
    },
    {
     "name": "stdout",
     "output_type": "stream",
     "text": [
      "[2025-04-26 02:25:17:937] - Avg testing Loss: 1.120; Accuracy: 0.819\n",
      "[2025-04-26 02:25:17:940] - Epoch 7/15\n"
     ]
    },
    {
     "name": "stderr",
     "output_type": "stream",
     "text": [
      "Training Loss: 0.975: 100%|██████████| 163/163 [00:13<00:00, 11.93it/s]\n"
     ]
    },
    {
     "name": "stdout",
     "output_type": "stream",
     "text": [
      "[2025-04-26 02:25:31:601] - Avg training Loss: 1.077; Accuracy: 0.820\n"
     ]
    },
    {
     "name": "stderr",
     "output_type": "stream",
     "text": [
      "Testing Loss: 0.8327: 100%|██████████| 41/41 [00:02<00:00, 18.99it/s]\n"
     ]
    },
    {
     "name": "stdout",
     "output_type": "stream",
     "text": [
      "[2025-04-26 02:25:33:766] - Avg testing Loss: 0.895; Accuracy: 0.850\n",
      "[2025-04-26 02:25:33:769] - Epoch 8/15\n"
     ]
    },
    {
     "name": "stderr",
     "output_type": "stream",
     "text": [
      "Training Loss: 0.791: 100%|██████████| 163/163 [00:13<00:00, 11.92it/s]\n"
     ]
    },
    {
     "name": "stdout",
     "output_type": "stream",
     "text": [
      "[2025-04-26 02:25:47:447] - Avg training Loss: 0.868; Accuracy: 0.847\n"
     ]
    },
    {
     "name": "stderr",
     "output_type": "stream",
     "text": [
      "Testing Loss: 0.6470: 100%|██████████| 41/41 [00:02<00:00, 19.39it/s]\n"
     ]
    },
    {
     "name": "stdout",
     "output_type": "stream",
     "text": [
      "[2025-04-26 02:25:49:566] - Avg testing Loss: 0.713; Accuracy: 0.875\n",
      "[2025-04-26 02:25:49:569] - Epoch 9/15\n"
     ]
    },
    {
     "name": "stderr",
     "output_type": "stream",
     "text": [
      "Training Loss: 0.587: 100%|██████████| 163/163 [00:13<00:00, 11.82it/s]\n"
     ]
    },
    {
     "name": "stdout",
     "output_type": "stream",
     "text": [
      "[2025-04-26 02:26:03:359] - Avg training Loss: 0.702; Accuracy: 0.878\n"
     ]
    },
    {
     "name": "stderr",
     "output_type": "stream",
     "text": [
      "Testing Loss: 0.5200: 100%|██████████| 41/41 [00:02<00:00, 19.28it/s]\n"
     ]
    },
    {
     "name": "stdout",
     "output_type": "stream",
     "text": [
      "[2025-04-26 02:26:05:491] - Avg testing Loss: 0.577; Accuracy: 0.892\n",
      "[2025-04-26 02:26:05:494] - Epoch 10/15\n"
     ]
    },
    {
     "name": "stderr",
     "output_type": "stream",
     "text": [
      "Training Loss: 0.426: 100%|██████████| 163/163 [00:13<00:00, 11.89it/s]\n"
     ]
    },
    {
     "name": "stdout",
     "output_type": "stream",
     "text": [
      "[2025-04-26 02:26:19:203] - Avg training Loss: 0.575; Accuracy: 0.898\n"
     ]
    },
    {
     "name": "stderr",
     "output_type": "stream",
     "text": [
      "Testing Loss: 0.4528: 100%|██████████| 41/41 [00:02<00:00, 19.13it/s]\n"
     ]
    },
    {
     "name": "stdout",
     "output_type": "stream",
     "text": [
      "[2025-04-26 02:26:21:351] - Avg testing Loss: 0.486; Accuracy: 0.908\n",
      "[2025-04-26 02:26:21:353] - Epoch 11/15\n"
     ]
    },
    {
     "name": "stderr",
     "output_type": "stream",
     "text": [
      "Training Loss: 0.664: 100%|██████████| 163/163 [00:13<00:00, 11.95it/s]\n"
     ]
    },
    {
     "name": "stdout",
     "output_type": "stream",
     "text": [
      "[2025-04-26 02:26:34:993] - Avg training Loss: 0.485; Accuracy: 0.913\n"
     ]
    },
    {
     "name": "stderr",
     "output_type": "stream",
     "text": [
      "Testing Loss: 0.3828: 100%|██████████| 41/41 [00:02<00:00, 19.25it/s]\n"
     ]
    },
    {
     "name": "stdout",
     "output_type": "stream",
     "text": [
      "[2025-04-26 02:26:37:128] - Avg testing Loss: 0.408; Accuracy: 0.923\n",
      "[2025-04-26 02:26:37:131] - Epoch 12/15\n"
     ]
    },
    {
     "name": "stderr",
     "output_type": "stream",
     "text": [
      "Training Loss: 0.562: 100%|██████████| 163/163 [00:13<00:00, 11.89it/s]\n"
     ]
    },
    {
     "name": "stdout",
     "output_type": "stream",
     "text": [
      "[2025-04-26 02:26:50:838] - Avg training Loss: 0.406; Accuracy: 0.925\n"
     ]
    },
    {
     "name": "stderr",
     "output_type": "stream",
     "text": [
      "Testing Loss: 0.3232: 100%|██████████| 41/41 [00:02<00:00, 18.89it/s]\n"
     ]
    },
    {
     "name": "stdout",
     "output_type": "stream",
     "text": [
      "[2025-04-26 02:26:53:014] - Avg testing Loss: 0.343; Accuracy: 0.931\n",
      "[2025-04-26 02:26:53:016] - Epoch 13/15\n"
     ]
    },
    {
     "name": "stderr",
     "output_type": "stream",
     "text": [
      "Training Loss: 0.235: 100%|██████████| 163/163 [00:13<00:00, 11.85it/s]\n"
     ]
    },
    {
     "name": "stdout",
     "output_type": "stream",
     "text": [
      "[2025-04-26 02:27:06:774] - Avg training Loss: 0.349; Accuracy: 0.934\n"
     ]
    },
    {
     "name": "stderr",
     "output_type": "stream",
     "text": [
      "Testing Loss: 0.2719: 100%|██████████| 41/41 [00:02<00:00, 19.38it/s]\n"
     ]
    },
    {
     "name": "stdout",
     "output_type": "stream",
     "text": [
      "[2025-04-26 02:27:08:894] - Avg testing Loss: 0.308; Accuracy: 0.938\n",
      "[2025-04-26 02:27:08:897] - Epoch 14/15\n"
     ]
    },
    {
     "name": "stderr",
     "output_type": "stream",
     "text": [
      "Training Loss: 0.318: 100%|██████████| 163/163 [00:13<00:00, 11.87it/s]\n"
     ]
    },
    {
     "name": "stdout",
     "output_type": "stream",
     "text": [
      "[2025-04-26 02:27:22:629] - Avg training Loss: 0.299; Accuracy: 0.944\n"
     ]
    },
    {
     "name": "stderr",
     "output_type": "stream",
     "text": [
      "Testing Loss: 0.2436: 100%|██████████| 41/41 [00:02<00:00, 19.36it/s]\n"
     ]
    },
    {
     "name": "stdout",
     "output_type": "stream",
     "text": [
      "[2025-04-26 02:27:24:752] - Avg testing Loss: 0.271; Accuracy: 0.943\n",
      "[2025-04-26 02:27:24:755] - Epoch 15/15\n"
     ]
    },
    {
     "name": "stderr",
     "output_type": "stream",
     "text": [
      "Training Loss: 0.308: 100%|██████████| 163/163 [00:13<00:00, 11.89it/s]\n"
     ]
    },
    {
     "name": "stdout",
     "output_type": "stream",
     "text": [
      "[2025-04-26 02:27:38:470] - Avg training Loss: 0.266; Accuracy: 0.952\n"
     ]
    },
    {
     "name": "stderr",
     "output_type": "stream",
     "text": [
      "Testing Loss: 0.2114: 100%|██████████| 41/41 [00:02<00:00, 19.62it/s]\n"
     ]
    },
    {
     "name": "stdout",
     "output_type": "stream",
     "text": [
      "[2025-04-26 02:27:40:564] - Avg testing Loss: 0.242; Accuracy: 0.951\n",
      "[2025-04-26 02:27:40:566] - Best epoch: 15; Best Acc: 0.951\n",
      "[2025-04-26 02:27:40:600] - Model saved to models_icub/efficientnet-b0/20250426-015429/bs_64_lr_1e-05/efficientnet-b0_bs_64_lr_1e-05_epoch_15.pth\n",
      "[2025-04-26 02:27:40:600] - Loss dict saved to models_icub/efficientnet-b0/20250426-015429/bs_64_lr_1e-05/loss_dict.pkl\n"
     ]
    },
    {
     "name": "stderr",
     "output_type": "stream",
     "text": [
      "Evaluating test: 100%|██████████| 41/41 [00:01<00:00, 21.76it/s]\n"
     ]
    },
    {
     "name": "stdout",
     "output_type": "stream",
     "text": [
      "[2025-04-26 02:27:42:492] - Accuracy [test]: 0.9511538461538461; Weighted F1 [test]: 0.9513661433694195; Weighted Accuracy [test]: 0.950782959191297\n"
     ]
    },
    {
     "name": "stderr",
     "output_type": "stream",
     "text": [
      "Evaluating validation: 100%|██████████| 188/188 [00:03<00:00, 58.84it/s]\n"
     ]
    },
    {
     "name": "stdout",
     "output_type": "stream",
     "text": [
      "[2025-04-26 02:27:46:376] - Accuracy [validation]: 0.935; Weighted F1 [validation]: 0.9351896192024233; Weighted Accuracy [validation]: 0.9349999999999999\n",
      "[2025-04-26 02:27:46:843] - Finished training for batch size: 64, learning rate: 1e-05\n",
      "[2025-04-26 02:27:46:844] - --------------------------------------------------\n"
     ]
    }
   ],
   "source": [
    "for batch_size, lr in hyperparam_combs:\n",
    "    print_log(f'-' * 50)\n",
    "    print_log(f\"Batch size: {batch_size}, Learning rate: {lr}\")\n",
    "    print_log(f'-' * 50)\n",
    "\n",
    "    model_dir = top_model_dir/f'bs_{batch_size}_lr_{lr}'\n",
    "    if not model_dir.exists():\n",
    "        model_dir.mkdir(parents=True)\n",
    "        print_log(f\"Model directory {model_dir} created\")\n",
    "    \n",
    "    model_name = f\"{str(model_type)}_bs_{batch_size}_lr_{lr}\"\n",
    "\n",
    "    if Path(model_dir/model_name).exists():\n",
    "        print_log(f\"Model {model_dir/model_name} already exists, skipping...\")\n",
    "        continue\n",
    "    \n",
    "    # create dataloaders\n",
    "    data_loader_train, data_loader_test, data_loader_valid = build_data_loaders(batch_size, dataset_train, dataset_test, dataset_eval)\n",
    "\n",
    "    # init model\n",
    "    model = load_model(model_type, out_features=len(LABELS))\n",
    "    model.to(DEVICE)\n",
    "\n",
    "    # construct optimizer, learning rate scheduler etc.\n",
    "    params = [p for p in model.parameters() if p.requires_grad]\n",
    "    optimizer = torch.optim.Adam(params, lr=lr)\n",
    "    criterion = torch.nn.CrossEntropyLoss()\n",
    "    lr_scheduler = torch.optim.lr_scheduler.StepLR(optimizer, step_size=1, gamma=0.99)       # reduce lr by 0.99 every epoch\n",
    "\n",
    "    # early stopping\n",
    "    # we monitor the testing accuracy\n",
    "    early_stopper = EarlyStopper(patience=5, delta=0.005, minimize=False)\n",
    "\n",
    "    loss_dict = {'train_loss': [], 'test_loss': []}\n",
    "    acc_dict = {'train_acc': [], 'test_acc': []}\n",
    "\n",
    "    # training\n",
    "    for epoch in range(MAX_EPOCHES):\n",
    "        model.train()\n",
    "        print_log(f\"Epoch {epoch+1}/{MAX_EPOCHES}\")\n",
    "        train_loss, train_acc, y_labels_train, y_pred_train = train_one_epoch(\n",
    "            model,\n",
    "            criterion,\n",
    "            optimizer,\n",
    "            data_loader_train,\n",
    "        )\n",
    "        loss_dict['train_loss'].append(train_loss)\n",
    "        acc_dict['train_acc'].append(train_acc)\n",
    "\n",
    "        lr_scheduler.step()\n",
    "\n",
    "        model.eval()\n",
    "\n",
    "        # run on test set for evaluation (get test set loss)\n",
    "        with torch.no_grad():\n",
    "            test_loss, test_acc, y_labels_test, y_pred_test = evaluate(\n",
    "                model,\n",
    "                criterion,\n",
    "                data_loader_test,\n",
    "            )\n",
    "            loss_dict['test_loss'].append(test_loss)\n",
    "            acc_dict['test_acc'].append(test_acc)\n",
    "\n",
    "        early_stop = early_stopper.step(test_acc, epoch, model)\n",
    "\n",
    "        if early_stop:\n",
    "            print_log(f\"Early stopping at epoch {epoch+1}\")\n",
    "            break\n",
    "\n",
    "    print_log(f\"Best epoch: {early_stopper.best_epoch+1}; Best Acc: {early_stopper.best_loss:.3f}\")\n",
    "    # get the best model\n",
    "    best_model = early_stopper.get_best_model()\n",
    "    best_epoch = early_stopper.best_epoch\n",
    "\n",
    "    # save the best model\n",
    "    model_name = model_name + f'_epoch_{best_epoch+1}.pth'\n",
    "    torch.save(best_model.state_dict(), model_dir/model_name)\n",
    "    print_log(f\"Model saved to {model_dir/model_name}\")\n",
    "\n",
    "    # save the loss dict\n",
    "    loss_dict_path = model_dir/'loss_dict.pkl'\n",
    "    with open(loss_dict_path, 'wb') as f:\n",
    "        pickle.dump(loss_dict, f)\n",
    "    print_log(f\"Loss dict saved to {loss_dict_path}\")\n",
    "\n",
    "\n",
    "    # evaluate the model on train, test and validation set\n",
    "    best_model.eval()\n",
    "\n",
    "    # train set\n",
    "    # save_evaluations(y_labels_train, y_pred_train, LABELS, model_dir, eval_stage='train')\n",
    "    # y_labels_train_path = model_dir / 'y_labels_train.pkl'\n",
    "    # y_pred_train_path = model_dir / 'y_pred_train.pkl'\n",
    "    # np.save(y_labels_train_path, y_labels_train)\n",
    "    # np.save(y_pred_train_path, y_pred_train)\n",
    "\n",
    "    y_labels_test, y_pred_test = evaluation_pred(best_model, data_loader_test, stage='test')\n",
    "    save_evaluations(y_labels_test, y_pred_test, LABELS, model_dir, eval_stage='test')\n",
    "    y_labels_test_path = model_dir / 'y_labels_test'\n",
    "    y_pred_test_path = model_dir / 'y_pred_test'\n",
    "    np.save(y_labels_test_path, y_labels_test)\n",
    "    np.save(y_pred_test_path, y_pred_test)\n",
    "\n",
    "    # save the model predictions\n",
    "    y_labels_valid, y_pred_valid = evaluation_pred(best_model, data_loader_valid, stage='validation')\n",
    "    save_evaluations(y_labels_valid, y_pred_valid, LABELS, model_dir, eval_stage='validation')\n",
    "    y_labels_valid_path = model_dir / 'y_labels_valid'\n",
    "    y_pred_valid_path = model_dir / 'y_pred_valid'\n",
    "    np.save(y_labels_valid_path, y_labels_valid)\n",
    "    np.save(y_pred_valid_path, y_pred_valid)\n",
    "\n",
    "    print_log(f\"Finished training for batch size: {batch_size}, learning rate: {lr}\")\n",
    "    print_log(f'-' * 50)"
   ]
  }
 ],
 "metadata": {
  "kernelspec": {
   "display_name": "comp61342_asm",
   "language": "python",
   "name": "python3"
  },
  "language_info": {
   "codemirror_mode": {
    "name": "ipython",
    "version": 3
   },
   "file_extension": ".py",
   "mimetype": "text/x-python",
   "name": "python",
   "nbconvert_exporter": "python",
   "pygments_lexer": "ipython3",
   "version": "3.11.11"
  }
 },
 "nbformat": 4,
 "nbformat_minor": 5
}
